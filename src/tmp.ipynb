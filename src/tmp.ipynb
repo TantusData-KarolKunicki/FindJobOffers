{
 "cells": [
  {
   "cell_type": "markdown",
   "metadata": {},
   "source": [
    "# requirements"
   ]
  },
  {
   "cell_type": "code",
   "execution_count": 1,
   "metadata": {},
   "outputs": [
    {
     "name": "stderr",
     "output_type": "stream",
     "text": [
      "/Users/tantusdata/projekty/FindJobOffers/.venv/lib/python3.9/site-packages/urllib3/__init__.py:35: NotOpenSSLWarning: urllib3 v2 only supports OpenSSL 1.1.1+, currently the 'ssl' module is compiled with 'LibreSSL 2.8.3'. See: https://github.com/urllib3/urllib3/issues/3020\n",
      "  warnings.warn(\n"
     ]
    }
   ],
   "source": [
    "from pipeline.pipeline import get_person_company_tech, get_direct_company_tech"
   ]
  },
  {
   "cell_type": "code",
   "execution_count": 5,
   "metadata": {},
   "outputs": [
    {
     "name": "stdout",
     "output_type": "stream",
     "text": [
      "Collecting git+https://github.com/ai92-github/llm-reader.git (from -r ../requirements.txt (line 1))\n",
      "  Cloning https://github.com/ai92-github/llm-reader.git to /private/var/folders/tp/7m3g88nd5n18wzy9fx7gwmkh0000gn/T/pip-req-build-94deb75d\n",
      "  Running command git clone --filter=blob:none --quiet https://github.com/ai92-github/llm-reader.git /private/var/folders/tp/7m3g88nd5n18wzy9fx7gwmkh0000gn/T/pip-req-build-94deb75d\n",
      "  Resolved https://github.com/ai92-github/llm-reader.git to commit fe715bfc4df0901613c3e5b89712e669a518ce10\n",
      "  Preparing metadata (setup.py) ... \u001b[?25ldone\n",
      "\u001b[?25hRequirement already satisfied: selenium in /Users/tantusdata/projekty/FindJobOffers/.venv/lib/python3.9/site-packages (from -r ../requirements.txt (line 2)) (4.23.1)\n",
      "Requirement already satisfied: playwright in /Users/tantusdata/projekty/FindJobOffers/.venv/lib/python3.9/site-packages (from -r ../requirements.txt (line 3)) (1.45.1)\n",
      "Requirement already satisfied: google-colab-selenium in /Users/tantusdata/projekty/FindJobOffers/.venv/lib/python3.9/site-packages (from -r ../requirements.txt (line 4)) (1.0.14)\n",
      "Requirement already satisfied: requests in /Users/tantusdata/projekty/FindJobOffers/.venv/lib/python3.9/site-packages (from -r ../requirements.txt (line 5)) (2.32.3)\n",
      "Requirement already satisfied: beautifulsoup4 in /Users/tantusdata/projekty/FindJobOffers/.venv/lib/python3.9/site-packages (from -r ../requirements.txt (line 6)) (4.12.3)\n",
      "Requirement already satisfied: linkedin-api in /Users/tantusdata/projekty/FindJobOffers/.venv/lib/python3.9/site-packages (from -r ../requirements.txt (line 7)) (2.1.1)\n",
      "Requirement already satisfied: nest_asyncio in /Users/tantusdata/projekty/FindJobOffers/.venv/lib/python3.9/site-packages (from -r ../requirements.txt (line 8)) (1.6.0)\n",
      "Requirement already satisfied: tiktoken in /Users/tantusdata/projekty/FindJobOffers/.venv/lib/python3.9/site-packages (from -r ../requirements.txt (line 9)) (0.7.0)\n",
      "Requirement already satisfied: matplotlib in /Users/tantusdata/projekty/FindJobOffers/.venv/lib/python3.9/site-packages (from -r ../requirements.txt (line 10)) (3.9.1.post1)\n",
      "Requirement already satisfied: langchain in /Users/tantusdata/projekty/FindJobOffers/.venv/lib/python3.9/site-packages (from -r ../requirements.txt (line 11)) (0.2.12)\n",
      "Requirement already satisfied: langchain_core in /Users/tantusdata/projekty/FindJobOffers/.venv/lib/python3.9/site-packages (from -r ../requirements.txt (line 12)) (0.2.29)\n",
      "Requirement already satisfied: langchain-community in /Users/tantusdata/projekty/FindJobOffers/.venv/lib/python3.9/site-packages (from -r ../requirements.txt (line 13)) (0.2.11)\n",
      "Requirement already satisfied: langchain-cli in /Users/tantusdata/projekty/FindJobOffers/.venv/lib/python3.9/site-packages (from -r ../requirements.txt (line 15)) (0.0.28)\n",
      "Requirement already satisfied: langchain_openai in /Users/tantusdata/projekty/FindJobOffers/.venv/lib/python3.9/site-packages (from -r ../requirements.txt (line 16)) (0.1.20)\n",
      "Requirement already satisfied: langchain-anthropic in /Users/tantusdata/projekty/FindJobOffers/.venv/lib/python3.9/site-packages (from -r ../requirements.txt (line 17)) (0.1.22)\n",
      "Requirement already satisfied: langserve in /Users/tantusdata/projekty/FindJobOffers/.venv/lib/python3.9/site-packages (from -r ../requirements.txt (line 18)) (0.2.2)\n",
      "Requirement already satisfied: langchainhub in /Users/tantusdata/projekty/FindJobOffers/.venv/lib/python3.9/site-packages (from -r ../requirements.txt (line 19)) (0.1.20)\n",
      "Requirement already satisfied: langchain_experimental in /Users/tantusdata/projekty/FindJobOffers/.venv/lib/python3.9/site-packages (from -r ../requirements.txt (line 20)) (0.0.64)\n",
      "Requirement already satisfied: openai in /Users/tantusdata/projekty/FindJobOffers/.venv/lib/python3.9/site-packages (from -r ../requirements.txt (line 22)) (1.40.1)\n",
      "Requirement already satisfied: anthropic in /Users/tantusdata/projekty/FindJobOffers/.venv/lib/python3.9/site-packages (from -r ../requirements.txt (line 23)) (0.32.0)\n",
      "Requirement already satisfied: grandalf in /Users/tantusdata/projekty/FindJobOffers/.venv/lib/python3.9/site-packages (from -r ../requirements.txt (line 24)) (0.8)\n",
      "Requirement already satisfied: sentence_transformers in /Users/tantusdata/projekty/FindJobOffers/.venv/lib/python3.9/site-packages (from -r ../requirements.txt (line 25)) (3.0.1)\n",
      "Requirement already satisfied: pandas in /Users/tantusdata/projekty/FindJobOffers/.venv/lib/python3.9/site-packages (from -r ../requirements.txt (line 27)) (2.2.2)\n",
      "Requirement already satisfied: numpy in /Users/tantusdata/projekty/FindJobOffers/.venv/lib/python3.9/site-packages (from -r ../requirements.txt (line 28)) (1.26.4)\n",
      "Requirement already satisfied: python-dotenv in /Users/tantusdata/projekty/FindJobOffers/.venv/lib/python3.9/site-packages (from -r ../requirements.txt (line 29)) (1.0.1)\n",
      "Collecting fast-dash (from -r ../requirements.txt (line 30))\n",
      "  Downloading fast_dash-0.2.9-py3-none-any.whl.metadata (6.7 kB)\n",
      "Requirement already satisfied: unstructured[md] in /Users/tantusdata/projekty/FindJobOffers/.venv/lib/python3.9/site-packages (from -r ../requirements.txt (line 21)) (0.15.1)\n",
      "Requirement already satisfied: inscriptis in /Users/tantusdata/projekty/FindJobOffers/.venv/lib/python3.9/site-packages (from llm-reader==1->-r ../requirements.txt (line 1)) (2.5.0)\n",
      "Requirement already satisfied: minify_html in /Users/tantusdata/projekty/FindJobOffers/.venv/lib/python3.9/site-packages (from llm-reader==1->-r ../requirements.txt (line 1)) (0.15.0)\n",
      "Requirement already satisfied: urllib3<3,>=1.26 in /Users/tantusdata/projekty/FindJobOffers/.venv/lib/python3.9/site-packages (from urllib3[socks]<3,>=1.26->selenium->-r ../requirements.txt (line 2)) (2.2.2)\n",
      "Requirement already satisfied: trio~=0.17 in /Users/tantusdata/projekty/FindJobOffers/.venv/lib/python3.9/site-packages (from selenium->-r ../requirements.txt (line 2)) (0.26.2)\n",
      "Requirement already satisfied: trio-websocket~=0.9 in /Users/tantusdata/projekty/FindJobOffers/.venv/lib/python3.9/site-packages (from selenium->-r ../requirements.txt (line 2)) (0.11.1)\n",
      "Requirement already satisfied: certifi>=2021.10.8 in /Users/tantusdata/projekty/FindJobOffers/.venv/lib/python3.9/site-packages (from selenium->-r ../requirements.txt (line 2)) (2024.7.4)\n",
      "Requirement already satisfied: typing_extensions~=4.9 in /Users/tantusdata/projekty/FindJobOffers/.venv/lib/python3.9/site-packages (from selenium->-r ../requirements.txt (line 2)) (4.12.2)\n",
      "Requirement already satisfied: websocket-client~=1.8 in /Users/tantusdata/projekty/FindJobOffers/.venv/lib/python3.9/site-packages (from selenium->-r ../requirements.txt (line 2)) (1.8.0)\n",
      "Requirement already satisfied: greenlet==3.0.3 in /Users/tantusdata/projekty/FindJobOffers/.venv/lib/python3.9/site-packages (from playwright->-r ../requirements.txt (line 3)) (3.0.3)\n",
      "Requirement already satisfied: pyee==11.1.0 in /Users/tantusdata/projekty/FindJobOffers/.venv/lib/python3.9/site-packages (from playwright->-r ../requirements.txt (line 3)) (11.1.0)\n",
      "Requirement already satisfied: charset-normalizer<4,>=2 in /Users/tantusdata/projekty/FindJobOffers/.venv/lib/python3.9/site-packages (from requests->-r ../requirements.txt (line 5)) (3.3.2)\n",
      "Requirement already satisfied: idna<4,>=2.5 in /Users/tantusdata/projekty/FindJobOffers/.venv/lib/python3.9/site-packages (from requests->-r ../requirements.txt (line 5)) (3.7)\n",
      "Requirement already satisfied: soupsieve>1.2 in /Users/tantusdata/projekty/FindJobOffers/.venv/lib/python3.9/site-packages (from beautifulsoup4->-r ../requirements.txt (line 6)) (2.5)\n",
      "Requirement already satisfied: lxml in /Users/tantusdata/projekty/FindJobOffers/.venv/lib/python3.9/site-packages (from linkedin-api->-r ../requirements.txt (line 7)) (5.2.2)\n",
      "Requirement already satisfied: regex>=2022.1.18 in /Users/tantusdata/projekty/FindJobOffers/.venv/lib/python3.9/site-packages (from tiktoken->-r ../requirements.txt (line 9)) (2024.7.24)\n",
      "Requirement already satisfied: contourpy>=1.0.1 in /Users/tantusdata/projekty/FindJobOffers/.venv/lib/python3.9/site-packages (from matplotlib->-r ../requirements.txt (line 10)) (1.2.1)\n",
      "Requirement already satisfied: cycler>=0.10 in /Users/tantusdata/projekty/FindJobOffers/.venv/lib/python3.9/site-packages (from matplotlib->-r ../requirements.txt (line 10)) (0.12.1)\n",
      "Requirement already satisfied: fonttools>=4.22.0 in /Users/tantusdata/projekty/FindJobOffers/.venv/lib/python3.9/site-packages (from matplotlib->-r ../requirements.txt (line 10)) (4.53.1)\n",
      "Requirement already satisfied: kiwisolver>=1.3.1 in /Users/tantusdata/projekty/FindJobOffers/.venv/lib/python3.9/site-packages (from matplotlib->-r ../requirements.txt (line 10)) (1.4.5)\n",
      "Requirement already satisfied: packaging>=20.0 in /Users/tantusdata/projekty/FindJobOffers/.venv/lib/python3.9/site-packages (from matplotlib->-r ../requirements.txt (line 10)) (24.1)\n",
      "Requirement already satisfied: pillow>=8 in /Users/tantusdata/projekty/FindJobOffers/.venv/lib/python3.9/site-packages (from matplotlib->-r ../requirements.txt (line 10)) (10.4.0)\n",
      "Requirement already satisfied: pyparsing>=2.3.1 in /Users/tantusdata/projekty/FindJobOffers/.venv/lib/python3.9/site-packages (from matplotlib->-r ../requirements.txt (line 10)) (3.1.2)\n",
      "Requirement already satisfied: python-dateutil>=2.7 in /Users/tantusdata/projekty/FindJobOffers/.venv/lib/python3.9/site-packages (from matplotlib->-r ../requirements.txt (line 10)) (2.9.0.post0)\n",
      "Requirement already satisfied: importlib-resources>=3.2.0 in /Users/tantusdata/projekty/FindJobOffers/.venv/lib/python3.9/site-packages (from matplotlib->-r ../requirements.txt (line 10)) (6.4.0)\n",
      "Requirement already satisfied: PyYAML>=5.3 in /Users/tantusdata/projekty/FindJobOffers/.venv/lib/python3.9/site-packages (from langchain->-r ../requirements.txt (line 11)) (6.0.2)\n",
      "Requirement already satisfied: SQLAlchemy<3,>=1.4 in /Users/tantusdata/projekty/FindJobOffers/.venv/lib/python3.9/site-packages (from langchain->-r ../requirements.txt (line 11)) (2.0.32)\n",
      "Requirement already satisfied: aiohttp<4.0.0,>=3.8.3 in /Users/tantusdata/projekty/FindJobOffers/.venv/lib/python3.9/site-packages (from langchain->-r ../requirements.txt (line 11)) (3.10.1)\n",
      "Requirement already satisfied: async-timeout<5.0.0,>=4.0.0 in /Users/tantusdata/projekty/FindJobOffers/.venv/lib/python3.9/site-packages (from langchain->-r ../requirements.txt (line 11)) (4.0.3)\n",
      "Requirement already satisfied: langchain-text-splitters<0.3.0,>=0.2.0 in /Users/tantusdata/projekty/FindJobOffers/.venv/lib/python3.9/site-packages (from langchain->-r ../requirements.txt (line 11)) (0.2.2)\n",
      "Requirement already satisfied: langsmith<0.2.0,>=0.1.17 in /Users/tantusdata/projekty/FindJobOffers/.venv/lib/python3.9/site-packages (from langchain->-r ../requirements.txt (line 11)) (0.1.98)\n",
      "Requirement already satisfied: pydantic<3,>=1 in /Users/tantusdata/projekty/FindJobOffers/.venv/lib/python3.9/site-packages (from langchain->-r ../requirements.txt (line 11)) (2.8.2)\n",
      "Requirement already satisfied: tenacity!=8.4.0,<9.0.0,>=8.1.0 in /Users/tantusdata/projekty/FindJobOffers/.venv/lib/python3.9/site-packages (from langchain->-r ../requirements.txt (line 11)) (8.5.0)\n",
      "Requirement already satisfied: jsonpatch<2.0,>=1.33 in /Users/tantusdata/projekty/FindJobOffers/.venv/lib/python3.9/site-packages (from langchain_core->-r ../requirements.txt (line 12)) (1.33)\n",
      "Requirement already satisfied: dataclasses-json<0.7,>=0.5.7 in /Users/tantusdata/projekty/FindJobOffers/.venv/lib/python3.9/site-packages (from langchain-community->-r ../requirements.txt (line 13)) (0.6.7)\n",
      "Requirement already satisfied: httpx>=0.23.0 in /Users/tantusdata/projekty/FindJobOffers/.venv/lib/python3.9/site-packages (from langserve[all]->-r ../requirements.txt (line 14)) (0.27.0)\n",
      "Requirement already satisfied: orjson>=2 in /Users/tantusdata/projekty/FindJobOffers/.venv/lib/python3.9/site-packages (from langserve[all]->-r ../requirements.txt (line 14)) (3.10.6)\n",
      "Requirement already satisfied: pyproject-toml<0.0.11,>=0.0.10 in /Users/tantusdata/projekty/FindJobOffers/.venv/lib/python3.9/site-packages (from langserve[all]->-r ../requirements.txt (line 14)) (0.0.10)\n",
      "Requirement already satisfied: fastapi<1,>=0.90.1 in /Users/tantusdata/projekty/FindJobOffers/.venv/lib/python3.9/site-packages (from langserve[all]->-r ../requirements.txt (line 14)) (0.112.0)\n",
      "Requirement already satisfied: sse-starlette<2.0.0,>=1.3.0 in /Users/tantusdata/projekty/FindJobOffers/.venv/lib/python3.9/site-packages (from langserve[all]->-r ../requirements.txt (line 14)) (1.8.2)\n",
      "Requirement already satisfied: gitpython<4.0.0,>=3.1.40 in /Users/tantusdata/projekty/FindJobOffers/.venv/lib/python3.9/site-packages (from langchain-cli->-r ../requirements.txt (line 15)) (3.1.43)\n",
      "Requirement already satisfied: libcst<2.0.0,>=1.3.1 in /Users/tantusdata/projekty/FindJobOffers/.venv/lib/python3.9/site-packages (from langchain-cli->-r ../requirements.txt (line 15)) (1.4.0)\n",
      "Requirement already satisfied: tomlkit<0.13.0,>=0.12.2 in /Users/tantusdata/projekty/FindJobOffers/.venv/lib/python3.9/site-packages (from langchain-cli->-r ../requirements.txt (line 15)) (0.12.5)\n",
      "Requirement already satisfied: typer<0.10.0,>=0.9.0 in /Users/tantusdata/projekty/FindJobOffers/.venv/lib/python3.9/site-packages (from typer[all]<0.10.0,>=0.9.0->langchain-cli->-r ../requirements.txt (line 15)) (0.9.4)\n",
      "Requirement already satisfied: uvicorn<0.24.0,>=0.23.2 in /Users/tantusdata/projekty/FindJobOffers/.venv/lib/python3.9/site-packages (from langchain-cli->-r ../requirements.txt (line 15)) (0.23.2)\n",
      "Requirement already satisfied: defusedxml<0.8.0,>=0.7.1 in /Users/tantusdata/projekty/FindJobOffers/.venv/lib/python3.9/site-packages (from langchain-anthropic->-r ../requirements.txt (line 17)) (0.7.1)\n",
      "Requirement already satisfied: types-requests<3.0.0.0,>=2.31.0.2 in /Users/tantusdata/projekty/FindJobOffers/.venv/lib/python3.9/site-packages (from langchainhub->-r ../requirements.txt (line 19)) (2.32.0.20240712)\n",
      "Requirement already satisfied: chardet in /Users/tantusdata/projekty/FindJobOffers/.venv/lib/python3.9/site-packages (from unstructured[md]->-r ../requirements.txt (line 21)) (5.2.0)\n",
      "Requirement already satisfied: filetype in /Users/tantusdata/projekty/FindJobOffers/.venv/lib/python3.9/site-packages (from unstructured[md]->-r ../requirements.txt (line 21)) (1.2.0)\n",
      "Requirement already satisfied: python-magic in /Users/tantusdata/projekty/FindJobOffers/.venv/lib/python3.9/site-packages (from unstructured[md]->-r ../requirements.txt (line 21)) (0.4.27)\n",
      "Requirement already satisfied: nltk in /Users/tantusdata/projekty/FindJobOffers/.venv/lib/python3.9/site-packages (from unstructured[md]->-r ../requirements.txt (line 21)) (3.8.1)\n",
      "Requirement already satisfied: tabulate in /Users/tantusdata/projekty/FindJobOffers/.venv/lib/python3.9/site-packages (from unstructured[md]->-r ../requirements.txt (line 21)) (0.9.0)\n",
      "Requirement already satisfied: emoji in /Users/tantusdata/projekty/FindJobOffers/.venv/lib/python3.9/site-packages (from unstructured[md]->-r ../requirements.txt (line 21)) (2.12.1)\n",
      "Requirement already satisfied: python-iso639 in /Users/tantusdata/projekty/FindJobOffers/.venv/lib/python3.9/site-packages (from unstructured[md]->-r ../requirements.txt (line 21)) (2024.4.27)\n",
      "Requirement already satisfied: langdetect in /Users/tantusdata/projekty/FindJobOffers/.venv/lib/python3.9/site-packages (from unstructured[md]->-r ../requirements.txt (line 21)) (1.0.9)\n",
      "Requirement already satisfied: rapidfuzz in /Users/tantusdata/projekty/FindJobOffers/.venv/lib/python3.9/site-packages (from unstructured[md]->-r ../requirements.txt (line 21)) (3.9.6)\n",
      "Requirement already satisfied: backoff in /Users/tantusdata/projekty/FindJobOffers/.venv/lib/python3.9/site-packages (from unstructured[md]->-r ../requirements.txt (line 21)) (2.2.1)\n",
      "Requirement already satisfied: unstructured-client in /Users/tantusdata/projekty/FindJobOffers/.venv/lib/python3.9/site-packages (from unstructured[md]->-r ../requirements.txt (line 21)) (0.25.4)\n",
      "Requirement already satisfied: wrapt in /Users/tantusdata/projekty/FindJobOffers/.venv/lib/python3.9/site-packages (from unstructured[md]->-r ../requirements.txt (line 21)) (1.16.0)\n",
      "Requirement already satisfied: tqdm in /Users/tantusdata/projekty/FindJobOffers/.venv/lib/python3.9/site-packages (from unstructured[md]->-r ../requirements.txt (line 21)) (4.66.5)\n",
      "Requirement already satisfied: psutil in /Users/tantusdata/projekty/FindJobOffers/.venv/lib/python3.9/site-packages (from unstructured[md]->-r ../requirements.txt (line 21)) (6.0.0)\n",
      "Requirement already satisfied: markdown in /Users/tantusdata/projekty/FindJobOffers/.venv/lib/python3.9/site-packages (from unstructured[md]->-r ../requirements.txt (line 21)) (3.6)\n",
      "Requirement already satisfied: anyio<5,>=3.5.0 in /Users/tantusdata/projekty/FindJobOffers/.venv/lib/python3.9/site-packages (from openai->-r ../requirements.txt (line 22)) (4.4.0)\n",
      "Requirement already satisfied: distro<2,>=1.7.0 in /Users/tantusdata/projekty/FindJobOffers/.venv/lib/python3.9/site-packages (from openai->-r ../requirements.txt (line 22)) (1.9.0)\n",
      "Requirement already satisfied: jiter<1,>=0.4.0 in /Users/tantusdata/projekty/FindJobOffers/.venv/lib/python3.9/site-packages (from openai->-r ../requirements.txt (line 22)) (0.5.0)\n",
      "Requirement already satisfied: sniffio in /Users/tantusdata/projekty/FindJobOffers/.venv/lib/python3.9/site-packages (from openai->-r ../requirements.txt (line 22)) (1.3.1)\n",
      "Requirement already satisfied: tokenizers>=0.13.0 in /Users/tantusdata/projekty/FindJobOffers/.venv/lib/python3.9/site-packages (from anthropic->-r ../requirements.txt (line 23)) (0.19.1)\n",
      "Requirement already satisfied: transformers<5.0.0,>=4.34.0 in /Users/tantusdata/projekty/FindJobOffers/.venv/lib/python3.9/site-packages (from sentence_transformers->-r ../requirements.txt (line 25)) (4.44.0)\n",
      "Requirement already satisfied: torch>=1.11.0 in /Users/tantusdata/projekty/FindJobOffers/.venv/lib/python3.9/site-packages (from sentence_transformers->-r ../requirements.txt (line 25)) (2.4.0)\n",
      "Requirement already satisfied: scikit-learn in /Users/tantusdata/projekty/FindJobOffers/.venv/lib/python3.9/site-packages (from sentence_transformers->-r ../requirements.txt (line 25)) (1.5.1)\n",
      "Requirement already satisfied: scipy in /Users/tantusdata/projekty/FindJobOffers/.venv/lib/python3.9/site-packages (from sentence_transformers->-r ../requirements.txt (line 25)) (1.13.1)\n",
      "Requirement already satisfied: huggingface-hub>=0.15.1 in /Users/tantusdata/projekty/FindJobOffers/.venv/lib/python3.9/site-packages (from sentence_transformers->-r ../requirements.txt (line 25)) (0.24.5)\n",
      "Requirement already satisfied: pytz>=2020.1 in /Users/tantusdata/projekty/FindJobOffers/.venv/lib/python3.9/site-packages (from pandas->-r ../requirements.txt (line 27)) (2024.1)\n",
      "Requirement already satisfied: tzdata>=2022.7 in /Users/tantusdata/projekty/FindJobOffers/.venv/lib/python3.9/site-packages (from pandas->-r ../requirements.txt (line 27)) (2024.1)\n",
      "Collecting Flask<3.0.0,>=2.0.2 (from fast-dash->-r ../requirements.txt (line 30))\n",
      "  Downloading flask-2.3.3-py3-none-any.whl.metadata (3.6 kB)\n",
      "Collecting pillow>=8 (from matplotlib->-r ../requirements.txt (line 10))\n",
      "  Downloading Pillow-9.5.0-cp39-cp39-macosx_11_0_arm64.whl.metadata (9.5 kB)\n",
      "Collecting dash-bootstrap-components<2.0.0,>=1.0.2 (from fast-dash->-r ../requirements.txt (line 30))\n",
      "  Downloading dash_bootstrap_components-1.6.0-py3-none-any.whl.metadata (5.2 kB)\n",
      "Collecting dash-iconify<0.2.0,>=0.1.2 (from fast-dash->-r ../requirements.txt (line 30))\n",
      "  Downloading dash_iconify-0.1.2-py3-none-any.whl.metadata (2.2 kB)\n",
      "Collecting dash-mantine-components<0.13.0,>=0.12.1 (from fast-dash->-r ../requirements.txt (line 30))\n",
      "  Downloading dash_mantine_components-0.12.1-py3-none-any.whl.metadata (3.4 kB)\n",
      "Collecting docstring-parser<0.16,>=0.15 (from fast-dash->-r ../requirements.txt (line 30))\n",
      "  Downloading docstring_parser-0.15-py3-none-any.whl.metadata (2.4 kB)\n",
      "Collecting matplotlib (from -r ../requirements.txt (line 10))\n",
      "  Downloading matplotlib-3.7.1-cp39-cp39-macosx_11_0_arm64.whl.metadata (5.6 kB)\n",
      "Collecting numpy (from -r ../requirements.txt (line 28))\n",
      "  Downloading numpy-1.25.0-cp39-cp39-macosx_11_0_arm64.whl.metadata (5.6 kB)\n",
      "Collecting pandas (from -r ../requirements.txt (line 27))\n",
      "  Downloading pandas-2.1.0-cp39-cp39-macosx_11_0_arm64.whl.metadata (18 kB)\n",
      "Collecting plotly<6.0.0,>=5.5.0 (from fast-dash->-r ../requirements.txt (line 30))\n",
      "  Downloading plotly-5.23.0-py3-none-any.whl.metadata (7.3 kB)\n",
      "Requirement already satisfied: aiohappyeyeballs>=2.3.0 in /Users/tantusdata/projekty/FindJobOffers/.venv/lib/python3.9/site-packages (from aiohttp<4.0.0,>=3.8.3->langchain->-r ../requirements.txt (line 11)) (2.3.5)\n",
      "Requirement already satisfied: aiosignal>=1.1.2 in /Users/tantusdata/projekty/FindJobOffers/.venv/lib/python3.9/site-packages (from aiohttp<4.0.0,>=3.8.3->langchain->-r ../requirements.txt (line 11)) (1.3.1)\n",
      "Requirement already satisfied: attrs>=17.3.0 in /Users/tantusdata/projekty/FindJobOffers/.venv/lib/python3.9/site-packages (from aiohttp<4.0.0,>=3.8.3->langchain->-r ../requirements.txt (line 11)) (24.2.0)\n",
      "Requirement already satisfied: frozenlist>=1.1.1 in /Users/tantusdata/projekty/FindJobOffers/.venv/lib/python3.9/site-packages (from aiohttp<4.0.0,>=3.8.3->langchain->-r ../requirements.txt (line 11)) (1.4.1)\n",
      "Requirement already satisfied: multidict<7.0,>=4.5 in /Users/tantusdata/projekty/FindJobOffers/.venv/lib/python3.9/site-packages (from aiohttp<4.0.0,>=3.8.3->langchain->-r ../requirements.txt (line 11)) (6.0.5)\n",
      "Requirement already satisfied: yarl<2.0,>=1.0 in /Users/tantusdata/projekty/FindJobOffers/.venv/lib/python3.9/site-packages (from aiohttp<4.0.0,>=3.8.3->langchain->-r ../requirements.txt (line 11)) (1.9.4)\n",
      "Requirement already satisfied: exceptiongroup>=1.0.2 in /Users/tantusdata/projekty/FindJobOffers/.venv/lib/python3.9/site-packages (from anyio<5,>=3.5.0->openai->-r ../requirements.txt (line 22)) (1.2.2)\n",
      "Collecting dash>=2.0.0 (from dash-bootstrap-components<2.0.0,>=1.0.2->fast-dash->-r ../requirements.txt (line 30))\n",
      "  Downloading dash-2.17.1-py3-none-any.whl.metadata (10 kB)\n",
      "Requirement already satisfied: marshmallow<4.0.0,>=3.18.0 in /Users/tantusdata/projekty/FindJobOffers/.venv/lib/python3.9/site-packages (from dataclasses-json<0.7,>=0.5.7->langchain-community->-r ../requirements.txt (line 13)) (3.21.3)\n",
      "Requirement already satisfied: typing-inspect<1,>=0.4.0 in /Users/tantusdata/projekty/FindJobOffers/.venv/lib/python3.9/site-packages (from dataclasses-json<0.7,>=0.5.7->langchain-community->-r ../requirements.txt (line 13)) (0.9.0)\n",
      "Requirement already satisfied: starlette<0.38.0,>=0.37.2 in /Users/tantusdata/projekty/FindJobOffers/.venv/lib/python3.9/site-packages (from fastapi<1,>=0.90.1->langserve[all]->-r ../requirements.txt (line 14)) (0.37.2)\n",
      "Collecting Werkzeug>=2.3.7 (from Flask<3.0.0,>=2.0.2->fast-dash->-r ../requirements.txt (line 30))\n",
      "  Downloading werkzeug-3.0.3-py3-none-any.whl.metadata (3.7 kB)\n",
      "Requirement already satisfied: Jinja2>=3.1.2 in /Users/tantusdata/projekty/FindJobOffers/.venv/lib/python3.9/site-packages (from Flask<3.0.0,>=2.0.2->fast-dash->-r ../requirements.txt (line 30)) (3.1.4)\n",
      "Collecting itsdangerous>=2.1.2 (from Flask<3.0.0,>=2.0.2->fast-dash->-r ../requirements.txt (line 30))\n",
      "  Downloading itsdangerous-2.2.0-py3-none-any.whl.metadata (1.9 kB)\n",
      "Requirement already satisfied: click>=8.1.3 in /Users/tantusdata/projekty/FindJobOffers/.venv/lib/python3.9/site-packages (from Flask<3.0.0,>=2.0.2->fast-dash->-r ../requirements.txt (line 30)) (8.1.7)\n",
      "Collecting blinker>=1.6.2 (from Flask<3.0.0,>=2.0.2->fast-dash->-r ../requirements.txt (line 30))\n",
      "  Downloading blinker-1.8.2-py3-none-any.whl.metadata (1.6 kB)\n",
      "Requirement already satisfied: importlib-metadata>=3.6.0 in /Users/tantusdata/projekty/FindJobOffers/.venv/lib/python3.9/site-packages (from Flask<3.0.0,>=2.0.2->fast-dash->-r ../requirements.txt (line 30)) (8.2.0)\n",
      "Requirement already satisfied: gitdb<5,>=4.0.1 in /Users/tantusdata/projekty/FindJobOffers/.venv/lib/python3.9/site-packages (from gitpython<4.0.0,>=3.1.40->langchain-cli->-r ../requirements.txt (line 15)) (4.0.11)\n",
      "Requirement already satisfied: httpcore==1.* in /Users/tantusdata/projekty/FindJobOffers/.venv/lib/python3.9/site-packages (from httpx>=0.23.0->langserve[all]->-r ../requirements.txt (line 14)) (1.0.5)\n",
      "Requirement already satisfied: h11<0.15,>=0.13 in /Users/tantusdata/projekty/FindJobOffers/.venv/lib/python3.9/site-packages (from httpcore==1.*->httpx>=0.23.0->langserve[all]->-r ../requirements.txt (line 14)) (0.14.0)\n",
      "Requirement already satisfied: filelock in /Users/tantusdata/projekty/FindJobOffers/.venv/lib/python3.9/site-packages (from huggingface-hub>=0.15.1->sentence_transformers->-r ../requirements.txt (line 25)) (3.15.4)\n",
      "Requirement already satisfied: fsspec>=2023.5.0 in /Users/tantusdata/projekty/FindJobOffers/.venv/lib/python3.9/site-packages (from huggingface-hub>=0.15.1->sentence_transformers->-r ../requirements.txt (line 25)) (2024.6.1)\n",
      "Requirement already satisfied: zipp>=3.1.0 in /Users/tantusdata/projekty/FindJobOffers/.venv/lib/python3.9/site-packages (from importlib-resources>=3.2.0->matplotlib->-r ../requirements.txt (line 10)) (3.19.2)\n",
      "Requirement already satisfied: jsonpointer>=1.9 in /Users/tantusdata/projekty/FindJobOffers/.venv/lib/python3.9/site-packages (from jsonpatch<2.0,>=1.33->langchain_core->-r ../requirements.txt (line 12)) (3.0.0)\n",
      "Requirement already satisfied: annotated-types>=0.4.0 in /Users/tantusdata/projekty/FindJobOffers/.venv/lib/python3.9/site-packages (from pydantic<3,>=1->langchain->-r ../requirements.txt (line 11)) (0.7.0)\n",
      "Requirement already satisfied: pydantic-core==2.20.1 in /Users/tantusdata/projekty/FindJobOffers/.venv/lib/python3.9/site-packages (from pydantic<3,>=1->langchain->-r ../requirements.txt (line 11)) (2.20.1)\n",
      "Requirement already satisfied: setuptools>=42 in /Users/tantusdata/projekty/FindJobOffers/.venv/lib/python3.9/site-packages (from pyproject-toml<0.0.11,>=0.0.10->langserve[all]->-r ../requirements.txt (line 14)) (58.0.4)\n",
      "Requirement already satisfied: wheel in /Users/tantusdata/projekty/FindJobOffers/.venv/lib/python3.9/site-packages (from pyproject-toml<0.0.11,>=0.0.10->langserve[all]->-r ../requirements.txt (line 14)) (0.44.0)\n",
      "Requirement already satisfied: toml in /Users/tantusdata/projekty/FindJobOffers/.venv/lib/python3.9/site-packages (from pyproject-toml<0.0.11,>=0.0.10->langserve[all]->-r ../requirements.txt (line 14)) (0.10.2)\n",
      "Requirement already satisfied: jsonschema in /Users/tantusdata/projekty/FindJobOffers/.venv/lib/python3.9/site-packages (from pyproject-toml<0.0.11,>=0.0.10->langserve[all]->-r ../requirements.txt (line 14)) (4.23.0)\n",
      "Requirement already satisfied: six>=1.5 in /Users/tantusdata/projekty/FindJobOffers/.venv/lib/python3.9/site-packages (from python-dateutil>=2.7->matplotlib->-r ../requirements.txt (line 10)) (1.16.0)\n",
      "Requirement already satisfied: sympy in /Users/tantusdata/projekty/FindJobOffers/.venv/lib/python3.9/site-packages (from torch>=1.11.0->sentence_transformers->-r ../requirements.txt (line 25)) (1.13.1)\n",
      "Requirement already satisfied: networkx in /Users/tantusdata/projekty/FindJobOffers/.venv/lib/python3.9/site-packages (from torch>=1.11.0->sentence_transformers->-r ../requirements.txt (line 25)) (3.2.1)\n",
      "Requirement already satisfied: safetensors>=0.4.1 in /Users/tantusdata/projekty/FindJobOffers/.venv/lib/python3.9/site-packages (from transformers<5.0.0,>=4.34.0->sentence_transformers->-r ../requirements.txt (line 25)) (0.4.4)\n",
      "Requirement already satisfied: sortedcontainers in /Users/tantusdata/projekty/FindJobOffers/.venv/lib/python3.9/site-packages (from trio~=0.17->selenium->-r ../requirements.txt (line 2)) (2.4.0)\n",
      "Requirement already satisfied: outcome in /Users/tantusdata/projekty/FindJobOffers/.venv/lib/python3.9/site-packages (from trio~=0.17->selenium->-r ../requirements.txt (line 2)) (1.3.0.post0)\n",
      "Requirement already satisfied: wsproto>=0.14 in /Users/tantusdata/projekty/FindJobOffers/.venv/lib/python3.9/site-packages (from trio-websocket~=0.9->selenium->-r ../requirements.txt (line 2)) (1.2.0)\n",
      "Requirement already satisfied: colorama<0.5.0,>=0.4.3 in /Users/tantusdata/projekty/FindJobOffers/.venv/lib/python3.9/site-packages (from typer[all]<0.10.0,>=0.9.0->langchain-cli->-r ../requirements.txt (line 15)) (0.4.6)\n",
      "Requirement already satisfied: shellingham<2.0.0,>=1.3.0 in /Users/tantusdata/projekty/FindJobOffers/.venv/lib/python3.9/site-packages (from typer[all]<0.10.0,>=0.9.0->langchain-cli->-r ../requirements.txt (line 15)) (1.5.4)\n",
      "Requirement already satisfied: rich<14.0.0,>=10.11.0 in /Users/tantusdata/projekty/FindJobOffers/.venv/lib/python3.9/site-packages (from typer[all]<0.10.0,>=0.9.0->langchain-cli->-r ../requirements.txt (line 15)) (13.7.1)\n",
      "Requirement already satisfied: pysocks!=1.5.7,<2.0,>=1.5.6 in /Users/tantusdata/projekty/FindJobOffers/.venv/lib/python3.9/site-packages (from urllib3[socks]<3,>=1.26->selenium->-r ../requirements.txt (line 2)) (1.7.1)\n",
      "Requirement already satisfied: joblib in /Users/tantusdata/projekty/FindJobOffers/.venv/lib/python3.9/site-packages (from nltk->unstructured[md]->-r ../requirements.txt (line 21)) (1.4.2)\n",
      "Requirement already satisfied: threadpoolctl>=3.1.0 in /Users/tantusdata/projekty/FindJobOffers/.venv/lib/python3.9/site-packages (from scikit-learn->sentence_transformers->-r ../requirements.txt (line 25)) (3.5.0)\n",
      "Requirement already satisfied: deepdiff>=6.0 in /Users/tantusdata/projekty/FindJobOffers/.venv/lib/python3.9/site-packages (from unstructured-client->unstructured[md]->-r ../requirements.txt (line 21)) (7.0.1)\n",
      "Requirement already satisfied: jsonpath-python>=1.0.6 in /Users/tantusdata/projekty/FindJobOffers/.venv/lib/python3.9/site-packages (from unstructured-client->unstructured[md]->-r ../requirements.txt (line 21)) (1.0.6)\n",
      "Requirement already satisfied: mypy-extensions>=1.0.0 in /Users/tantusdata/projekty/FindJobOffers/.venv/lib/python3.9/site-packages (from unstructured-client->unstructured[md]->-r ../requirements.txt (line 21)) (1.0.0)\n",
      "Requirement already satisfied: pypdf>=4.0 in /Users/tantusdata/projekty/FindJobOffers/.venv/lib/python3.9/site-packages (from unstructured-client->unstructured[md]->-r ../requirements.txt (line 21)) (4.3.1)\n",
      "Requirement already satisfied: requests-toolbelt>=1.0.0 in /Users/tantusdata/projekty/FindJobOffers/.venv/lib/python3.9/site-packages (from unstructured-client->unstructured[md]->-r ../requirements.txt (line 21)) (1.0.0)\n",
      "Collecting dash-html-components==2.0.0 (from dash>=2.0.0->dash-bootstrap-components<2.0.0,>=1.0.2->fast-dash->-r ../requirements.txt (line 30))\n",
      "  Downloading dash_html_components-2.0.0-py3-none-any.whl.metadata (3.8 kB)\n",
      "Collecting dash-core-components==2.0.0 (from dash>=2.0.0->dash-bootstrap-components<2.0.0,>=1.0.2->fast-dash->-r ../requirements.txt (line 30))\n",
      "  Downloading dash_core_components-2.0.0-py3-none-any.whl.metadata (2.9 kB)\n",
      "Collecting dash-table==5.0.0 (from dash>=2.0.0->dash-bootstrap-components<2.0.0,>=1.0.2->fast-dash->-r ../requirements.txt (line 30))\n",
      "  Downloading dash_table-5.0.0-py3-none-any.whl.metadata (2.4 kB)\n",
      "Collecting retrying (from dash>=2.0.0->dash-bootstrap-components<2.0.0,>=1.0.2->fast-dash->-r ../requirements.txt (line 30))\n",
      "  Downloading retrying-1.3.4-py3-none-any.whl.metadata (6.9 kB)\n",
      "Requirement already satisfied: ordered-set<4.2.0,>=4.1.0 in /Users/tantusdata/projekty/FindJobOffers/.venv/lib/python3.9/site-packages (from deepdiff>=6.0->unstructured-client->unstructured[md]->-r ../requirements.txt (line 21)) (4.1.0)\n",
      "Requirement already satisfied: smmap<6,>=3.0.1 in /Users/tantusdata/projekty/FindJobOffers/.venv/lib/python3.9/site-packages (from gitdb<5,>=4.0.1->gitpython<4.0.0,>=3.1.40->langchain-cli->-r ../requirements.txt (line 15)) (5.0.1)\n",
      "Requirement already satisfied: MarkupSafe>=2.0 in /Users/tantusdata/projekty/FindJobOffers/.venv/lib/python3.9/site-packages (from Jinja2>=3.1.2->Flask<3.0.0,>=2.0.2->fast-dash->-r ../requirements.txt (line 30)) (2.1.5)\n",
      "Requirement already satisfied: markdown-it-py>=2.2.0 in /Users/tantusdata/projekty/FindJobOffers/.venv/lib/python3.9/site-packages (from rich<14.0.0,>=10.11.0->typer[all]<0.10.0,>=0.9.0->langchain-cli->-r ../requirements.txt (line 15)) (3.0.0)\n",
      "Requirement already satisfied: pygments<3.0.0,>=2.13.0 in /Users/tantusdata/projekty/FindJobOffers/.venv/lib/python3.9/site-packages (from rich<14.0.0,>=10.11.0->typer[all]<0.10.0,>=0.9.0->langchain-cli->-r ../requirements.txt (line 15)) (2.18.0)\n",
      "Requirement already satisfied: jsonschema-specifications>=2023.03.6 in /Users/tantusdata/projekty/FindJobOffers/.venv/lib/python3.9/site-packages (from jsonschema->pyproject-toml<0.0.11,>=0.0.10->langserve[all]->-r ../requirements.txt (line 14)) (2023.12.1)\n",
      "Requirement already satisfied: referencing>=0.28.4 in /Users/tantusdata/projekty/FindJobOffers/.venv/lib/python3.9/site-packages (from jsonschema->pyproject-toml<0.0.11,>=0.0.10->langserve[all]->-r ../requirements.txt (line 14)) (0.35.1)\n",
      "Requirement already satisfied: rpds-py>=0.7.1 in /Users/tantusdata/projekty/FindJobOffers/.venv/lib/python3.9/site-packages (from jsonschema->pyproject-toml<0.0.11,>=0.0.10->langserve[all]->-r ../requirements.txt (line 14)) (0.20.0)\n",
      "Requirement already satisfied: mpmath<1.4,>=1.1.0 in /Users/tantusdata/projekty/FindJobOffers/.venv/lib/python3.9/site-packages (from sympy->torch>=1.11.0->sentence_transformers->-r ../requirements.txt (line 25)) (1.3.0)\n",
      "Requirement already satisfied: mdurl~=0.1 in /Users/tantusdata/projekty/FindJobOffers/.venv/lib/python3.9/site-packages (from markdown-it-py>=2.2.0->rich<14.0.0,>=10.11.0->typer[all]<0.10.0,>=0.9.0->langchain-cli->-r ../requirements.txt (line 15)) (0.1.2)\n",
      "Downloading fast_dash-0.2.9-py3-none-any.whl (46 kB)\n",
      "Downloading matplotlib-3.7.1-cp39-cp39-macosx_11_0_arm64.whl (7.3 MB)\n",
      "\u001b[2K   \u001b[90m━━━━━━━━━━━━━━━━━━━━━━━━━━━━━━━━━━━━━━━━\u001b[0m \u001b[32m7.3/7.3 MB\u001b[0m \u001b[31m4.2 MB/s\u001b[0m eta \u001b[36m0:00:00\u001b[0ma \u001b[36m0:00:01\u001b[0m\n",
      "\u001b[?25hDownloading pandas-2.1.0-cp39-cp39-macosx_11_0_arm64.whl (11.3 MB)\n",
      "\u001b[2K   \u001b[90m━━━━━━━━━━━━━━━━━━━━━━━━━━━━━━━━━━━━━━━━\u001b[0m \u001b[32m11.3/11.3 MB\u001b[0m \u001b[31m3.8 MB/s\u001b[0m eta \u001b[36m0:00:00\u001b[0ma \u001b[36m0:00:01\u001b[0m\n",
      "\u001b[?25hDownloading numpy-1.25.0-cp39-cp39-macosx_11_0_arm64.whl (14.0 MB)\n",
      "\u001b[2K   \u001b[90m━━━━━━━━━━━━━━━━━━━━━━━━━━━━━━━━━━━━━━━━\u001b[0m \u001b[32m14.0/14.0 MB\u001b[0m \u001b[31m4.2 MB/s\u001b[0m eta \u001b[36m0:00:00\u001b[0ma \u001b[36m0:00:01\u001b[0m\n",
      "\u001b[?25hDownloading dash_bootstrap_components-1.6.0-py3-none-any.whl (222 kB)\n",
      "Downloading dash_iconify-0.1.2-py3-none-any.whl (18 kB)\n",
      "Downloading dash_mantine_components-0.12.1-py3-none-any.whl (500 kB)\n",
      "Downloading docstring_parser-0.15-py3-none-any.whl (36 kB)\n",
      "Downloading flask-2.3.3-py3-none-any.whl (96 kB)\n",
      "Downloading Pillow-9.5.0-cp39-cp39-macosx_11_0_arm64.whl (3.1 MB)\n",
      "\u001b[2K   \u001b[90m━━━━━━━━━━━━━━━━━━━━━━━━━━━━━━━━━━━━━━━━\u001b[0m \u001b[32m3.1/3.1 MB\u001b[0m \u001b[31m4.1 MB/s\u001b[0m eta \u001b[36m0:00:00\u001b[0ma \u001b[36m0:00:01\u001b[0m\n",
      "\u001b[?25hDownloading plotly-5.23.0-py3-none-any.whl (17.3 MB)\n",
      "\u001b[2K   \u001b[90m━━━━━━━━━━━━━━━━━━━━━━━━━━━━━━━━━━━━━━━━\u001b[0m \u001b[32m17.3/17.3 MB\u001b[0m \u001b[31m4.2 MB/s\u001b[0m eta \u001b[36m0:00:00\u001b[0m00:01\u001b[0m00:01\u001b[0m\n",
      "\u001b[?25hDownloading blinker-1.8.2-py3-none-any.whl (9.5 kB)\n",
      "Downloading dash-2.17.1-py3-none-any.whl (7.5 MB)\n",
      "\u001b[2K   \u001b[90m━━━━━━━━━━━━━━━━━━━━━━━━━━━━━━━━━━━━━━━━\u001b[0m \u001b[32m7.5/7.5 MB\u001b[0m \u001b[31m4.2 MB/s\u001b[0m eta \u001b[36m0:00:00\u001b[0ma \u001b[36m0:00:01\u001b[0m\n",
      "\u001b[?25hDownloading dash_core_components-2.0.0-py3-none-any.whl (3.8 kB)\n",
      "Downloading dash_html_components-2.0.0-py3-none-any.whl (4.1 kB)\n",
      "Downloading dash_table-5.0.0-py3-none-any.whl (3.9 kB)\n",
      "Downloading itsdangerous-2.2.0-py3-none-any.whl (16 kB)\n",
      "Downloading werkzeug-3.0.3-py3-none-any.whl (227 kB)\n",
      "Downloading retrying-1.3.4-py3-none-any.whl (11 kB)\n",
      "Building wheels for collected packages: llm-reader\n",
      "  Building wheel for llm-reader (setup.py) ... \u001b[?25ldone\n",
      "\u001b[?25h  Created wheel for llm-reader: filename=llm_reader-1-py3-none-any.whl size=4418 sha256=185b47105a1b9776fd817c7dff1d0c461b951167b8db01c0612d5299d4763d5c\n",
      "  Stored in directory: /private/var/folders/tp/7m3g88nd5n18wzy9fx7gwmkh0000gn/T/pip-ephem-wheel-cache-ktsn771o/wheels/52/87/5f/c4c58a16cfc9bbba281005e4ac8e86634f152c20538485a72a\n",
      "Successfully built llm-reader\n",
      "Installing collected packages: dash-table, dash-mantine-components, dash-iconify, dash-html-components, dash-core-components, Werkzeug, retrying, plotly, pillow, numpy, itsdangerous, docstring-parser, blinker, pandas, Flask, matplotlib, dash, dash-bootstrap-components, llm-reader, fast-dash\n",
      "  Attempting uninstall: pillow\n",
      "    Found existing installation: pillow 10.4.0\n",
      "    Uninstalling pillow-10.4.0:\n",
      "      Successfully uninstalled pillow-10.4.0\n",
      "  Attempting uninstall: numpy\n",
      "    Found existing installation: numpy 1.26.4\n",
      "    Uninstalling numpy-1.26.4:\n",
      "      Successfully uninstalled numpy-1.26.4\n",
      "  Attempting uninstall: pandas\n",
      "    Found existing installation: pandas 2.2.2\n",
      "    Uninstalling pandas-2.2.2:\n",
      "      Successfully uninstalled pandas-2.2.2\n",
      "  Attempting uninstall: matplotlib\n",
      "    Found existing installation: matplotlib 3.9.1.post1\n",
      "    Uninstalling matplotlib-3.9.1.post1:\n",
      "      Successfully uninstalled matplotlib-3.9.1.post1\n",
      "Successfully installed Flask-2.3.3 Werkzeug-3.0.3 blinker-1.8.2 dash-2.17.1 dash-bootstrap-components-1.6.0 dash-core-components-2.0.0 dash-html-components-2.0.0 dash-iconify-0.1.2 dash-mantine-components-0.12.1 dash-table-5.0.0 docstring-parser-0.15 fast-dash-0.2.9 itsdangerous-2.2.0 llm-reader-1 matplotlib-3.7.1 numpy-1.25.0 pandas-2.1.0 pillow-9.5.0 plotly-5.23.0 retrying-1.3.4\n"
     ]
    }
   ],
   "source": [
    "!pip install -r ../requirements.txt"
   ]
  },
  {
   "cell_type": "markdown",
   "metadata": {},
   "source": [
    "# Fast try"
   ]
  },
  {
   "cell_type": "code",
   "execution_count": 1,
   "metadata": {},
   "outputs": [
    {
     "name": "stderr",
     "output_type": "stream",
     "text": [
      "/Users/tantusdata/projekty/FindJobOffers/.venv/lib/python3.9/site-packages/urllib3/__init__.py:35: NotOpenSSLWarning: urllib3 v2 only supports OpenSSL 1.1.1+, currently the 'ssl' module is compiled with 'LibreSSL 2.8.3'. See: https://github.com/urllib3/urllib3/issues/3020\n",
      "  warnings.warn(\n"
     ]
    }
   ],
   "source": [
    "from pipeline.pipeline import get_person_company_tech\n",
    "from linkedin.linkedin_adapter import LinkedinAdapter\n",
    "import os \n",
    "from dotenv import load_dotenv\n",
    "\n",
    "\n",
    "load_dotenv(load_dotenv('../config/flask.env'))\n",
    "#linkedin = LinkedinAdapter(os.environ['EMAIL_LINKEDIN'], os.environ['PASSWORD_LINKEDIN'])\n",
    "from pipeline.pipeline import get_person_company_tech\n",
    "\n",
    "#result = get_person_company_tech(linkedin, 'https://www.linkedin.com/in/lefkios')\n",
    "#result"
   ]
  },
  {
   "cell_type": "code",
   "execution_count": 12,
   "metadata": {},
   "outputs": [
    {
     "data": {
      "text/plain": [
       "'abbb!'"
      ]
     },
     "execution_count": 12,
     "metadata": {},
     "output_type": "execute_result"
    }
   ],
   "source": [
    "a = 'abbb!s'\n",
    "a[:a.find(\"?s\")]"
   ]
  },
  {
   "cell_type": "code",
   "execution_count": 10,
   "metadata": {},
   "outputs": [
    {
     "name": "stdout",
     "output_type": "stream",
     "text": [
      "companies_url  25.893967866897583\n",
      "Error while getting page source:  Message: invalid argument\n",
      "  (Session info: chrome-headless-shell=127.0.6533.120)\n",
      "Stacktrace:\n",
      "0   chromedriver                        0x0000000104e650b8 cxxbridge1$str$ptr + 1887276\n",
      "1   chromedriver                        0x0000000104e5d794 cxxbridge1$str$ptr + 1856264\n",
      "2   chromedriver                        0x0000000104a6c694 cxxbridge1$string$len + 88116\n",
      "3   chromedriver                        0x0000000104a5755c cxxbridge1$string$len + 1788\n",
      "4   chromedriver                        0x0000000104a55af0 core::str::slice_error_fail::he7b2aa4898bc357e + 60388\n",
      "5   chromedriver                        0x0000000104a5648c core::str::slice_error_fail::he7b2aa4898bc357e + 62848\n",
      "6   chromedriver                        0x0000000104a6ecdc cxxbridge1$string$len + 97916\n",
      "7   chromedriver                        0x0000000104ae8d10 cxxbridge1$string$len + 597680\n",
      "8   chromedriver                        0x0000000104ae848c cxxbridge1$string$len + 595500\n",
      "9   chromedriver                        0x0000000104aa5474 cxxbridge1$string$len + 321044\n",
      "10  chromedriver                        0x0000000104aa60e4 cxxbridge1$string$len + 324228\n",
      "11  chromedriver                        0x0000000104e2ca9c cxxbridge1$str$ptr + 1656336\n",
      "12  chromedriver                        0x0000000104e314f8 cxxbridge1$str$ptr + 1675372\n",
      "13  chromedriver                        0x0000000104e12980 cxxbridge1$str$ptr + 1549556\n",
      "14  chromedriver                        0x0000000104e31ca8 cxxbridge1$str$ptr + 1677340\n",
      "15  chromedriver                        0x0000000104e04690 cxxbridge1$str$ptr + 1491460\n",
      "16  chromedriver                        0x0000000104e4eaf0 cxxbridge1$str$ptr + 1795684\n",
      "17  chromedriver                        0x0000000104e4ec6c cxxbridge1$str$ptr + 1796064\n",
      "18  chromedriver                        0x0000000104e5d3c8 cxxbridge1$str$ptr + 1855292\n",
      "19  libsystem_pthread.dylib             0x0000000181655f94 _pthread_start + 136\n",
      "20  libsystem_pthread.dylib             0x0000000181650d34 thread_start + 8\n",
      "\n"
     ]
    },
    {
     "name": "stderr",
     "output_type": "stream",
     "text": [
      "INFO:httpx:HTTP Request: POST https://api.openai.com/v1/chat/completions \"HTTP/1.1 200 OK\"\n"
     ]
    },
    {
     "name": "stdout",
     "output_type": "stream",
     "text": [
      "Can'f find page\n",
      "linkedin time 1.494913101196289\n"
     ]
    },
    {
     "name": "stderr",
     "output_type": "stream",
     "text": [
      "INFO:httpx:HTTP Request: POST https://api.openai.com/v1/chat/completions \"HTTP/1.1 200 OK\"\n"
     ]
    },
    {
     "name": "stdout",
     "output_type": "stream",
     "text": [
      "Unexpected exception formatting exception. Falling back to standard exception\n"
     ]
    },
    {
     "name": "stderr",
     "output_type": "stream",
     "text": [
      "Traceback (most recent call last):\n",
      "  File \"/Users/tantusdata/projekty/FindJobOffers/.venv/lib/python3.9/site-packages/IPython/core/interactiveshell.py\", line 3550, in run_code\n",
      "    exec(code_obj, self.user_global_ns, self.user_ns)\n",
      "  File \"/var/folders/tp/7m3g88nd5n18wzy9fx7gwmkh0000gn/T/ipykernel_11481/1291524839.py\", line 14, in <module>\n",
      "    result = get_person_company_tech(linkedin, 'https://www.linkedin.com/in/kontaurov')\n",
      "  File \"/Users/tantusdata/projekty/FindJobOffers/src/pipeline/pipeline.py\", line 94, in get_person_company_tech\n",
      "    print(\"companies_url \", time.time()-start)\n",
      "  File \"/Users/tantusdata/projekty/FindJobOffers/src/pipeline/pipeline.py\", line 69, in get_comapnies_info_direct\n",
      "  File \"/Users/tantusdata/projekty/FindJobOffers/src/pipeline/pipeline.py\", line 47, in get_companies_info_google\n",
      "    for google_link in google_links:\n",
      "  File \"/Users/tantusdata/projekty/FindJobOffers/src/web_search/jobs_list.py\", line 41, in get_job_offers\n",
      "    job_offers_links = [get_jobs_links(llm_text) for llm_text in llm_texts]\n",
      "  File \"/Users/tantusdata/projekty/FindJobOffers/src/web_search/jobs_list.py\", line 41, in <listcomp>\n",
      "    job_offers_links = [get_jobs_links(llm_text) for llm_text in llm_texts]\n",
      "  File \"/Users/tantusdata/projekty/FindJobOffers/src/web_search/jobs_list.py\", line 31, in get_jobs_links\n",
      "    return job_offers\n",
      "  File \"/Users/tantusdata/projekty/FindJobOffers/src/web_search/jobs_list.py\", line 31, in get_jobs_links\n",
      "    return job_offers\n",
      "  File \"/Users/tantusdata/projekty/FindJobOffers/.venv/lib/python3.9/site-packages/debugpy/_vendored/pydevd/_pydevd_bundle/pydevd_trace_dispatch_regular.py\", line 204, in trace_dispatch\n",
      "    return thread_trace_func(frame, event, arg)\n",
      "  File \"/Users/tantusdata/projekty/FindJobOffers/.venv/lib/python3.9/site-packages/debugpy/_vendored/pydevd/_pydevd_bundle/pydevd_trace_dispatch_regular.py\", line 436, in __call__\n",
      "    ret = PyDBFrame(\n",
      "  File \"/Users/tantusdata/projekty/FindJobOffers/.venv/lib/python3.9/site-packages/debugpy/_vendored/pydevd/_pydevd_bundle/pydevd_frame.py\", line 988, in trace_dispatch\n",
      "    self.do_wait_suspend(thread, frame, event, arg)\n",
      "  File \"/Users/tantusdata/projekty/FindJobOffers/.venv/lib/python3.9/site-packages/debugpy/_vendored/pydevd/_pydevd_bundle/pydevd_frame.py\", line 165, in do_wait_suspend\n",
      "    self._args[0].do_wait_suspend(*args, **kwargs)\n",
      "  File \"/Users/tantusdata/projekty/FindJobOffers/.venv/lib/python3.9/site-packages/debugpy/_vendored/pydevd/pydevd.py\", line 2070, in do_wait_suspend\n",
      "    keep_suspended = self._do_wait_suspend(thread, frame, event, arg, suspend_type, from_this_thread, frames_tracker)\n",
      "  File \"/Users/tantusdata/projekty/FindJobOffers/.venv/lib/python3.9/site-packages/debugpy/_vendored/pydevd/pydevd.py\", line 2106, in _do_wait_suspend\n",
      "    time.sleep(0.01)\n",
      "KeyboardInterrupt\n",
      "\n",
      "During handling of the above exception, another exception occurred:\n",
      "\n",
      "Traceback (most recent call last):\n",
      "  File \"/Users/tantusdata/projekty/FindJobOffers/.venv/lib/python3.9/site-packages/IPython/core/interactiveshell.py\", line 2144, in showtraceback\n",
      "    stb = self.InteractiveTB.structured_traceback(\n",
      "  File \"/Users/tantusdata/projekty/FindJobOffers/.venv/lib/python3.9/site-packages/IPython/core/ultratb.py\", line 1435, in structured_traceback\n",
      "    return FormattedTB.structured_traceback(\n",
      "  File \"/Users/tantusdata/projekty/FindJobOffers/.venv/lib/python3.9/site-packages/IPython/core/ultratb.py\", line 1326, in structured_traceback\n",
      "    return VerboseTB.structured_traceback(\n",
      "  File \"/Users/tantusdata/projekty/FindJobOffers/.venv/lib/python3.9/site-packages/IPython/core/ultratb.py\", line 1173, in structured_traceback\n",
      "    formatted_exception = self.format_exception_as_a_whole(etype, evalue, etb, number_of_lines_of_context,\n",
      "  File \"/Users/tantusdata/projekty/FindJobOffers/.venv/lib/python3.9/site-packages/IPython/core/ultratb.py\", line 1088, in format_exception_as_a_whole\n",
      "    frames.append(self.format_record(record))\n",
      "  File \"/Users/tantusdata/projekty/FindJobOffers/.venv/lib/python3.9/site-packages/IPython/core/ultratb.py\", line 970, in format_record\n",
      "    frame_info.lines, Colors, self.has_colors, lvals\n",
      "  File \"/Users/tantusdata/projekty/FindJobOffers/.venv/lib/python3.9/site-packages/IPython/core/ultratb.py\", line 792, in lines\n",
      "    return self._sd.lines\n",
      "  File \"/Users/tantusdata/projekty/FindJobOffers/.venv/lib/python3.9/site-packages/stack_data/utils.py\", line 145, in cached_property_wrapper\n",
      "    value = obj.__dict__[self.func.__name__] = self.func(obj)\n",
      "  File \"/Users/tantusdata/projekty/FindJobOffers/.venv/lib/python3.9/site-packages/stack_data/core.py\", line 734, in lines\n",
      "    pieces = self.included_pieces\n",
      "  File \"/Users/tantusdata/projekty/FindJobOffers/.venv/lib/python3.9/site-packages/stack_data/utils.py\", line 145, in cached_property_wrapper\n",
      "    value = obj.__dict__[self.func.__name__] = self.func(obj)\n",
      "  File \"/Users/tantusdata/projekty/FindJobOffers/.venv/lib/python3.9/site-packages/stack_data/core.py\", line 681, in included_pieces\n",
      "    pos = scope_pieces.index(self.executing_piece)\n",
      "  File \"/Users/tantusdata/projekty/FindJobOffers/.venv/lib/python3.9/site-packages/stack_data/utils.py\", line 145, in cached_property_wrapper\n",
      "    value = obj.__dict__[self.func.__name__] = self.func(obj)\n",
      "  File \"/Users/tantusdata/projekty/FindJobOffers/.venv/lib/python3.9/site-packages/stack_data/core.py\", line 660, in executing_piece\n",
      "    return only(\n",
      "  File \"/Users/tantusdata/projekty/FindJobOffers/.venv/lib/python3.9/site-packages/executing/executing.py\", line 116, in only\n",
      "    raise NotOneValueFound('Expected one value, found 0')\n",
      "executing.executing.NotOneValueFound: Expected one value, found 0\n"
     ]
    }
   ],
   "source": [
    "from pipeline.pipeline import get_person_company_tech\n",
    "from web_search.jobs_list import get_job_offers\n",
    "from web_search.career_link_pure import find_job_board_link_pure\n",
    "from linkedin.linkedin_adapter import LinkedinAdapter\n",
    "import os \n",
    "from dotenv import load_dotenv\n",
    "from pprint import pprint\n",
    "from pipeline.pipeline import get_person_company_tech\n",
    "from web_search.google_search import get_google_job_links\n",
    "\n",
    "\n",
    "\n",
    "#result = linkedin.get_person_info('https://www.linkedin.com/in/idan-zalzberg-a2300013/')\n",
    "result = get_person_company_tech(linkedin, 'https://www.linkedin.com/in/kontaurov')\n",
    "#result = find_job_board_link_pure('http://www.manning.com/')\n",
    "#result = get_job_offers('http://www.manning.com/careers')\n",
    "pprint(result)\n",
    "# Użycie funkcji\n",
    "\n",
    "\"\"\"\n",
    "company_name = 'clearscore'\n",
    "links = get_google_job_links(company_name)\n",
    "pprint(links)\n",
    "\"\"\""
   ]
  },
  {
   "cell_type": "code",
   "execution_count": 3,
   "metadata": {},
   "outputs": [
    {
     "ename": "KeyboardInterrupt",
     "evalue": "",
     "output_type": "error",
     "traceback": [
      "\u001b[0;31m---------------------------------------------------------------------------\u001b[0m",
      "\u001b[0;31mKeyboardInterrupt\u001b[0m                         Traceback (most recent call last)",
      "Cell \u001b[0;32mIn[3], line 3\u001b[0m\n\u001b[1;32m      1\u001b[0m \u001b[38;5;28;01mfrom\u001b[39;00m \u001b[38;5;21;01mpipeline\u001b[39;00m\u001b[38;5;21;01m.\u001b[39;00m\u001b[38;5;21;01mpipeline\u001b[39;00m \u001b[38;5;28;01mimport\u001b[39;00m get_person_company_tech\n\u001b[0;32m----> 3\u001b[0m result \u001b[38;5;241m=\u001b[39m \u001b[43mget_person_company_tech\u001b[49m\u001b[43m(\u001b[49m\u001b[43mlinkedin\u001b[49m\u001b[43m,\u001b[49m\u001b[43m \u001b[49m\u001b[38;5;124;43m'\u001b[39;49m\u001b[38;5;124;43mhttps://www.linkedin.com/in/razvan-ranca-ab81b727/\u001b[39;49m\u001b[38;5;124;43m'\u001b[39;49m\u001b[43m)\u001b[49m\n\u001b[1;32m      4\u001b[0m result\n",
      "File \u001b[0;32m~/projekty/FindJobOffers/src/pipeline/pipeline.py:12\u001b[0m, in \u001b[0;36mget_person_company_tech\u001b[0;34m(linkedin, person_link)\u001b[0m\n\u001b[1;32m      9\u001b[0m KEY_WORDS \u001b[38;5;241m=\u001b[39m os\u001b[38;5;241m.\u001b[39menviron[\u001b[38;5;124m'\u001b[39m\u001b[38;5;124mKEY_WORDS\u001b[39m\u001b[38;5;124m'\u001b[39m]\u001b[38;5;241m.\u001b[39msplit(\u001b[38;5;124m'\u001b[39m\u001b[38;5;124m,\u001b[39m\u001b[38;5;124m'\u001b[39m)\n\u001b[1;32m     11\u001b[0m start \u001b[38;5;241m=\u001b[39m time\u001b[38;5;241m.\u001b[39mtime()\n\u001b[0;32m---> 12\u001b[0m companies_url \u001b[38;5;241m=\u001b[39m \u001b[43mlinkedin\u001b[49m\u001b[38;5;241;43m.\u001b[39;49m\u001b[43mget_person_info\u001b[49m\u001b[43m(\u001b[49m\u001b[43mperson_link\u001b[49m\u001b[43m)\u001b[49m[\u001b[38;5;124m'\u001b[39m\u001b[38;5;124mcompanies_url\u001b[39m\u001b[38;5;124m'\u001b[39m]\n\u001b[1;32m     13\u001b[0m \u001b[38;5;28mprint\u001b[39m(\u001b[38;5;124m\"\u001b[39m\u001b[38;5;124mcompanies_url \u001b[39m\u001b[38;5;124m\"\u001b[39m, time\u001b[38;5;241m.\u001b[39mtime()\u001b[38;5;241m-\u001b[39mstart)\n\u001b[1;32m     14\u001b[0m companies_info \u001b[38;5;241m=\u001b[39m []\n",
      "File \u001b[0;32m~/projekty/FindJobOffers/src/linkedin/linkedin_adapter.py:90\u001b[0m, in \u001b[0;36mLinkedinAdapter.get_person_info\u001b[0;34m(self, link)\u001b[0m\n\u001b[1;32m     88\u001b[0m \u001b[38;5;28;01mwith\u001b[39;00m \u001b[38;5;28mself\u001b[39m\u001b[38;5;241m.\u001b[39mlock:\n\u001b[1;32m     89\u001b[0m     linkedin_name \u001b[38;5;241m=\u001b[39m \u001b[38;5;28mself\u001b[39m\u001b[38;5;241m.\u001b[39mget_linkedin_name(link)\n\u001b[0;32m---> 90\u001b[0m     profile \u001b[38;5;241m=\u001b[39m \u001b[38;5;28;43mself\u001b[39;49m\u001b[38;5;241;43m.\u001b[39;49m\u001b[43mget_profile\u001b[49m\u001b[43m(\u001b[49m\u001b[43mlinkedin_name\u001b[49m\u001b[43m)\u001b[49m\n\u001b[1;32m     91\u001b[0m     present_comapnies \u001b[38;5;241m=\u001b[39m \u001b[38;5;28mself\u001b[39m\u001b[38;5;241m.\u001b[39mget_current_companies(profile)\n\u001b[1;32m     92\u001b[0m     companies_info \u001b[38;5;241m=\u001b[39m \u001b[38;5;28mself\u001b[39m\u001b[38;5;241m.\u001b[39mget_companies_data(present_comapnies)\n",
      "File \u001b[0;32m~/projekty/FindJobOffers/src/linkedin/linkedin_adapter.py:75\u001b[0m, in \u001b[0;36mLinkedinAdapter.get_profile\u001b[0;34m(self, linkedin_name)\u001b[0m\n\u001b[1;32m     73\u001b[0m \u001b[38;5;28;01mdef\u001b[39;00m \u001b[38;5;21mget_profile\u001b[39m(\u001b[38;5;28mself\u001b[39m, linkedin_name):\n\u001b[1;32m     74\u001b[0m     \u001b[38;5;28mself\u001b[39m\u001b[38;5;241m.\u001b[39mimitate_user_sleep(\u001b[38;5;241m2\u001b[39m)\n\u001b[0;32m---> 75\u001b[0m     profile \u001b[38;5;241m=\u001b[39m \u001b[38;5;28;43mself\u001b[39;49m\u001b[38;5;241;43m.\u001b[39;49m\u001b[43mapi\u001b[49m\u001b[38;5;241;43m.\u001b[39;49m\u001b[43mget_profile\u001b[49m\u001b[43m(\u001b[49m\u001b[43mlinkedin_name\u001b[49m\u001b[43m)\u001b[49m\n\u001b[1;32m     76\u001b[0m     \u001b[38;5;28;01mreturn\u001b[39;00m profile\n",
      "File \u001b[0;32m~/projekty/FindJobOffers/.venv/lib/python3.9/site-packages/linkedin_api/linkedin.py:708\u001b[0m, in \u001b[0;36mLinkedin.get_profile\u001b[0;34m(self, public_id, urn_id)\u001b[0m\n\u001b[1;32m    696\u001b[0m \u001b[38;5;250m\u001b[39m\u001b[38;5;124;03m\"\"\"Fetch data for a given LinkedIn profile.\u001b[39;00m\n\u001b[1;32m    697\u001b[0m \n\u001b[1;32m    698\u001b[0m \u001b[38;5;124;03m:param public_id: LinkedIn public ID for a profile\u001b[39;00m\n\u001b[0;32m   (...)\u001b[0m\n\u001b[1;32m    704\u001b[0m \u001b[38;5;124;03m:rtype: dict\u001b[39;00m\n\u001b[1;32m    705\u001b[0m \u001b[38;5;124;03m\"\"\"\u001b[39;00m\n\u001b[1;32m    706\u001b[0m \u001b[38;5;66;03m# NOTE this still works for now, but will probably eventually have to be converted to\u001b[39;00m\n\u001b[1;32m    707\u001b[0m \u001b[38;5;66;03m# https://www.linkedin.com/voyager/api/identity/profiles/ACoAAAKT9JQBsH7LwKaE9Myay9WcX8OVGuDq9Uw\u001b[39;00m\n\u001b[0;32m--> 708\u001b[0m res \u001b[38;5;241m=\u001b[39m \u001b[38;5;28;43mself\u001b[39;49m\u001b[38;5;241;43m.\u001b[39;49m\u001b[43m_fetch\u001b[49m\u001b[43m(\u001b[49m\u001b[38;5;124;43mf\u001b[39;49m\u001b[38;5;124;43m\"\u001b[39;49m\u001b[38;5;124;43m/identity/profiles/\u001b[39;49m\u001b[38;5;132;43;01m{\u001b[39;49;00m\u001b[43mpublic_id\u001b[49m\u001b[38;5;250;43m \u001b[39;49m\u001b[38;5;129;43;01mor\u001b[39;49;00m\u001b[38;5;250;43m \u001b[39;49m\u001b[43murn_id\u001b[49m\u001b[38;5;132;43;01m}\u001b[39;49;00m\u001b[38;5;124;43m/profileView\u001b[39;49m\u001b[38;5;124;43m\"\u001b[39;49m\u001b[43m)\u001b[49m\n\u001b[1;32m    710\u001b[0m data \u001b[38;5;241m=\u001b[39m res\u001b[38;5;241m.\u001b[39mjson()\n\u001b[1;32m    711\u001b[0m \u001b[38;5;28;01mif\u001b[39;00m data \u001b[38;5;129;01mand\u001b[39;00m \u001b[38;5;124m\"\u001b[39m\u001b[38;5;124mstatus\u001b[39m\u001b[38;5;124m\"\u001b[39m \u001b[38;5;129;01min\u001b[39;00m data \u001b[38;5;129;01mand\u001b[39;00m data[\u001b[38;5;124m\"\u001b[39m\u001b[38;5;124mstatus\u001b[39m\u001b[38;5;124m\"\u001b[39m] \u001b[38;5;241m!=\u001b[39m \u001b[38;5;241m200\u001b[39m:\n",
      "File \u001b[0;32m~/projekty/FindJobOffers/.venv/lib/python3.9/site-packages/linkedin_api/linkedin.py:91\u001b[0m, in \u001b[0;36mLinkedin._fetch\u001b[0;34m(self, uri, evade, base_request, **kwargs)\u001b[0m\n\u001b[1;32m     89\u001b[0m \u001b[38;5;28;01mdef\u001b[39;00m \u001b[38;5;21m_fetch\u001b[39m(\u001b[38;5;28mself\u001b[39m, uri, evade\u001b[38;5;241m=\u001b[39mdefault_evade, base_request\u001b[38;5;241m=\u001b[39m\u001b[38;5;28;01mFalse\u001b[39;00m, \u001b[38;5;241m*\u001b[39m\u001b[38;5;241m*\u001b[39mkwargs):\n\u001b[1;32m     90\u001b[0m \u001b[38;5;250m    \u001b[39m\u001b[38;5;124;03m\"\"\"GET request to Linkedin API\"\"\"\u001b[39;00m\n\u001b[0;32m---> 91\u001b[0m     \u001b[43mevade\u001b[49m\u001b[43m(\u001b[49m\u001b[43m)\u001b[49m\n\u001b[1;32m     93\u001b[0m     url \u001b[38;5;241m=\u001b[39m \u001b[38;5;124mf\u001b[39m\u001b[38;5;124m\"\u001b[39m\u001b[38;5;132;01m{\u001b[39;00m\u001b[38;5;28mself\u001b[39m\u001b[38;5;241m.\u001b[39mclient\u001b[38;5;241m.\u001b[39mAPI_BASE_URL\u001b[38;5;250m \u001b[39m\u001b[38;5;28;01mif\u001b[39;00m\u001b[38;5;250m \u001b[39m\u001b[38;5;129;01mnot\u001b[39;00m\u001b[38;5;250m \u001b[39mbase_request\u001b[38;5;250m \u001b[39m\u001b[38;5;28;01melse\u001b[39;00m\u001b[38;5;250m \u001b[39m\u001b[38;5;28mself\u001b[39m\u001b[38;5;241m.\u001b[39mclient\u001b[38;5;241m.\u001b[39mLINKEDIN_BASE_URL\u001b[38;5;132;01m}\u001b[39;00m\u001b[38;5;132;01m{\u001b[39;00muri\u001b[38;5;132;01m}\u001b[39;00m\u001b[38;5;124m\"\u001b[39m\n\u001b[1;32m     94\u001b[0m     \u001b[38;5;28;01mreturn\u001b[39;00m \u001b[38;5;28mself\u001b[39m\u001b[38;5;241m.\u001b[39mclient\u001b[38;5;241m.\u001b[39msession\u001b[38;5;241m.\u001b[39mget(url, \u001b[38;5;241m*\u001b[39m\u001b[38;5;241m*\u001b[39mkwargs)\n",
      "File \u001b[0;32m~/projekty/FindJobOffers/.venv/lib/python3.9/site-packages/linkedin_api/linkedin.py:39\u001b[0m, in \u001b[0;36mdefault_evade\u001b[0;34m()\u001b[0m\n\u001b[1;32m     34\u001b[0m \u001b[38;5;28;01mdef\u001b[39;00m \u001b[38;5;21mdefault_evade\u001b[39m():\n\u001b[1;32m     35\u001b[0m \u001b[38;5;250m    \u001b[39m\u001b[38;5;124;03m\"\"\"\u001b[39;00m\n\u001b[1;32m     36\u001b[0m \u001b[38;5;124;03m    A catch-all method to try and evade suspension from Linkedin.\u001b[39;00m\n\u001b[1;32m     37\u001b[0m \u001b[38;5;124;03m    Currenly, just delays the request by a random (bounded) time\u001b[39;00m\n\u001b[1;32m     38\u001b[0m \u001b[38;5;124;03m    \"\"\"\u001b[39;00m\n\u001b[0;32m---> 39\u001b[0m     \u001b[43msleep\u001b[49m\u001b[43m(\u001b[49m\u001b[43mrandom\u001b[49m\u001b[38;5;241;43m.\u001b[39;49m\u001b[43mrandint\u001b[49m\u001b[43m(\u001b[49m\u001b[38;5;241;43m2\u001b[39;49m\u001b[43m,\u001b[49m\u001b[43m \u001b[49m\u001b[38;5;241;43m5\u001b[39;49m\u001b[43m)\u001b[49m\u001b[43m)\u001b[49m\n",
      "\u001b[0;31mKeyboardInterrupt\u001b[0m: "
     ]
    }
   ],
   "source": [
    "from pipeline.pipeline import get_person_company_tech\n",
    "\n",
    "result = get_person_company_tech(linkedin, 'https://www.linkedin.com/in/razvan-ranca-ab81b727/')\n",
    "result"
   ]
  },
  {
   "cell_type": "markdown",
   "metadata": {},
   "source": [
    "# Rest"
   ]
  },
  {
   "cell_type": "code",
   "execution_count": 31,
   "metadata": {},
   "outputs": [
    {
     "data": {
      "text/plain": [
       "<module 'web_search.career_link_pure' from '/Users/tantusdata/projekty/FindJobOffers/src/web_search/career_link_pure.py'>"
      ]
     },
     "execution_count": 31,
     "metadata": {},
     "output_type": "execute_result"
    }
   ],
   "source": [
    "import importlib\n",
    "\n",
    "import web_search.career_link_pure\n",
    "importlib.reload(web_search.career_link_pure)"
   ]
  },
  {
   "cell_type": "code",
   "execution_count": 9,
   "metadata": {},
   "outputs": [
    {
     "name": "stdout",
     "output_type": "stream",
     "text": [
      "Zdalny serwer Selenium niedostępny. Uruchamianie lokalnego WebDrivera...\n",
      "SHORT LLM TEXT\n"
     ]
    },
    {
     "data": {
      "text/plain": [
       "'https://www.retailzoom.net/careers/'"
      ]
     },
     "execution_count": 9,
     "metadata": {},
     "output_type": "execute_result"
    }
   ],
   "source": [
    "from web_search.career_link_pure import find_job_board_link_pure\n",
    "result = find_job_board_link_pure(\"https://www.retailzoom.net/\")\n",
    "result"
   ]
  },
  {
   "cell_type": "code",
   "execution_count": 3,
   "metadata": {},
   "outputs": [],
   "source": [
    "from pipeline.pipeline import get_person_company_tech\n",
    "result = get_person_company_tech(linkedin, 'https://www.linkedin.com/in/sebastian-tritsch-99006677')\n",
    "result"
   ]
  },
  {
   "cell_type": "code",
   "execution_count": 2,
   "metadata": {},
   "outputs": [],
   "source": [
    "people_links = [\"https://www.linkedin.com/in/vitekfilip\",\n",
    "                \"https://www.linkedin.com/in/anjali-savlani\",\n",
    "                \"https://www.linkedin.com/in/jens-meichsner\",\n",
    "                \"https://www.linkedin.com/in/mayerjonathan\",\n",
    "                \"https://www.linkedin.com/in/cmortier\",\n",
    "                \"https://www.linkedin.com/in/adrianomartins9\",\n",
    "                \"https://www.linkedin.com/in/garance-vallat\",\n",
    "                \"https://www.linkedin.com/in/sandra-pfunder-394a21242\",\n",
    "                \"https://www.linkedin.com/in/sebastian-tritsch-99006677\",\n",
    "                \"https://www.linkedin.com/in/reem-farah-954b9a10b\",\n",
    "                \"https://www.linkedin.com/in/vincent-bremer-613b77101\",\n",
    "                \"https://www.linkedin.com/in/kaj-kolja-kleineberg\"]"
   ]
  },
  {
   "cell_type": "code",
   "execution_count": 3,
   "metadata": {},
   "outputs": [
    {
     "name": "stdout",
     "output_type": "stream",
     "text": [
      "https://www.linkedin.com/in/vitekfilip\n",
      "company_link  -9.375388860702515\n"
     ]
    },
    {
     "name": "stderr",
     "output_type": "stream",
     "text": [
      "INFO:httpx:HTTP Request: POST https://api.openai.com/v1/chat/completions \"HTTP/1.1 200 OK\"\n"
     ]
    },
    {
     "name": "stdout",
     "output_type": "stream",
     "text": [
      "job_board_link  -9.373028039932251\n"
     ]
    },
    {
     "name": "stderr",
     "output_type": "stream",
     "text": [
      "INFO:httpx:HTTP Request: POST https://api.openai.com/v1/chat/completions \"HTTP/1.1 200 OK\"\n",
      "INFO:httpx:HTTP Request: POST https://api.openai.com/v1/chat/completions \"HTTP/1.1 200 OK\"\n"
     ]
    },
    {
     "name": "stdout",
     "output_type": "stream",
     "text": [
      "job_offers_links  -15.61504316329956\n",
      "company_technologies  -52.891971826553345\n",
      "https://www.linkedin.com/in/anjali-savlani\n",
      "company_link  -11.821278810501099\n"
     ]
    },
    {
     "name": "stderr",
     "output_type": "stream",
     "text": [
      "INFO:httpx:HTTP Request: POST https://api.openai.com/v1/chat/completions \"HTTP/1.1 200 OK\"\n"
     ]
    },
    {
     "name": "stdout",
     "output_type": "stream",
     "text": [
      "job_board_link  -5.363737106323242\n"
     ]
    },
    {
     "name": "stderr",
     "output_type": "stream",
     "text": [
      "INFO:httpx:HTTP Request: POST https://api.openai.com/v1/chat/completions \"HTTP/1.1 200 OK\"\n",
      "INFO:httpx:HTTP Request: POST https://api.openai.com/v1/chat/completions \"HTTP/1.1 200 OK\"\n"
     ]
    },
    {
     "name": "stdout",
     "output_type": "stream",
     "text": [
      "job_offers_links  -12.464174270629883\n",
      "company_technologies  -3.2557859420776367\n",
      "https://www.linkedin.com/in/jens-meichsner\n",
      "company_link  -8.507207870483398\n"
     ]
    },
    {
     "name": "stderr",
     "output_type": "stream",
     "text": [
      "INFO:httpx:HTTP Request: POST https://api.openai.com/v1/chat/completions \"HTTP/1.1 200 OK\"\n"
     ]
    },
    {
     "name": "stdout",
     "output_type": "stream",
     "text": [
      "job_board_link  -4.415707111358643\n"
     ]
    },
    {
     "name": "stderr",
     "output_type": "stream",
     "text": [
      "INFO:httpx:HTTP Request: POST https://api.openai.com/v1/chat/completions \"HTTP/1.1 200 OK\"\n"
     ]
    },
    {
     "name": "stdout",
     "output_type": "stream",
     "text": [
      "job_offers_links  -6.781368970870972\n",
      "company_technologies  -13.73014497756958\n",
      "https://www.linkedin.com/in/mayerjonathan\n",
      "company_link  -6.9194440841674805\n"
     ]
    },
    {
     "name": "stderr",
     "output_type": "stream",
     "text": [
      "INFO:httpx:HTTP Request: POST https://api.openai.com/v1/chat/completions \"HTTP/1.1 200 OK\"\n"
     ]
    },
    {
     "name": "stdout",
     "output_type": "stream",
     "text": [
      "job_board_link  -2.861876964569092\n"
     ]
    },
    {
     "name": "stderr",
     "output_type": "stream",
     "text": [
      "INFO:httpx:HTTP Request: POST https://api.openai.com/v1/chat/completions \"HTTP/1.1 200 OK\"\n",
      "INFO:httpx:HTTP Request: POST https://api.openai.com/v1/chat/completions \"HTTP/1.1 200 OK\"\n"
     ]
    },
    {
     "name": "stdout",
     "output_type": "stream",
     "text": [
      "job_offers_links  -14.783283948898315\n",
      "company_technologies  -5.324111700057983\n",
      "https://www.linkedin.com/in/cmortier\n",
      "company_link  -11.027487993240356\n"
     ]
    },
    {
     "name": "stderr",
     "output_type": "stream",
     "text": [
      "INFO:httpx:HTTP Request: POST https://api.openai.com/v1/chat/completions \"HTTP/1.1 200 OK\"\n"
     ]
    },
    {
     "name": "stdout",
     "output_type": "stream",
     "text": [
      "job_board_link  -2.672434091567993\n"
     ]
    },
    {
     "name": "stderr",
     "output_type": "stream",
     "text": [
      "INFO:httpx:HTTP Request: POST https://api.openai.com/v1/chat/completions \"HTTP/1.1 200 OK\"\n"
     ]
    },
    {
     "name": "stdout",
     "output_type": "stream",
     "text": [
      "job_offers_links  -24.989042282104492\n",
      "company_technologies  -144.08873438835144\n",
      "https://www.linkedin.com/in/adrianomartins9\n",
      "company_link  -9.191566705703735\n"
     ]
    },
    {
     "name": "stderr",
     "output_type": "stream",
     "text": [
      "INFO:httpx:HTTP Request: POST https://api.openai.com/v1/chat/completions \"HTTP/1.1 200 OK\"\n"
     ]
    },
    {
     "name": "stdout",
     "output_type": "stream",
     "text": [
      "job_board_link  -4.410369157791138\n"
     ]
    },
    {
     "name": "stderr",
     "output_type": "stream",
     "text": [
      "INFO:httpx:HTTP Request: POST https://api.openai.com/v1/chat/completions \"HTTP/1.1 200 OK\"\n"
     ]
    },
    {
     "name": "stdout",
     "output_type": "stream",
     "text": [
      "job_offers_links  -7.180731296539307\n",
      "company_technologies  -12.522921085357666\n",
      "https://www.linkedin.com/in/garance-vallat\n",
      "company_link  -9.88039517402649\n"
     ]
    },
    {
     "name": "stderr",
     "output_type": "stream",
     "text": [
      "INFO:httpx:HTTP Request: POST https://api.openai.com/v1/chat/completions \"HTTP/1.1 200 OK\"\n"
     ]
    },
    {
     "name": "stdout",
     "output_type": "stream",
     "text": [
      "job_board_link  -2.757188081741333\n"
     ]
    },
    {
     "name": "stderr",
     "output_type": "stream",
     "text": [
      "INFO:httpx:HTTP Request: POST https://api.openai.com/v1/chat/completions \"HTTP/1.1 200 OK\"\n"
     ]
    },
    {
     "name": "stdout",
     "output_type": "stream",
     "text": [
      "job_offers_links  -7.186132192611694\n",
      "company_technologies  -24.05000114440918\n",
      "https://www.linkedin.com/in/sandra-pfunder-394a21242\n",
      "company_link  -9.691672086715698\n"
     ]
    },
    {
     "name": "stderr",
     "output_type": "stream",
     "text": [
      "INFO:httpx:HTTP Request: POST https://api.openai.com/v1/chat/completions \"HTTP/1.1 200 OK\"\n"
     ]
    },
    {
     "name": "stdout",
     "output_type": "stream",
     "text": [
      "job_board_link  -2.7363791465759277\n"
     ]
    },
    {
     "name": "stderr",
     "output_type": "stream",
     "text": [
      "INFO:httpx:HTTP Request: POST https://api.openai.com/v1/chat/completions \"HTTP/1.1 200 OK\"\n"
     ]
    },
    {
     "name": "stdout",
     "output_type": "stream",
     "text": [
      "job_offers_links  -21.82779288291931\n",
      "company_technologies  -109.07176399230957\n",
      "https://www.linkedin.com/in/sebastian-tritsch-99006677\n",
      "company_link  -10.857716798782349\n"
     ]
    },
    {
     "name": "stderr",
     "output_type": "stream",
     "text": [
      "INFO:httpx:HTTP Request: POST https://api.openai.com/v1/chat/completions \"HTTP/1.1 200 OK\"\n"
     ]
    },
    {
     "name": "stdout",
     "output_type": "stream",
     "text": [
      "job_board_link  -2.1456921100616455\n"
     ]
    },
    {
     "name": "stderr",
     "output_type": "stream",
     "text": [
      "INFO:httpx:HTTP Request: POST https://api.openai.com/v1/chat/completions \"HTTP/1.1 200 OK\"\n"
     ]
    },
    {
     "name": "stdout",
     "output_type": "stream",
     "text": [
      "job_offers_links  -20.389369249343872\n",
      "company_technologies  -103.71838188171387\n",
      "https://www.linkedin.com/in/reem-farah-954b9a10b\n",
      "company_link  -7.650622844696045\n"
     ]
    },
    {
     "name": "stderr",
     "output_type": "stream",
     "text": [
      "INFO:httpx:HTTP Request: POST https://api.openai.com/v1/chat/completions \"HTTP/1.1 200 OK\"\n"
     ]
    },
    {
     "name": "stdout",
     "output_type": "stream",
     "text": [
      "job_board_link  -3.623552083969116\n",
      "SHORT LLM TEXT\n"
     ]
    },
    {
     "name": "stderr",
     "output_type": "stream",
     "text": [
      "INFO:httpx:HTTP Request: POST https://api.openai.com/v1/chat/completions \"HTTP/1.1 200 OK\"\n"
     ]
    },
    {
     "name": "stdout",
     "output_type": "stream",
     "text": [
      "SHORT LLM TEXT\n"
     ]
    },
    {
     "name": "stderr",
     "output_type": "stream",
     "text": [
      "INFO:httpx:HTTP Request: POST https://api.openai.com/v1/chat/completions \"HTTP/1.1 200 OK\"\n"
     ]
    },
    {
     "name": "stdout",
     "output_type": "stream",
     "text": [
      "job_offers_links  -11.006906032562256\n",
      "company_technologies  -3.262500762939453\n",
      "https://www.linkedin.com/in/vincent-bremer-613b77101\n",
      "company_link  -7.739221096038818\n"
     ]
    },
    {
     "name": "stderr",
     "output_type": "stream",
     "text": [
      "INFO:httpx:HTTP Request: POST https://api.openai.com/v1/chat/completions \"HTTP/1.1 200 OK\"\n"
     ]
    },
    {
     "name": "stdout",
     "output_type": "stream",
     "text": [
      "job_board_link  -2.6668169498443604\n"
     ]
    },
    {
     "name": "stderr",
     "output_type": "stream",
     "text": [
      "INFO:httpx:HTTP Request: POST https://api.openai.com/v1/chat/completions \"HTTP/1.1 200 OK\"\n"
     ]
    },
    {
     "name": "stdout",
     "output_type": "stream",
     "text": [
      "job_offers_links  -8.197078704833984\n",
      "company_technologies  -23.88168501853943\n",
      "https://www.linkedin.com/in/kaj-kolja-kleineberg\n",
      "company_link  -10.898608922958374\n"
     ]
    },
    {
     "name": "stderr",
     "output_type": "stream",
     "text": [
      "INFO:httpx:HTTP Request: POST https://api.openai.com/v1/chat/completions \"HTTP/1.1 200 OK\"\n"
     ]
    },
    {
     "name": "stdout",
     "output_type": "stream",
     "text": [
      "job_board_link  -2.1740009784698486\n"
     ]
    },
    {
     "name": "stderr",
     "output_type": "stream",
     "text": [
      "INFO:httpx:HTTP Request: POST https://api.openai.com/v1/chat/completions \"HTTP/1.1 200 OK\"\n"
     ]
    },
    {
     "name": "stdout",
     "output_type": "stream",
     "text": [
      "job_offers_links  -11.679573059082031\n",
      "company_technologies  -51.78740096092224\n"
     ]
    }
   ],
   "source": [
    "abc = []\n",
    "for person_link in people_links:\n",
    "    print(person_link)\n",
    "    abc.append(get_person_company_tech(linkedin, person_link))"
   ]
  },
  {
   "cell_type": "code",
   "execution_count": 42,
   "metadata": {},
   "outputs": [
    {
     "data": {
      "text/plain": [
       "'http://www.visable.com/en_uk/career/jobs'"
      ]
     },
     "execution_count": 42,
     "metadata": {},
     "output_type": "execute_result"
    }
   ],
   "source": [
    "from web_search.career_link_pure import find_job_board_link_pure\n",
    "\n",
    "find_job_board_link_pure(\"http://www.visable.com\")"
   ]
  },
  {
   "cell_type": "code",
   "execution_count": 5,
   "metadata": {},
   "outputs": [
    {
     "data": {
      "text/plain": [
       "{1: [{1: 2, 3: 4}]}"
      ]
     },
     "execution_count": 5,
     "metadata": {},
     "output_type": "execute_result"
    }
   ],
   "source": [
    "{1:[{1:2,3:4}]}"
   ]
  },
  {
   "cell_type": "markdown",
   "metadata": {},
   "source": [
    "# Test"
   ]
  },
  {
   "cell_type": "code",
   "execution_count": 1,
   "metadata": {},
   "outputs": [
    {
     "name": "stderr",
     "output_type": "stream",
     "text": [
      "/Users/tantusdata/projekty/FindJobOffers/.venv/lib/python3.9/site-packages/urllib3/__init__.py:35: NotOpenSSLWarning: urllib3 v2 only supports OpenSSL 1.1.1+, currently the 'ssl' module is compiled with 'LibreSSL 2.8.3'. See: https://github.com/urllib3/urllib3/issues/3020\n",
      "  warnings.warn(\n"
     ]
    }
   ],
   "source": [
    "import importlib\n",
    "\n",
    "from dotenv import load_dotenv\n",
    "\n",
    "load_dotenv(load_dotenv('../config/flask.env'))\n",
    "from web_search import jobs_list\n",
    "importlib.reload(jobs_list)\n",
    "from dotenv import load_dotenv\n",
    "from web_search.jobs_list import get_job_offers\n",
    "\n",
    "from web_search.jobs_list import get_job_offers\n",
    "\n",
    "#get_job_offers('https://careers.kaizengaming.com/apply')\n",
    "#get_job_offers('https://jobs.vividtechnology.io/')\n",
    "#get_job_offers('https://wargaming.com/en/careers/')"
   ]
  },
  {
   "cell_type": "code",
   "execution_count": 13,
   "metadata": {},
   "outputs": [
    {
     "ename": "KeyboardInterrupt",
     "evalue": "",
     "output_type": "error",
     "traceback": [
      "\u001b[0;31m---------------------------------------------------------------------------\u001b[0m",
      "\u001b[0;31mKeyboardInterrupt\u001b[0m                         Traceback (most recent call last)",
      "Cell \u001b[0;32mIn[13], line 3\u001b[0m\n\u001b[1;32m      1\u001b[0m \u001b[38;5;28;01mfrom\u001b[39;00m \u001b[38;5;21;01mweb_search\u001b[39;00m\u001b[38;5;21;01m.\u001b[39;00m\u001b[38;5;21;01mjobs_list\u001b[39;00m \u001b[38;5;28;01mimport\u001b[39;00m get_job_offers\n\u001b[0;32m----> 3\u001b[0m \u001b[43mget_job_offers\u001b[49m\u001b[43m(\u001b[49m\u001b[38;5;124;43m'\u001b[39;49m\u001b[38;5;124;43mhttps://wargaming.com/en/careers/\u001b[39;49m\u001b[38;5;124;43m'\u001b[39;49m\u001b[43m)\u001b[49m\n",
      "File \u001b[0;32m~/projekty/FindJobOffers/src/web_search/jobs_list.py:34\u001b[0m, in \u001b[0;36mget_job_offers\u001b[0;34m(job_board_link, repeat)\u001b[0m\n\u001b[1;32m     33\u001b[0m \u001b[38;5;28;01mdef\u001b[39;00m \u001b[38;5;21mget_job_offers\u001b[39m(job_board_link, repeat\u001b[38;5;241m=\u001b[39m\u001b[38;5;28;01mTrue\u001b[39;00m):\n\u001b[0;32m---> 34\u001b[0m     source_pages \u001b[38;5;241m=\u001b[39m \u001b[43mget_source_pages_iframe\u001b[49m\u001b[43m(\u001b[49m\u001b[43mjob_board_link\u001b[49m\u001b[43m)\u001b[49m\n\u001b[1;32m     35\u001b[0m     llm_texts \u001b[38;5;241m=\u001b[39m [get_processed_text(source_page, job_board_link) \u001b[38;5;28;01mfor\u001b[39;00m source_page \u001b[38;5;129;01min\u001b[39;00m source_pages]\n\u001b[1;32m     36\u001b[0m     llm_texts \u001b[38;5;241m=\u001b[39m [llm_text \u001b[38;5;28;01mfor\u001b[39;00m llm_text \u001b[38;5;129;01min\u001b[39;00m llm_texts \u001b[38;5;28;01mif\u001b[39;00m \u001b[38;5;28mlen\u001b[39m(llm_text) \u001b[38;5;241m>\u001b[39m \u001b[38;5;241m400\u001b[39m]\n",
      "File \u001b[0;32m~/projekty/FindJobOffers/src/tools/tools.py:122\u001b[0m, in \u001b[0;36mget_source_pages_iframe\u001b[0;34m(url)\u001b[0m\n\u001b[1;32m    119\u001b[0m \u001b[38;5;28;01mtry\u001b[39;00m:\n\u001b[1;32m    120\u001b[0m     \u001b[38;5;66;03m# Find and click \"Show more\" button using XPath\u001b[39;00m\n\u001b[1;32m    121\u001b[0m     show_more_button \u001b[38;5;241m=\u001b[39m driver\u001b[38;5;241m.\u001b[39mfind_element(By\u001b[38;5;241m.\u001b[39mXPATH, \u001b[38;5;124m\"\u001b[39m\u001b[38;5;124m//*[contains(text(), \u001b[39m\u001b[38;5;124m'\u001b[39m\u001b[38;5;124mShow more\u001b[39m\u001b[38;5;124m'\u001b[39m\u001b[38;5;124m)]\u001b[39m\u001b[38;5;124m\"\u001b[39m)\n\u001b[0;32m--> 122\u001b[0m     show_more_button\u001b[38;5;241m.\u001b[39mclick()\n\u001b[1;32m    123\u001b[0m     driver\u001b[38;5;241m.\u001b[39mimplicitly_wait(wait)\n\u001b[1;32m    124\u001b[0m     time\u001b[38;5;241m.\u001b[39msleep(wait)\n",
      "File \u001b[0;32m~/projekty/FindJobOffers/src/tools/tools.py:122\u001b[0m, in \u001b[0;36mget_source_pages_iframe\u001b[0;34m(url)\u001b[0m\n\u001b[1;32m    119\u001b[0m \u001b[38;5;28;01mtry\u001b[39;00m:\n\u001b[1;32m    120\u001b[0m     \u001b[38;5;66;03m# Find and click \"Show more\" button using XPath\u001b[39;00m\n\u001b[1;32m    121\u001b[0m     show_more_button \u001b[38;5;241m=\u001b[39m driver\u001b[38;5;241m.\u001b[39mfind_element(By\u001b[38;5;241m.\u001b[39mXPATH, \u001b[38;5;124m\"\u001b[39m\u001b[38;5;124m//*[contains(text(), \u001b[39m\u001b[38;5;124m'\u001b[39m\u001b[38;5;124mShow more\u001b[39m\u001b[38;5;124m'\u001b[39m\u001b[38;5;124m)]\u001b[39m\u001b[38;5;124m\"\u001b[39m)\n\u001b[0;32m--> 122\u001b[0m     show_more_button\u001b[38;5;241m.\u001b[39mclick()\n\u001b[1;32m    123\u001b[0m     driver\u001b[38;5;241m.\u001b[39mimplicitly_wait(wait)\n\u001b[1;32m    124\u001b[0m     time\u001b[38;5;241m.\u001b[39msleep(wait)\n",
      "File \u001b[0;32m~/projekty/FindJobOffers/.venv/lib/python3.9/site-packages/debugpy/_vendored/pydevd/_pydevd_bundle/pydevd_frame.py:1197\u001b[0m, in \u001b[0;36mPyDBFrame.trace_dispatch\u001b[0;34m(self, frame, event, arg)\u001b[0m\n\u001b[1;32m   1195\u001b[0m \u001b[38;5;28;01mif\u001b[39;00m is_line:\n\u001b[1;32m   1196\u001b[0m     \u001b[38;5;28mself\u001b[39m\u001b[38;5;241m.\u001b[39mset_suspend(thread, step_cmd, original_step_cmd\u001b[38;5;241m=\u001b[39minfo\u001b[38;5;241m.\u001b[39mpydev_original_step_cmd)\n\u001b[0;32m-> 1197\u001b[0m     \u001b[38;5;28;43mself\u001b[39;49m\u001b[38;5;241;43m.\u001b[39;49m\u001b[43mdo_wait_suspend\u001b[49m\u001b[43m(\u001b[49m\u001b[43mthread\u001b[49m\u001b[43m,\u001b[49m\u001b[43m \u001b[49m\u001b[43mframe\u001b[49m\u001b[43m,\u001b[49m\u001b[43m \u001b[49m\u001b[43mevent\u001b[49m\u001b[43m,\u001b[49m\u001b[43m \u001b[49m\u001b[43marg\u001b[49m\u001b[43m)\u001b[49m\n\u001b[1;32m   1198\u001b[0m \u001b[38;5;28;01melif\u001b[39;00m is_return:  \u001b[38;5;66;03m# return event\u001b[39;00m\n\u001b[1;32m   1199\u001b[0m     back \u001b[38;5;241m=\u001b[39m frame\u001b[38;5;241m.\u001b[39mf_back\n",
      "File \u001b[0;32m~/projekty/FindJobOffers/.venv/lib/python3.9/site-packages/debugpy/_vendored/pydevd/_pydevd_bundle/pydevd_frame.py:165\u001b[0m, in \u001b[0;36mPyDBFrame.do_wait_suspend\u001b[0;34m(self, *args, **kwargs)\u001b[0m\n\u001b[1;32m    164\u001b[0m \u001b[38;5;28;01mdef\u001b[39;00m \u001b[38;5;21mdo_wait_suspend\u001b[39m(\u001b[38;5;28mself\u001b[39m, \u001b[38;5;241m*\u001b[39margs, \u001b[38;5;241m*\u001b[39m\u001b[38;5;241m*\u001b[39mkwargs):\n\u001b[0;32m--> 165\u001b[0m     \u001b[38;5;28;43mself\u001b[39;49m\u001b[38;5;241;43m.\u001b[39;49m\u001b[43m_args\u001b[49m\u001b[43m[\u001b[49m\u001b[38;5;241;43m0\u001b[39;49m\u001b[43m]\u001b[49m\u001b[38;5;241;43m.\u001b[39;49m\u001b[43mdo_wait_suspend\u001b[49m\u001b[43m(\u001b[49m\u001b[38;5;241;43m*\u001b[39;49m\u001b[43margs\u001b[49m\u001b[43m,\u001b[49m\u001b[43m \u001b[49m\u001b[38;5;241;43m*\u001b[39;49m\u001b[38;5;241;43m*\u001b[39;49m\u001b[43mkwargs\u001b[49m\u001b[43m)\u001b[49m\n",
      "File \u001b[0;32m~/projekty/FindJobOffers/.venv/lib/python3.9/site-packages/debugpy/_vendored/pydevd/pydevd.py:2070\u001b[0m, in \u001b[0;36mPyDB.do_wait_suspend\u001b[0;34m(self, thread, frame, event, arg, exception_type)\u001b[0m\n\u001b[1;32m   2067\u001b[0m             from_this_thread\u001b[38;5;241m.\u001b[39mappend(frame_custom_thread_id)\n\u001b[1;32m   2069\u001b[0m     \u001b[38;5;28;01mwith\u001b[39;00m \u001b[38;5;28mself\u001b[39m\u001b[38;5;241m.\u001b[39m_threads_suspended_single_notification\u001b[38;5;241m.\u001b[39mnotify_thread_suspended(thread_id, thread, stop_reason):\n\u001b[0;32m-> 2070\u001b[0m         keep_suspended \u001b[38;5;241m=\u001b[39m \u001b[38;5;28;43mself\u001b[39;49m\u001b[38;5;241;43m.\u001b[39;49m\u001b[43m_do_wait_suspend\u001b[49m\u001b[43m(\u001b[49m\u001b[43mthread\u001b[49m\u001b[43m,\u001b[49m\u001b[43m \u001b[49m\u001b[43mframe\u001b[49m\u001b[43m,\u001b[49m\u001b[43m \u001b[49m\u001b[43mevent\u001b[49m\u001b[43m,\u001b[49m\u001b[43m \u001b[49m\u001b[43marg\u001b[49m\u001b[43m,\u001b[49m\u001b[43m \u001b[49m\u001b[43msuspend_type\u001b[49m\u001b[43m,\u001b[49m\u001b[43m \u001b[49m\u001b[43mfrom_this_thread\u001b[49m\u001b[43m,\u001b[49m\u001b[43m \u001b[49m\u001b[43mframes_tracker\u001b[49m\u001b[43m)\u001b[49m\n\u001b[1;32m   2072\u001b[0m frames_list \u001b[38;5;241m=\u001b[39m \u001b[38;5;28;01mNone\u001b[39;00m\n\u001b[1;32m   2074\u001b[0m \u001b[38;5;28;01mif\u001b[39;00m keep_suspended:\n\u001b[1;32m   2075\u001b[0m     \u001b[38;5;66;03m# This means that we should pause again after a set next statement.\u001b[39;00m\n",
      "File \u001b[0;32m~/projekty/FindJobOffers/.venv/lib/python3.9/site-packages/debugpy/_vendored/pydevd/pydevd.py:2106\u001b[0m, in \u001b[0;36mPyDB._do_wait_suspend\u001b[0;34m(self, thread, frame, event, arg, suspend_type, from_this_thread, frames_tracker)\u001b[0m\n\u001b[1;32m   2103\u001b[0m         \u001b[38;5;28mself\u001b[39m\u001b[38;5;241m.\u001b[39m_call_input_hook()\n\u001b[1;32m   2105\u001b[0m     \u001b[38;5;28mself\u001b[39m\u001b[38;5;241m.\u001b[39mprocess_internal_commands()\n\u001b[0;32m-> 2106\u001b[0m     \u001b[43mtime\u001b[49m\u001b[38;5;241;43m.\u001b[39;49m\u001b[43msleep\u001b[49m\u001b[43m(\u001b[49m\u001b[38;5;241;43m0.01\u001b[39;49m\u001b[43m)\u001b[49m\n\u001b[1;32m   2108\u001b[0m \u001b[38;5;28mself\u001b[39m\u001b[38;5;241m.\u001b[39mcancel_async_evaluation(get_current_thread_id(thread), \u001b[38;5;28mstr\u001b[39m(\u001b[38;5;28mid\u001b[39m(frame)))\n\u001b[1;32m   2110\u001b[0m \u001b[38;5;66;03m# process any stepping instructions\u001b[39;00m\n",
      "\u001b[0;31mKeyboardInterrupt\u001b[0m: "
     ]
    }
   ],
   "source": []
  },
  {
   "cell_type": "code",
   "execution_count": 7,
   "metadata": {},
   "outputs": [],
   "source": [
    "import pandas as pd\n",
    "from pipeline.pipeline import get_person_company_tech, get_direct_company_tech\n",
    "from pipeline.pipeline import get_person_company_tech\n",
    "from linkedin.linkedin_adapter import LinkedinAdapter\n",
    "import os \n",
    "from dotenv import load_dotenv\n",
    "\n",
    "\n",
    "load_dotenv(load_dotenv('../config/flask.env'))\n",
    "\n",
    "THREAD_NUM = 6\n",
    "# Ścieżka do pliku CSV\n",
    "file_path = '../data/dataset2.csv'\n",
    "df = pd.read_csv(file_path)\n",
    "#dataset_linkedin_links = list(df['Lead Linkedin Url'])\n",
    "#dataset_linkedin_links = list(df['Sales Navigator profile URL'])\n",
    "#companies_names = list(df['Company Name'])\n",
    "companies_names = list(df['Company'])\n",
    "companies_names = [companies_names[i:i + THREAD_NUM] for i in range(0, len(companies_names), THREAD_NUM)]\n",
    "#\n"
   ]
  },
  {
   "cell_type": "code",
   "execution_count": 7,
   "metadata": {},
   "outputs": [],
   "source": [
    "import pandas as pd\n",
    "dataset_linkedin_links = pd.Series(dataset_linkedin_links)\n",
    "dataset_linkedin_links = dataset_linkedin_links.dropna()\n",
    "dataset_linkedin_links = [link[:link.find(',NAME_SEARCH')] for link in dataset_linkedin_links]\n",
    "dataset_linkedin_links = [link.replace('sales/lead', 'in') for link  in dataset_linkedin_links]\n",
    "\n"
   ]
  },
  {
   "cell_type": "code",
   "execution_count": 9,
   "metadata": {},
   "outputs": [
    {
     "name": "stdout",
     "output_type": "stream",
     "text": [
      "SHORT LLM TEXT\n",
      "SHORT LLM TEXT\n",
      "google time  63.93224215507507\n",
      "google time  69.96151399612427\n",
      "google time  69.37002992630005\n",
      "google time  77.34979319572449\n",
      "google time  82.6378128528595\n",
      "google time  92.07139205932617\n",
      "google time  38.448721170425415\n",
      "SHORT LLM TEXT\n",
      "SHORT LLM TEXT\n",
      "google time  38.702378034591675\n",
      "google time  28.854870080947876\n",
      "SHORT LLM TEXT\n",
      "SHORT LLM TEXT\n",
      "SHORT LLM TEXT\n",
      "SHORT LLM TEXT\n",
      "google time  37.43842577934265\n",
      "google time  75.81528210639954\n",
      "google time  68.74623799324036\n",
      "google time  77.625403881073\n",
      "Can'f find page\n",
      "Can'f find page\n",
      "Can'f find page\n",
      "Can'f find page\n",
      "SHORT LLM TEXT\n",
      "google time  76.00275993347168\n",
      "google time  55.329344034194946\n",
      "Can'f find page\n",
      "google time  77.13283801078796\n",
      "google time  105.65607237815857\n",
      "google time  73.80444502830505\n",
      "google time  76.45116686820984\n",
      "google time  28.7361581325531\n",
      "google time  41.84106397628784\n",
      "google time  41.002947092056274\n",
      "google time  25.470683336257935\n",
      "google time  74.24962997436523\n",
      "google time  73.28046298027039\n",
      "SHORT LLM TEXT\n",
      "google time  29.642077207565308\n",
      "Całkowity czas  883.7917060852051\n",
      "google time  37.79591989517212\n",
      "google time  27.68755292892456\n",
      "google time  49.596023082733154\n",
      "SHORT LLM TEXT\n",
      "google time  29.45676016807556\n",
      "Całkowity czas  1036.6213479042053\n",
      "Can'f find page\n",
      "google time  99.33214902877808\n",
      "SHORT LLM TEXT\n",
      "google time  36.66129684448242\n",
      "google time  19.577342987060547\n",
      "Całkowity czas  1115.9741649627686\n",
      "google time  53.534761905670166\n",
      "SHORT LLM TEXT\n",
      "google time  71.94583916664124\n",
      "google time  47.25403904914856\n",
      "SHORT LLM TEXT\n",
      "google time  63.175644874572754\n",
      "google time  25.092396020889282\n",
      "google time  129.65957593917847\n",
      "google time  63.77969026565552\n",
      "google time  41.334007024765015\n",
      "google time  224.40286326408386\n",
      "google time  53.63057827949524\n",
      "SHORT LLM TEXT\n",
      "google time  46.24540901184082\n",
      "Can'f find page\n",
      "Can'f find page\n",
      "Can'f find page\n",
      "SHORT LLM TEXT\n",
      "Całkowity czas  1646.8592228889465\n",
      "Całkowity czas  1663.5220379829407\n",
      "google time  33.05607199668884\n",
      "Error processing link ['10x Banking', 'Alma', 'HealthMov', 'Positive Zero', 'Tractable', 'Aon']: Function JobOffers arguments:\n",
      "\n",
      "{\"job_offers\":[{\"job_name\":\"Adelaide\",\"job_link\":\"https://jobs.aon.com/jobs/locations/city/Adelaide\"},{\"job_name\":\"Aguascalientes\",\"job_link\":\"https://jobs.aon.com/jobs/locations/city/Aguascalientes\"},{\"job_name\":\"Ahmedabad\",\"job_link\":\"https://jobs.aon.com/jobs/locations/city/Ahmedabad\"},{\"job_name\":\"Albury\",\"job_link\":\"https://jobs.aon.com/jobs/locations/city/Albury\"},{\"job_name\":\"Almaty\",\"job_link\":\"https://jobs.aon.com/jobs/locations/city/Almaty\"},{\"job_name\":\"Alpharetta\",\"job_link\":\"https://jobs.aon.com/jobs/locations/city/Alpharetta\"},{\"job_name\":\"Amsterdam\",\"job_link\":\"https://jobs.aon.com/jobs/locations/city/Amsterdam\"},{\"job_name\":\"Angouleme\",\"job_link\":\"https://jobs.aon.com/jobs/locations/city/Angouleme\"},{\"job_name\":\"Antwerp\",\"job_link\":\"https://jobs.aon.com/jobs/locations/city/Antwerp\"},{\"job_name\":\"Atlanta\",\"job_link\":\"https://jobs.aon.com/jobs/locations/city/Atlanta\"},{\"job_name\":\"Auckland\",\"job_link\":\"https://jobs.aon.com/jobs/locations/city/Auckland\"},{\"job_name\":\"Austin\",\"job_link\":\"https://jobs.aon.com/jobs/locations/city/Austin\"},{\"job_name\":\"Baltimore\",\"job_link\":\"https://jobs.aon.com/jobs/locations/city/Baltimore\"},{\"job_name\":\"Bangalore\",\"job_link\":\"https://jobs.aon.com/jobs/locations/city/Bangalore\"},{\"job_name\":\"Barcelona\",\"job_link\":\"https://jobs.aon.com/jobs/locations/city/Barcelona\"},{\"job_name\":\"Basel\",\"job_link\":\"https://jobs.aon.com/jobs/locations/city/Basel\"},{\"job_name\":\"Bengaluru\",\"job_link\":\"https://jobs.aon.com/jobs/locations/city/Bengaluru\"},{\"job_name\":\"Berkeley Heights\",\"job_link\":\"https://jobs.aon.com/jobs/locations/city/Berkeley+Heights\"},{\"job_name\":\"Bilbao\",\"job_link\":\"https://jobs.aon.com/jobs/locations/city/Bilbao\"},{\"job_name\":\"Birkirkara\",\"job_link\":\"https://jobs.aon.com/jobs/locations/city/Birkirkara\"},{\"job_name\":\"Birmingham\",\"job_link\":\"https://jobs.aon.com/jobs/locations/city/Birmingham\"},{\"job_name\":\"Bloomington\",\"job_link\":\"https://jobs.aon.com/jobs/locations/city/Bloomington\"},{\"job_name\":\"Bogotá\",\"job_link\":\"https://jobs.aon.com/jobs/locations/city/Bogot%C3%A1\"},{\"job_name\":\"Boston\",\"job_link\":\"https://jobs.aon.com/jobs/locations/city/Boston\"},{\"job_name\":\"Breda\",\"job_link\":\"https://jobs.aon.com/jobs/locations/city/Breda\"},{\"job_name\":\"Brescia\",\"job_link\":\"https://jobs.aon.com/jobs/locations/city/Brescia\"},{\"job_name\":\"Brisbane\",\"job_link\":\"https://jobs.aon.com/jobs/locations/city/Brisbane\"},{\"job_name\":\"Bristol\",\"job_link\":\"https://jobs.aon.com/jobs/locations/city/Bristol\"},{\"job_name\":\"Budapest\",\"job_link\":\"https://jobs.aon.com/jobs/locations/city/Budapest\"},{\"job_name\":\"Buenos Aires\",\"job_link\":\"https://jobs.aon.com/jobs/locations/city/Buenos+Aires\"},{\"job_name\":\"Burlington\",\"job_link\":\"https://jobs.aon.com/jobs/locations/city/Burlington\"},{\"job_name\":\"Burlington, MA\",\"job_link\":\"https://jobs.aon.com/jobs/locations/city/Burlington%2C+MA\"},{\"job_name\":\"Burnley\",\"job_link\":\"https://jobs.aon.com/jobs/locations/city/Burnley\"},{\"job_name\":\"Byron Bay\",\"job_link\":\"https://jobs.aon.com/jobs/locations/city/Byron+Bay\"},{\"job_name\":\"Cairns\",\"job_link\":\"https://jobs.aon.com/jobs/locations/city/Cairns\"},{\"job_name\":\"Calgary\",\"job_link\":\"https://jobs.aon.com/jobs/locations/city/Calgary\"},{\"job_name\":\"Camana Bay\",\"job_link\":\"https://jobs.aon.com/jobs/locations/city/Camana+Bay\"},{\"job_name\":\"Canberra\",\"job_link\":\"https://jobs.aon.com/jobs/locations/city/Canberra\"},{\"job_name\":\"Cartagena\",\"job_link\":\"https://jobs.aon.com/jobs/locations/city/Cartagena\"},{\"job_name\":\"Cebu City\",\"job_link\":\"https://jobs.aon.com/jobs/locations/city/Cebu+City\"},{\"job_name\":\"Charlotte\",\"job_link\":\"https://jobs.aon.com/jobs/locations/city/Charlotte\"},{\"job_name\":\"Chelmsford\",\"job_link\":\"https://jobs.aon.com/jobs/locations/city/Chelmsford\"},{\"job_name\":\"Chicago\",\"job_link\":\"https://jobs.aon.com/jobs/locations/city/Chicago\"},{\"job_name\":\"Cleveland\",\"job_link\":\"https://jobs.aon.com/jobs/locations/city/Cleveland\"},{\"job_name\":\"Columbus\",\"job_link\":\"https://jobs.aon.com/jobs/locations/city/Columbus\"},{\"job_name\":\"Copenhagen\",\"job_link\":\"https://jobs.aon.com/jobs/locations/city/Copenhagen\"},{\"job_name\":\"Curitiba\",\"job_link\":\"https://jobs.aon.com/jobs/locations/city/Curitiba\"},{\"job_name\":\"Dallas\",\"job_link\":\"https://jobs.aon.com/jobs/locations/city/Dallas\"},{\"job_name\":\"Denver\",\"job_link\":\"https://jobs.aon.com/jobs/locations/city/Denver\"},{\"job_name\":\"Diegem\",\"job_link\":\"https://jobs.aon.com/jobs/locations/city/Diegem\"},{\"job_name\":\"Douglas\",\"job_link\":\"https://jobs.aon.com/jobs/locations/city/Douglas\"},{\"job_name\":\"Dublin\",\"job_link\":\"https://jobs.aon.com/jobs/locations/city/Dublin\"},{\"job_name\":\"Dunedin\",\"job_link\":\"https://jobs.aon.com/jobs/locations/city/Dunedin\"},{\"job_name\":\"Edmonton\",\"job_link\":\"https://jobs.aon.com/jobs/locations/city/Edmonton\"},{\"job_name\":\"Eindhoven\",\"job_link\":\"https://jobs.aon.com/jobs/locations/city/Eindhoven\"},{\"job_name\":\"Epsom\",\"job_link\":\"https://jobs.aon.com/jobs/locations/city/Epsom\"},{\"job_name\":\"Fairborn\",\"job_link\":\"https://jobs.aon.com/jobs/locations/city/Fairborn\"},{\"job_name\":\"Farmington\",\"job_link\":\"https://jobs.aon.com/jobs/locations/city/Farmington\"},{\"job_name\":\"Fort Washington\",\"job_link\":\"https://jobs.aon.com/jobs/locations/city/Fort+Washington\"},{\"job_name\":\"Fort Wayne\",\"job_link\":\"https://jobs.aon.com/jobs/locations/city/Fort+Wayne\"},{\"job_name\":\"Franklin\",\"job_link\":\"https://jobs.aon.com/jobs/locations/city/Franklin\"},{\"job_name\":\"Garden City\",\"job_link\":\"https://jobs.aon.com/jobs/locations/city/Garden+City\"},{\"job_name\":\"Ghent\",\"job_link\":\"https://jobs.aon.com/jobs/locations/city/Ghent\"},{\"job_name\":\"Glasgow\",\"job_link\":\"https://jobs.aon.com/jobs/locations/city/Glasgow\"},{\"job_name\":\"Grand Rapids\",\"job_link\":\"https://jobs.aon.com/jobs/locations/city/Grand+Rapids\"},{\"job_name\":\"Green Bay\",\"job_link\":\"https://jobs.aon.com/jobs/locations/city/Green+Bay\"},{\"job_name\":\"Guangzhou\",\"job_link\":\"https://jobs.aon.com/jobs/locations/city/Guangzhou\"},{\"job_name\":\"Guayaquil\",\"job_link\":\"https://jobs.aon.com/jobs/locations/city/Guayaquil\"},{\"job_name\":\"Gurgaon\",\"job_link\":\"https://jobs.aon.com/jobs/locations/city/Gurgaon\"},{\"job_name\":\"Gurugram\",\"job_link\":\"https://jobs.aon.com/jobs/locations/city/Gurugram\"},{\"job_name\":\"Halifax\",\"job_link\":\"https://jobs.aon.com/jobs/locations/city/Halifax\"},{\"job_name\":\"Hamilton\",\"job_link\":\"https://jobs.aon.com/jobs/locations/city/Hamilton\"},{\"job_name\":\"Hammonton\",\"job_link\":\"https://jobs.aon.com/jobs/locations/city/Hammonton\"},{\"job_name\":\"Hangzhou\",\"job_link\":\"https://jobs.aon.com/jobs/locations/city/Hangzhou\"},{\"job_name\":\"Hanoi\",\"job_link\":\"https://jobs.aon.com/jobs/locations/city/Hanoi\"},{\"job_name\":\"Hindmarsh\",\"job_link\":\"https://jobs.aon.com/jobs/locations/city/Hindmarsh\"},{\"job_name\":\"Hobart\",\"job_link\":\"https://jobs.aon.com/jobs/locations/city/Hobart\"},{\"job_name\":\"Hong Kong\",\"job_link\":\"https://jobs.aon.com/jobs/locations/city/Hong+Kong\"},{\"job_name\":\"Houston\",\"job_link\":\"https://jobs.aon.com/jobs/locations/city/Houston\"},{\"job_name\":\"Hull\",\"job_link\":\"https://jobs.aon.com/jobs/locations/city/Hull\"},{\"job_name\":\"Indianapolis\",\"job_link\":\"https://jobs.aon.com/jobs/locations/city/Indianapolis\"},{\"job_name\":\"Invercargill\",\"job_link\":\"https://jobs.aon.com/jobs/locations/city/Invercargill\"},{\"job_name\":\"Irvine\",\"job_link\":\"https://jobs.aon.com/jobs/locations/city/Irvine\"},{\"job_name\":\"Istanbul\",\"job_link\":\"https://jobs.aon.com/jobs/locations/city/Istanbul\"},{\"job_name\":\"Jacksonville\",\"job_link\":\"https://jobs.aon.com/jobs/locations/city/Jacksonville\"},{\"job_name\":\"Jakarta\",\"job_link\":\"https://jobs.aon.com/jobs/locations/city/Jakarta\"},{\"job_name\":\"Johannesburg\",\"job_link\":\"https://jobs.aon.com/jobs/locations/city/Johannesburg\"},{\"job_name\":\"Kalispell\",\"job_link\":\"https://jobs.aon.com/jobs/locations/city/Kalispell\"},{\"job_name\":\"Kansas City\",\"job_link\":\"https://jobs.aon.com/jobs/locations/city/Kansas+City\"},{\"job_name\":\"Krakow\",\"job_link\":\"https://jobs.aon.com/jobs/locations/city/Krakow\"},{\"job_name\":\"Kuala Lumpur\",\"job_link\":\"https://jobs.aon.com/jobs/locations/city/Kuala+Lumpur\"},{\"job_name\":\"Lake Mary\",\"job_link\":\"https://jobs.aon.com/jobs/locations/city/Lake+Mary\"},{\"job_name\":\"Las Condes\",\"job_link\":\"https://jobs.aon.com/jobs/locations/city/Las+Condes\"},{\"job_name\":\"Las Palmas de Gran Canaria\",\"job_link\":\"https://jobs.aon.com/jobs/locations/city/Las+Palmas+de+Gran+Canaria\"},{\"job_name\":\"Leeds\",\"job_link\":\"https://jobs.aon.com/jobs/locations/city/Leeds\"},{\"job_name\":\"Leicester\",\"job_link\":\"https://jobs.aon.com/jobs/locations/city/Leicester\"},{\"job_name\":\"Leon\",\"job_link\":\"https://jobs.aon.com/jobs/locations/city/Leon\"},{\"job_name\":\"Lincolnshire\",\"job_link\":\"https://jobs.aon.com/jobs/locations/city/Lincolnshire\"},{\"job_name\":\"Little Rock\",\"job_link\":\"https://jobs.aon.com/jobs/locations/city/Little+Rock\"},{\"job_name\":\"London\",\"job_link\":\"https://jobs.aon.com/jobs/locations/city/London\"},{\"job_name\":\"Los Angeles\",\"job_link\":\"https://jobs.aon.com/jobs/locations/city/Los+Angeles\"},{\"job_name\":\"Luxembourg\",\"job_link\":\"https://jobs.aon.com/jobs/locations/city/Luxembourg\"},{\"job_name\":\"Madrid\",\"job_link\":\"https://jobs.aon.com/jobs/locations/city/Madrid\"},{\"job_name\":\"Makati City\",\"job_link\":\"https://jobs.aon.com/jobs/locations/city/Makati+City\"},{\"job_name\":\"Manama\",\"job_link\":\"https://jobs.aon.com/jobs/locations/city/Manama\"},{\"job_name\":\"Manchester\",\"job_link\":\"https://jobs.aon.com/jobs/locations/city/Manchester\"},{\"job_name\":\"Marseille\",\"job_link\":\"https://jobs.aon.com/jobs/locations/city/Marseille\"},{\"job_name\":\"Melbourne\",\"job_link\":\"https://jobs.aon.com/jobs/locations/city/Melbourne\"},{\"job_name\":\"Mexico\",\"job_link\":\"https://jobs.aon.com/jobs/locations/city/Mexico\"},{\"job_name\":\"Mexico City\",\"job_link\":\"https://jobs.aon.com/jobs/locations/city/Mexico+City\"},{\"job_name\":\"Miami\",\"job_link\":\"https://jobs.aon.com/jobs/locations/city/Miami\"},{\"job_name\":\"Milano\",\"job_link\":\"https://jobs.aon.com/jobs/locations/city/Milano\"},{\"job_name\":\"Milwaukee\",\"job_link\":\"https://jobs.aon.com/jobs/locations/city/Milwaukee\"},{\"job_name\":\"Montreal\",\"job_link\":\"https://jobs.aon.com/jobs/locations/city/Montreal\"},{\"job_name\":\"Mount Maunganui\",\"job_link\":\"https://jobs.aon.com/jobs/locations/city/Mount+Maunganui\"},{\"job_name\":\"Mriehel\",\"job_link\":\"https://jobs.aon.com/jobs/locations/city/Mriehel\"},{\"job_name\":\"Mumbai\",\"job_link\":\"https://jobs.aon.com/jobs/locations/city/Mumbai\"},{\"job_name\":\"NOIDA\",\"job_link\":\"https://jobs.aon.com/jobs/locations/city/NOIDA\"},{\"job_name\":\"Nanjing\",\"job_link\":\"https://jobs.aon.com/jobs/locations/city/Nanjing\"},{\"job_name\":\"Nelson\",\"job_link\":\"https://jobs.aon.com/jobs/locations/city/Nelson\"},{\"job_name\":\"Neuchatel\",\"job_link\":\"https://jobs.aon.com/jobs/locations/city/Neuchatel\"},{\"job_name\":\"New York\",\"job_link\":\"https://jobs.aon.com/jobs/locations/city/New+York\"},{\"job_name\":\"Newcastle Upon Tyne\",\"job_link\":\"https://jobs.aon.com/jobs/locations/city/Newcastle+Upon+Tyne\"},{\"job_name\":\"North Ryde\",\"job_link\":\"https://jobs.aon.com/jobs/locations/city/North+Ryde\"},{\"job_name\":\"Norwalk\",\"job_link\":\"https://jobs.aon.com/jobs/locations/city/Norwalk\"},{\"job_name\":\"Nyon\",\"job_link\":\"https://jobs.aon.com/jobs/locations/city/Nyon\"},{\"job_name\":\"Orange\",\"job_link\":\"https://jobs.aon.com/jobs/locations/city/Orange\"},{\"job_name\":\"Osaka-city\",\"job_link\":\"https://jobs.aon.com/jobs/locations/city/Osaka-city\"},{\"job_name\":\"Osborne Park\",\"job_link\":\"https://jobs.aon.com/jobs/locations/city/Osborne+Park\"},{\"job_name\":\"Ottawa\",\"job_link\":\"https://jobs.aon.com/jobs/locations/city/Ottawa\"},{\"job_name\":\"PARIS\",\"job_link\":\"https://jobs.aon.com/jobs/locations/city/PARIS\"},{\"job_name\":\"Palma De Mallorca\",\"job_link\":\"https://jobs.aon.com/jobs/locations/city/Palma+De+Mallorca\"},{\"job_name\":\"Palmerston North\",\"job_link\":\"https://jobs.aon.com/jobs/locations/city/Palmerston+North\"},{\"job_name\":\"Parramatta\",\"job_link\":\"https://jobs.aon.com/jobs/locations/city/Parramatta\"},{\"job_name\":\"Perth\",\"job_link\":\"https://jobs.aon.com/jobs/locations/city/Perth\"},{\"job_name\":\"Peterborough\",\"job_link\":\"https://jobs.aon.com/jobs/locations/city/Peterborough\"},{\"job_name\":\"Philadelphia\",\"job_link\":\"https://jobs.aon.com/jobs/locations/city/Philadelphia\"},{\"job_name\":\"Phoenix\",\"job_link\":\"https://jobs.aon.com/jobs/locations/city/Phoenix\"},{\"job_name\":\"Pittsburgh\",\"job_link\":\"https://jobs.aon.com/jobs/locations/city/Pittsburgh\"},{\"job_name\":\"Poland\",\"job_link\":\"https://jobs.aon.com/jobs/locations/city/Poland\"},{\"job_name\":\"Portland\",\"job_link\":\"https://jobs.aon.com/jobs/locations/city/Portland\"},{\"job_name\":\"Prague\",\"job_link\":\"https://jobs.aon.com/jobs/locations/city/Prague\"},{\"job_name\":\"Quebec City\",\"job_link\":\"https://jobs.aon.com/jobs/locations/city/Quebec+City\"},{\"job_name\":\"Radnor\",\"job_link\":\"https://jobs.aon.com/jobs/locations/city/Radnor\"},{\"job_name\":\"Raleigh\",\"job_link\":\"https://jobs.aon.com/jobs/locations/city/Raleigh\"},{\"job_name\":\"Reading\",\"job_link\":\"https://jobs.aon.com/jobs/locations/city/Reading\"},{\"job_name\":\"Redhill\",\"job_link\":\"https://jobs.aon.com/jobs/locations/city/Redhill\"},{\"job_name\":\"Regina\",\"job_link\":\"https://jobs.aon.com/jobs/locations/city/Regina\"},{\"job_name\":\"Richmond\",\"job_link\":\"https://jobs.aon.com/jobs/locations/city/Richmond\"},{\"job_name\":\"Rio De Janeiro\",\"job_link\":\"https://jobs.aon.com/jobs/locations/city/Rio+De+Janeiro\"},{\"job_name\":\"Riyadh\",\"job_link\":\"https://jobs.aon.com/jobs/locations/city/Riyadh\"},{\"job_name\":\"Rockhampton\",\"job_link\":\"https://jobs.aon.com/jobs/locations/city/Rockhampton\"},{\"job_name\":\"Rome\",\"job_link\":\"https://jobs.aon.com/jobs/locations/city/Rome\"},{\"job_name\":\"Rotterdam\",\"job_link\":\"https://jobs.aon.com/jobs/locations/city/Rotterdam\"},{\"job_name\":\"Salt Lake City\",\"job_link\":\"https://jobs.aon.com/jobs/locations/city/Salt+Lake+City\"},{\"job_name\":\"San Diego\",\"job_link\":\"https://jobs.aon.com/jobs/locations/city/San+Diego\"},{\"job_name\":\"San Francisco\",\"job_link\":\"https://jobs.aon.com/jobs/locations/city/San+Francisco\"},{\"job_name\":\"San Pedro Garza García\",\"job_link\":\"https://jobs.aon.com/jobs/locations/city/San+Pedro+Garza+Garc%C3%ADa\"},{\"job_name\":\"Saskatoon\",\"job_link\":\"https://jobs.aon.com/jobs/locations/city/Saskatoon\"},{\"job_name\":\"Seattle\",\"job_link\":\"https://jobs.aon.com/jobs/locations/city/Seattle\"},{\"job_name\":\"Seoul\",\"job_link\":\"https://jobs.aon.com/jobs/locations/city/Seoul\"},{\"job_name\":\"Shanghai\",\"job_link\":\"https://jobs.aon.com/jobs/locations/city/Shanghai\"},{\"job_name\":\"Sheffield\",\"job_link\":\"https://jobs.aon.com/jobs/locations/city/Sheffield\"},{\"job_name\":\"Shenzhen\",\"job_link\":\"https://jobs.aon.com/jobs/locations/city/Shenzhen\"},{\"job_name\":\"Singapore\",\"job_link\":\"https://jobs.aon.com/jobs/locations/city/Singapore\"},{\"job_name\":\"South\n",
      "\n",
      "are not valid JSON. Received JSONDecodeError Unterminated string starting at: line 1 column 14631 (char 14630)\n",
      "SHORT LLM TEXT\n",
      "google time  70.90135502815247\n",
      "Can'f find page\n",
      "Can'f find page\n",
      "google time  53.27519488334656\n",
      "Can'f find page\n",
      "Can'f find page\n",
      "Can'f find page\n",
      "google time  100.82384395599365\n",
      "SHORT LLM TEXT\n",
      "SHORT LLM TEXT\n",
      "google time  67.32532596588135\n",
      "google time  95.03689408302307\n",
      "SHORT LLM TEXT\n",
      "google time  146.0542938709259\n",
      "google time  53.435550928115845\n",
      "google time  47.33059501647949\n",
      "google time  40.919933795928955\n",
      "Can'f find page\n",
      "Can'f find page\n",
      "Can'f find page\n",
      "Can'f find page\n",
      "google time  50.40555691719055\n",
      "google time  34.40277075767517\n",
      "google time  47.192468881607056\n",
      "SHORT LLM TEXT\n",
      "google time  100.35319399833679\n",
      "google time  24.94270896911621\n",
      "google time  117.19941091537476\n",
      "google time  177.76951789855957\n",
      "SHORT LLM TEXT\n",
      "Całkowity czas  2294.4510328769684\n",
      "SHORT LLM TEXT\n",
      "SHORT LLM TEXT\n",
      "google time  26.84028124809265\n",
      "SHORT LLM TEXT\n",
      "google time  0.0\n",
      "SHORT LLM TEXT\n",
      "google time  100.2722806930542\n",
      "google time  90.90164089202881\n",
      "google time  78.40234589576721\n",
      "SHORT LLM TEXT\n",
      "SHORT LLM TEXT\n",
      "SHORT LLM TEXT\n",
      "google time  115.48029494285583\n",
      "google time  59.59619927406311\n",
      "Całkowity czas  943.4066948890686\n",
      "Can'f find page\n",
      "SHORT LLM TEXT\n",
      "google time  52.12468194961548\n",
      "google time  79.29830813407898\n",
      "Całkowity czas  495.76655316352844\n",
      "Całkowity czas  1711.8086369037628\n",
      "Can'f find page\n",
      "Całkowity czas  2136.986392021179\n",
      "SHORT LLM TEXT\n",
      "google time  246.74525117874146\n",
      "google time  102.25797891616821\n",
      "SHORT LLM TEXT\n",
      "google time  54.349737882614136\n",
      "SHORT LLM TEXT\n",
      "Całkowity czas  3345.8387908935547\n",
      "SHORT LLM TEXT\n",
      "SHORT LLM TEXT\n",
      "google time  285.99462819099426\n",
      "Całkowity czas  3846.46173787117\n",
      "1\n"
     ]
    }
   ],
   "source": [
    "import csv\n",
    "import pandas as pd\n",
    "import threading\n",
    "from concurrent.futures import ThreadPoolExecutor\n",
    "\n",
    "from pipeline.pipeline import get_person_company_tech, get_direct_company_tech\n",
    "\n",
    "\n",
    "# Ścieżka do pliku CSV, gdzie będą zapisywane wyniki\n",
    "results_file = 'results2_v2.csv'\n",
    "headers = ['person_link', \n",
    "            'comapny_name',\n",
    "            'company_link',\n",
    "            'job_board_link',\n",
    "            'job_offer_link',\n",
    "            'technologies',\n",
    "            'source',\n",
    "            'linkedin_uniqe']\n",
    "\n",
    "# Otwieramy plik CSV do zapisu\n",
    "#linkedin = LinkedinAdapter(os.environ['EMAIL_LINKEDIN'], os.environ['PASSWORD_LINKEDIN'])\n",
    "with open(results_file, mode='w', newline='', encoding='utf-8') as file:\n",
    "    writer = csv.writer(file)\n",
    "    \n",
    "    # Zapisanie nagłówków kolumn (przykładowe kolumny, dostosuj do rzeczywistej struktury danych)\n",
    "    writer.writerow(headers)\n",
    "\n",
    "# Funkcja, która będzie wykonywana w wątkach\n",
    "def process_link(link):\n",
    "    try:\n",
    "        # Wywołanie funkcji dla danego linku\n",
    "        #companies_info = get_person_company_tech(linkedin=linkedin, person_link=link)\n",
    "        companies_info = get_direct_company_tech(companies_names=link)\n",
    "        # Zabezpieczenie zapisu do pliku przy użyciu blokady\n",
    "        with lock:\n",
    "            for company_info in companies_info:\n",
    "                #company_technologies, person_link, company_link, job_board_link, job_offers_links = company_info\n",
    "                with open(results_file, mode='a', newline='', encoding='utf-8') as file:\n",
    "                    writer = csv.writer(file)\n",
    "                    writer.writerow(company_info)\n",
    "    except Exception as e:\n",
    "        # Można tutaj dodać logowanie błędów lub zwiększyć licznik błędów\n",
    "        print(f\"Error processing link {link}: {e}\")\n",
    "        with lock:\n",
    "            global errors\n",
    "            errors += 1\n",
    "\n",
    "# Inicjalizacja zmiennej dla liczby błędów\n",
    "errors = 0\n",
    "\n",
    "# Inicjalizacja blokady\n",
    "lock = threading.Lock()\n",
    "\n",
    "# Używanie ThreadPoolExecutor do uruchamiania funkcji na 5 wątkach jednocześnie\n",
    "with ThreadPoolExecutor(max_workers=THREAD_NUM) as executor:\n",
    "    # Mapowanie funkcji process_link na listę linków\n",
    "    executor.map(process_link, companies_names)\n",
    "        \n",
    "\n",
    "# Wczytywanie wyników z pliku CSV do DataFrame pandas\n",
    "df = pd.read_csv(results_file)\n",
    "print(errors)"
   ]
  },
  {
   "cell_type": "code",
   "execution_count": null,
   "metadata": {},
   "outputs": [],
   "source": [
    "get_direct_company_tech('Retailzoom')"
   ]
  },
  {
   "cell_type": "code",
   "execution_count": 6,
   "metadata": {},
   "outputs": [],
   "source": [
    "import pandas as pd\n",
    "results = pd.read_csv('../data/results.csv')\n",
    "person_record = results[results['person_link']==\"https://www.linkedin.com/in/lefkios\"].iloc[0]\n",
    "person_link = person_record['person_link']\n",
    "company_link = person_record['company_link']\n",
    "company_technologies = person_record['company_technologies']\n",
    "job_board_link = person_record['job_board_link']\n",
    "job_offers_links = person_record['job_offers_links']"
   ]
  },
  {
   "cell_type": "code",
   "execution_count": 13,
   "metadata": {},
   "outputs": [
    {
     "data": {
      "text/plain": [
       "'/Users/tantusdata/projekty/FindJobOffers/src'"
      ]
     },
     "execution_count": 13,
     "metadata": {},
     "output_type": "execute_result"
    }
   ],
   "source": [
    "pwd"
   ]
  },
  {
   "cell_type": "code",
   "execution_count": 17,
   "metadata": {},
   "outputs": [],
   "source": [
    "import pandas as pd\n",
    "\n",
    "# Wczytanie pliku CSV\n",
    "df = pd.read_csv('../data/results2_v2.csv')\n",
    "\n",
    "# Zapis do pliku Excel (XLSX)\n",
    "df.to_excel('results2_v2.xlsx', index=False)\n"
   ]
  },
  {
   "cell_type": "markdown",
   "metadata": {},
   "source": [
    "# BIN\n",
    "\n"
   ]
  },
  {
   "cell_type": "code",
   "execution_count": null,
   "metadata": {},
   "outputs": [],
   "source": [
    "import csv\n",
    "import pandas as pd\n",
    "\n",
    "# Ścieżka do pliku CSV, gdzie będą zapisywane wyniki\n",
    "results_file = 'results.csv'\n",
    "\n",
    "# Otwieramy plik CSV do zapisu\n",
    "linkedin = LinkedinAdapter(os.environ['EMAIL_LINKEDIN'], os.environ['PASSWORD_LINKEDIN'])\n",
    "with open(results_file, mode='w', newline='', encoding='utf-8') as file:\n",
    "    writer = csv.writer(file)\n",
    "    \n",
    "    # Zapisanie nagłówków kolumn (przykładowe kolumny, dostosuj do rzeczywistej struktury danych)\n",
    "    writer.writerow(['company_technologies', 'person_link', 'company_link', 'job_board_link', 'job_offers_links'])\n",
    "errors = 0\n",
    "# Iteracja po linkach i wywołanie funkcji\n",
    "for link in dataset_linkedin_links[:5]:\n",
    "    # Wywołanie funkcji dla danego linku\n",
    "    try:\n",
    "        company_technologies, person_link, company_link, job_board_link, job_offers_links = get_person_company_tech(linkedin=linkedin, person_link=link)\n",
    "        \n",
    "        # Zapisanie wyników w pliku CSV\n",
    "        with open(results_file, mode='a', newline='', encoding='utf-8') as file:\n",
    "            writer = csv.writer(file)\n",
    "            writer.writerow([company_technologies, person_link, company_link, job_board_link, job_offers_links])\n",
    "    except:\n",
    "        errors += 1\n",
    "        \n",
    "\n",
    "# Wczytywanie wyników z pliku CSV do DataFrame pandas\n",
    "df = pd.read_csv(results_file)\n",
    "print(errors)"
   ]
  },
  {
   "cell_type": "code",
   "execution_count": null,
   "metadata": {},
   "outputs": [],
   "source": [
    "\"\"\"\n",
    "    from url_to_llm_text.get_html_text import get_page_source\n",
    "    from url_to_llm_text.get_llm_input_text import get_processed_text\n",
    "    from langchain_core.pydantic_v1 import BaseModel, Field\n",
    "    from langchain_openai import ChatOpenAI\n",
    "\n",
    "    class JobBoardCheck(BaseModel):\n",
    "        job_board_bool: bool = Field(description='Bool value of existing job board')\n",
    "\n",
    "    def is_job_board(url):\n",
    "        page_source = get_page_source(url)\n",
    "        llm_text = get_processed_text(page_source, url)\n",
    "\n",
    "        prompt_format = \"\"\"In input I give you a webpage. \n",
    "                        I'm not sure that there is or there isn't job board. Write me answer\n",
    "                        webpage: {llm_friendly_webpage_text}\"\"\"\n",
    "        if len(llm_text) > 40000:\n",
    "            print('SHORT LLM TEXT')\n",
    "        prompt = prompt_format.format(llm_friendly_webpage_text=llm_text[:40000])\n",
    "\n",
    "        model = ChatOpenAI(model=\"gpt-4o-2024-05-13\", temperature=0, seed=0, top_p=0.001,\n",
    "                        max_tokens=4096, n=1, frequency_penalty=0, presence_penalty=0)\n",
    "        \n",
    "        structured_llm = model.with_structured_output(JobBoardCheck)\n",
    "\n",
    "        prompt = prompt_format.format(llm_friendly_webpage_text=llm_text)\n",
    "        answer = structured_llm.invoke(prompt)\n",
    "        return answer\n",
    "\"\"\"\n"
   ]
  }
 ],
 "metadata": {
  "kernelspec": {
   "display_name": "Python 3",
   "language": "python",
   "name": "python3"
  },
  "language_info": {
   "codemirror_mode": {
    "name": "ipython",
    "version": 3
   },
   "file_extension": ".py",
   "mimetype": "text/x-python",
   "name": "python",
   "nbconvert_exporter": "python",
   "pygments_lexer": "ipython3",
   "version": "3.9.6"
  }
 },
 "nbformat": 4,
 "nbformat_minor": 2
}
