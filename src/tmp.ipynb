{
 "cells": [
  {
   "cell_type": "markdown",
   "metadata": {},
   "source": [
    "# Code"
   ]
  },
  {
   "cell_type": "code",
   "execution_count": 2,
   "metadata": {},
   "outputs": [
    {
     "name": "stdout",
     "output_type": "stream",
     "text": [
      "Collecting git+https://github.com/ai92-github/llm-reader.git (from -r ../requirements.txt (line 1))\n",
      "  Cloning https://github.com/ai92-github/llm-reader.git to /private/var/folders/tp/7m3g88nd5n18wzy9fx7gwmkh0000gn/T/pip-req-build-lgwp3vwl\n",
      "  Running command git clone --filter=blob:none --quiet https://github.com/ai92-github/llm-reader.git /private/var/folders/tp/7m3g88nd5n18wzy9fx7gwmkh0000gn/T/pip-req-build-lgwp3vwl\n",
      "  Resolved https://github.com/ai92-github/llm-reader.git to commit c7fa92b465ed63afd6cd0e73dfc894bbd93bcca4\n",
      "  Preparing metadata (setup.py) ... \u001b[?25ldone\n",
      "\u001b[?25hRequirement already satisfied: selenium in /Users/tantusdata/projekty/FindJobOffers/.venv/lib/python3.9/site-packages (from -r ../requirements.txt (line 2)) (4.23.1)\n",
      "Requirement already satisfied: playwright in /Users/tantusdata/projekty/FindJobOffers/.venv/lib/python3.9/site-packages (from -r ../requirements.txt (line 3)) (1.45.1)\n",
      "Requirement already satisfied: google-colab-selenium in /Users/tantusdata/projekty/FindJobOffers/.venv/lib/python3.9/site-packages (from -r ../requirements.txt (line 4)) (1.0.14)\n",
      "Requirement already satisfied: requests in /Users/tantusdata/projekty/FindJobOffers/.venv/lib/python3.9/site-packages (from -r ../requirements.txt (line 5)) (2.32.3)\n",
      "Requirement already satisfied: beautifulsoup4 in /Users/tantusdata/projekty/FindJobOffers/.venv/lib/python3.9/site-packages (from -r ../requirements.txt (line 6)) (4.12.3)\n",
      "Requirement already satisfied: linkedin-api in /Users/tantusdata/projekty/FindJobOffers/.venv/lib/python3.9/site-packages (from -r ../requirements.txt (line 7)) (2.1.1)\n",
      "Requirement already satisfied: nest_asyncio in /Users/tantusdata/projekty/FindJobOffers/.venv/lib/python3.9/site-packages (from -r ../requirements.txt (line 8)) (1.6.0)\n",
      "Requirement already satisfied: tiktoken in /Users/tantusdata/projekty/FindJobOffers/.venv/lib/python3.9/site-packages (from -r ../requirements.txt (line 9)) (0.7.0)\n",
      "Requirement already satisfied: matplotlib in /Users/tantusdata/projekty/FindJobOffers/.venv/lib/python3.9/site-packages (from -r ../requirements.txt (line 10)) (3.9.1.post1)\n",
      "Requirement already satisfied: langchain in /Users/tantusdata/projekty/FindJobOffers/.venv/lib/python3.9/site-packages (from -r ../requirements.txt (line 11)) (0.2.12)\n",
      "Requirement already satisfied: langchain_core in /Users/tantusdata/projekty/FindJobOffers/.venv/lib/python3.9/site-packages (from -r ../requirements.txt (line 12)) (0.2.29)\n",
      "Requirement already satisfied: langchain-community in /Users/tantusdata/projekty/FindJobOffers/.venv/lib/python3.9/site-packages (from -r ../requirements.txt (line 13)) (0.2.11)\n",
      "Requirement already satisfied: langchain-cli in /Users/tantusdata/projekty/FindJobOffers/.venv/lib/python3.9/site-packages (from -r ../requirements.txt (line 15)) (0.0.28)\n",
      "Requirement already satisfied: langchain_openai in /Users/tantusdata/projekty/FindJobOffers/.venv/lib/python3.9/site-packages (from -r ../requirements.txt (line 16)) (0.1.20)\n",
      "Requirement already satisfied: langchain-anthropic in /Users/tantusdata/projekty/FindJobOffers/.venv/lib/python3.9/site-packages (from -r ../requirements.txt (line 17)) (0.1.22)\n",
      "Requirement already satisfied: langserve in /Users/tantusdata/projekty/FindJobOffers/.venv/lib/python3.9/site-packages (from -r ../requirements.txt (line 18)) (0.2.2)\n",
      "Requirement already satisfied: langchainhub in /Users/tantusdata/projekty/FindJobOffers/.venv/lib/python3.9/site-packages (from -r ../requirements.txt (line 19)) (0.1.20)\n",
      "Requirement already satisfied: langchain_experimental in /Users/tantusdata/projekty/FindJobOffers/.venv/lib/python3.9/site-packages (from -r ../requirements.txt (line 20)) (0.0.64)\n",
      "Requirement already satisfied: openai in /Users/tantusdata/projekty/FindJobOffers/.venv/lib/python3.9/site-packages (from -r ../requirements.txt (line 22)) (1.40.1)\n",
      "Requirement already satisfied: anthropic in /Users/tantusdata/projekty/FindJobOffers/.venv/lib/python3.9/site-packages (from -r ../requirements.txt (line 23)) (0.32.0)\n",
      "Requirement already satisfied: grandalf in /Users/tantusdata/projekty/FindJobOffers/.venv/lib/python3.9/site-packages (from -r ../requirements.txt (line 24)) (0.8)\n",
      "Requirement already satisfied: sentence_transformers in /Users/tantusdata/projekty/FindJobOffers/.venv/lib/python3.9/site-packages (from -r ../requirements.txt (line 25)) (3.0.1)\n",
      "Requirement already satisfied: pandas in /Users/tantusdata/projekty/FindJobOffers/.venv/lib/python3.9/site-packages (from -r ../requirements.txt (line 27)) (2.2.2)\n",
      "Requirement already satisfied: numpy in /Users/tantusdata/projekty/FindJobOffers/.venv/lib/python3.9/site-packages (from -r ../requirements.txt (line 28)) (1.26.4)\n",
      "Requirement already satisfied: python-dotenv in /Users/tantusdata/projekty/FindJobOffers/.venv/lib/python3.9/site-packages (from -r ../requirements.txt (line 29)) (1.0.1)\n",
      "Requirement already satisfied: unstructured[md] in /Users/tantusdata/projekty/FindJobOffers/.venv/lib/python3.9/site-packages (from -r ../requirements.txt (line 21)) (0.15.1)\n",
      "Requirement already satisfied: inscriptis in /Users/tantusdata/projekty/FindJobOffers/.venv/lib/python3.9/site-packages (from url-to-LLM-ready-text==1->-r ../requirements.txt (line 1)) (2.5.0)\n",
      "Requirement already satisfied: minify_html in /Users/tantusdata/projekty/FindJobOffers/.venv/lib/python3.9/site-packages (from url-to-LLM-ready-text==1->-r ../requirements.txt (line 1)) (0.15.0)\n",
      "Requirement already satisfied: urllib3<3,>=1.26 in /Users/tantusdata/projekty/FindJobOffers/.venv/lib/python3.9/site-packages (from urllib3[socks]<3,>=1.26->selenium->-r ../requirements.txt (line 2)) (2.2.2)\n",
      "Requirement already satisfied: trio~=0.17 in /Users/tantusdata/projekty/FindJobOffers/.venv/lib/python3.9/site-packages (from selenium->-r ../requirements.txt (line 2)) (0.26.2)\n",
      "Requirement already satisfied: trio-websocket~=0.9 in /Users/tantusdata/projekty/FindJobOffers/.venv/lib/python3.9/site-packages (from selenium->-r ../requirements.txt (line 2)) (0.11.1)\n",
      "Requirement already satisfied: certifi>=2021.10.8 in /Users/tantusdata/projekty/FindJobOffers/.venv/lib/python3.9/site-packages (from selenium->-r ../requirements.txt (line 2)) (2024.7.4)\n",
      "Requirement already satisfied: typing_extensions~=4.9 in /Users/tantusdata/projekty/FindJobOffers/.venv/lib/python3.9/site-packages (from selenium->-r ../requirements.txt (line 2)) (4.12.2)\n",
      "Requirement already satisfied: websocket-client~=1.8 in /Users/tantusdata/projekty/FindJobOffers/.venv/lib/python3.9/site-packages (from selenium->-r ../requirements.txt (line 2)) (1.8.0)\n",
      "Requirement already satisfied: greenlet==3.0.3 in /Users/tantusdata/projekty/FindJobOffers/.venv/lib/python3.9/site-packages (from playwright->-r ../requirements.txt (line 3)) (3.0.3)\n",
      "Requirement already satisfied: pyee==11.1.0 in /Users/tantusdata/projekty/FindJobOffers/.venv/lib/python3.9/site-packages (from playwright->-r ../requirements.txt (line 3)) (11.1.0)\n",
      "Requirement already satisfied: charset-normalizer<4,>=2 in /Users/tantusdata/projekty/FindJobOffers/.venv/lib/python3.9/site-packages (from requests->-r ../requirements.txt (line 5)) (3.3.2)\n",
      "Requirement already satisfied: idna<4,>=2.5 in /Users/tantusdata/projekty/FindJobOffers/.venv/lib/python3.9/site-packages (from requests->-r ../requirements.txt (line 5)) (3.7)\n",
      "Requirement already satisfied: soupsieve>1.2 in /Users/tantusdata/projekty/FindJobOffers/.venv/lib/python3.9/site-packages (from beautifulsoup4->-r ../requirements.txt (line 6)) (2.5)\n",
      "Requirement already satisfied: lxml in /Users/tantusdata/projekty/FindJobOffers/.venv/lib/python3.9/site-packages (from linkedin-api->-r ../requirements.txt (line 7)) (5.2.2)\n",
      "Requirement already satisfied: regex>=2022.1.18 in /Users/tantusdata/projekty/FindJobOffers/.venv/lib/python3.9/site-packages (from tiktoken->-r ../requirements.txt (line 9)) (2024.7.24)\n",
      "Requirement already satisfied: contourpy>=1.0.1 in /Users/tantusdata/projekty/FindJobOffers/.venv/lib/python3.9/site-packages (from matplotlib->-r ../requirements.txt (line 10)) (1.2.1)\n",
      "Requirement already satisfied: cycler>=0.10 in /Users/tantusdata/projekty/FindJobOffers/.venv/lib/python3.9/site-packages (from matplotlib->-r ../requirements.txt (line 10)) (0.12.1)\n",
      "Requirement already satisfied: fonttools>=4.22.0 in /Users/tantusdata/projekty/FindJobOffers/.venv/lib/python3.9/site-packages (from matplotlib->-r ../requirements.txt (line 10)) (4.53.1)\n",
      "Requirement already satisfied: kiwisolver>=1.3.1 in /Users/tantusdata/projekty/FindJobOffers/.venv/lib/python3.9/site-packages (from matplotlib->-r ../requirements.txt (line 10)) (1.4.5)\n",
      "Requirement already satisfied: packaging>=20.0 in /Users/tantusdata/projekty/FindJobOffers/.venv/lib/python3.9/site-packages (from matplotlib->-r ../requirements.txt (line 10)) (24.1)\n",
      "Requirement already satisfied: pillow>=8 in /Users/tantusdata/projekty/FindJobOffers/.venv/lib/python3.9/site-packages (from matplotlib->-r ../requirements.txt (line 10)) (10.4.0)\n",
      "Requirement already satisfied: pyparsing>=2.3.1 in /Users/tantusdata/projekty/FindJobOffers/.venv/lib/python3.9/site-packages (from matplotlib->-r ../requirements.txt (line 10)) (3.1.2)\n",
      "Requirement already satisfied: python-dateutil>=2.7 in /Users/tantusdata/projekty/FindJobOffers/.venv/lib/python3.9/site-packages (from matplotlib->-r ../requirements.txt (line 10)) (2.9.0.post0)\n",
      "Requirement already satisfied: importlib-resources>=3.2.0 in /Users/tantusdata/projekty/FindJobOffers/.venv/lib/python3.9/site-packages (from matplotlib->-r ../requirements.txt (line 10)) (6.4.0)\n",
      "Requirement already satisfied: PyYAML>=5.3 in /Users/tantusdata/projekty/FindJobOffers/.venv/lib/python3.9/site-packages (from langchain->-r ../requirements.txt (line 11)) (6.0.2)\n",
      "Requirement already satisfied: SQLAlchemy<3,>=1.4 in /Users/tantusdata/projekty/FindJobOffers/.venv/lib/python3.9/site-packages (from langchain->-r ../requirements.txt (line 11)) (2.0.32)\n",
      "Requirement already satisfied: aiohttp<4.0.0,>=3.8.3 in /Users/tantusdata/projekty/FindJobOffers/.venv/lib/python3.9/site-packages (from langchain->-r ../requirements.txt (line 11)) (3.10.1)\n",
      "Requirement already satisfied: async-timeout<5.0.0,>=4.0.0 in /Users/tantusdata/projekty/FindJobOffers/.venv/lib/python3.9/site-packages (from langchain->-r ../requirements.txt (line 11)) (4.0.3)\n",
      "Requirement already satisfied: langchain-text-splitters<0.3.0,>=0.2.0 in /Users/tantusdata/projekty/FindJobOffers/.venv/lib/python3.9/site-packages (from langchain->-r ../requirements.txt (line 11)) (0.2.2)\n",
      "Requirement already satisfied: langsmith<0.2.0,>=0.1.17 in /Users/tantusdata/projekty/FindJobOffers/.venv/lib/python3.9/site-packages (from langchain->-r ../requirements.txt (line 11)) (0.1.98)\n",
      "Requirement already satisfied: pydantic<3,>=1 in /Users/tantusdata/projekty/FindJobOffers/.venv/lib/python3.9/site-packages (from langchain->-r ../requirements.txt (line 11)) (2.8.2)\n",
      "Requirement already satisfied: tenacity!=8.4.0,<9.0.0,>=8.1.0 in /Users/tantusdata/projekty/FindJobOffers/.venv/lib/python3.9/site-packages (from langchain->-r ../requirements.txt (line 11)) (8.5.0)\n",
      "Requirement already satisfied: jsonpatch<2.0,>=1.33 in /Users/tantusdata/projekty/FindJobOffers/.venv/lib/python3.9/site-packages (from langchain_core->-r ../requirements.txt (line 12)) (1.33)\n",
      "Requirement already satisfied: dataclasses-json<0.7,>=0.5.7 in /Users/tantusdata/projekty/FindJobOffers/.venv/lib/python3.9/site-packages (from langchain-community->-r ../requirements.txt (line 13)) (0.6.7)\n",
      "Requirement already satisfied: httpx>=0.23.0 in /Users/tantusdata/projekty/FindJobOffers/.venv/lib/python3.9/site-packages (from langserve[all]->-r ../requirements.txt (line 14)) (0.27.0)\n",
      "Requirement already satisfied: orjson>=2 in /Users/tantusdata/projekty/FindJobOffers/.venv/lib/python3.9/site-packages (from langserve[all]->-r ../requirements.txt (line 14)) (3.10.6)\n",
      "Requirement already satisfied: pyproject-toml<0.0.11,>=0.0.10 in /Users/tantusdata/projekty/FindJobOffers/.venv/lib/python3.9/site-packages (from langserve[all]->-r ../requirements.txt (line 14)) (0.0.10)\n",
      "Requirement already satisfied: fastapi<1,>=0.90.1 in /Users/tantusdata/projekty/FindJobOffers/.venv/lib/python3.9/site-packages (from langserve[all]->-r ../requirements.txt (line 14)) (0.112.0)\n",
      "Requirement already satisfied: sse-starlette<2.0.0,>=1.3.0 in /Users/tantusdata/projekty/FindJobOffers/.venv/lib/python3.9/site-packages (from langserve[all]->-r ../requirements.txt (line 14)) (1.8.2)\n",
      "Requirement already satisfied: gitpython<4.0.0,>=3.1.40 in /Users/tantusdata/projekty/FindJobOffers/.venv/lib/python3.9/site-packages (from langchain-cli->-r ../requirements.txt (line 15)) (3.1.43)\n",
      "Requirement already satisfied: libcst<2.0.0,>=1.3.1 in /Users/tantusdata/projekty/FindJobOffers/.venv/lib/python3.9/site-packages (from langchain-cli->-r ../requirements.txt (line 15)) (1.4.0)\n",
      "Requirement already satisfied: tomlkit<0.13.0,>=0.12.2 in /Users/tantusdata/projekty/FindJobOffers/.venv/lib/python3.9/site-packages (from langchain-cli->-r ../requirements.txt (line 15)) (0.12.5)\n",
      "Requirement already satisfied: typer<0.10.0,>=0.9.0 in /Users/tantusdata/projekty/FindJobOffers/.venv/lib/python3.9/site-packages (from typer[all]<0.10.0,>=0.9.0->langchain-cli->-r ../requirements.txt (line 15)) (0.9.4)\n",
      "Requirement already satisfied: uvicorn<0.24.0,>=0.23.2 in /Users/tantusdata/projekty/FindJobOffers/.venv/lib/python3.9/site-packages (from langchain-cli->-r ../requirements.txt (line 15)) (0.23.2)\n",
      "Requirement already satisfied: defusedxml<0.8.0,>=0.7.1 in /Users/tantusdata/projekty/FindJobOffers/.venv/lib/python3.9/site-packages (from langchain-anthropic->-r ../requirements.txt (line 17)) (0.7.1)\n",
      "Requirement already satisfied: types-requests<3.0.0.0,>=2.31.0.2 in /Users/tantusdata/projekty/FindJobOffers/.venv/lib/python3.9/site-packages (from langchainhub->-r ../requirements.txt (line 19)) (2.32.0.20240712)\n",
      "Requirement already satisfied: chardet in /Users/tantusdata/projekty/FindJobOffers/.venv/lib/python3.9/site-packages (from unstructured[md]->-r ../requirements.txt (line 21)) (5.2.0)\n",
      "Requirement already satisfied: filetype in /Users/tantusdata/projekty/FindJobOffers/.venv/lib/python3.9/site-packages (from unstructured[md]->-r ../requirements.txt (line 21)) (1.2.0)\n",
      "Requirement already satisfied: python-magic in /Users/tantusdata/projekty/FindJobOffers/.venv/lib/python3.9/site-packages (from unstructured[md]->-r ../requirements.txt (line 21)) (0.4.27)\n",
      "Requirement already satisfied: nltk in /Users/tantusdata/projekty/FindJobOffers/.venv/lib/python3.9/site-packages (from unstructured[md]->-r ../requirements.txt (line 21)) (3.8.1)\n",
      "Requirement already satisfied: tabulate in /Users/tantusdata/projekty/FindJobOffers/.venv/lib/python3.9/site-packages (from unstructured[md]->-r ../requirements.txt (line 21)) (0.9.0)\n",
      "Requirement already satisfied: emoji in /Users/tantusdata/projekty/FindJobOffers/.venv/lib/python3.9/site-packages (from unstructured[md]->-r ../requirements.txt (line 21)) (2.12.1)\n",
      "Requirement already satisfied: python-iso639 in /Users/tantusdata/projekty/FindJobOffers/.venv/lib/python3.9/site-packages (from unstructured[md]->-r ../requirements.txt (line 21)) (2024.4.27)\n",
      "Requirement already satisfied: langdetect in /Users/tantusdata/projekty/FindJobOffers/.venv/lib/python3.9/site-packages (from unstructured[md]->-r ../requirements.txt (line 21)) (1.0.9)\n",
      "Requirement already satisfied: rapidfuzz in /Users/tantusdata/projekty/FindJobOffers/.venv/lib/python3.9/site-packages (from unstructured[md]->-r ../requirements.txt (line 21)) (3.9.6)\n",
      "Requirement already satisfied: backoff in /Users/tantusdata/projekty/FindJobOffers/.venv/lib/python3.9/site-packages (from unstructured[md]->-r ../requirements.txt (line 21)) (2.2.1)\n",
      "Requirement already satisfied: unstructured-client in /Users/tantusdata/projekty/FindJobOffers/.venv/lib/python3.9/site-packages (from unstructured[md]->-r ../requirements.txt (line 21)) (0.25.4)\n",
      "Requirement already satisfied: wrapt in /Users/tantusdata/projekty/FindJobOffers/.venv/lib/python3.9/site-packages (from unstructured[md]->-r ../requirements.txt (line 21)) (1.16.0)\n",
      "Requirement already satisfied: tqdm in /Users/tantusdata/projekty/FindJobOffers/.venv/lib/python3.9/site-packages (from unstructured[md]->-r ../requirements.txt (line 21)) (4.66.5)\n",
      "Requirement already satisfied: psutil in /Users/tantusdata/projekty/FindJobOffers/.venv/lib/python3.9/site-packages (from unstructured[md]->-r ../requirements.txt (line 21)) (6.0.0)\n",
      "Requirement already satisfied: markdown in /Users/tantusdata/projekty/FindJobOffers/.venv/lib/python3.9/site-packages (from unstructured[md]->-r ../requirements.txt (line 21)) (3.6)\n",
      "Requirement already satisfied: anyio<5,>=3.5.0 in /Users/tantusdata/projekty/FindJobOffers/.venv/lib/python3.9/site-packages (from openai->-r ../requirements.txt (line 22)) (4.4.0)\n",
      "Requirement already satisfied: distro<2,>=1.7.0 in /Users/tantusdata/projekty/FindJobOffers/.venv/lib/python3.9/site-packages (from openai->-r ../requirements.txt (line 22)) (1.9.0)\n",
      "Requirement already satisfied: jiter<1,>=0.4.0 in /Users/tantusdata/projekty/FindJobOffers/.venv/lib/python3.9/site-packages (from openai->-r ../requirements.txt (line 22)) (0.5.0)\n",
      "Requirement already satisfied: sniffio in /Users/tantusdata/projekty/FindJobOffers/.venv/lib/python3.9/site-packages (from openai->-r ../requirements.txt (line 22)) (1.3.1)\n",
      "Requirement already satisfied: tokenizers>=0.13.0 in /Users/tantusdata/projekty/FindJobOffers/.venv/lib/python3.9/site-packages (from anthropic->-r ../requirements.txt (line 23)) (0.19.1)\n",
      "Requirement already satisfied: transformers<5.0.0,>=4.34.0 in /Users/tantusdata/projekty/FindJobOffers/.venv/lib/python3.9/site-packages (from sentence_transformers->-r ../requirements.txt (line 25)) (4.44.0)\n",
      "Requirement already satisfied: torch>=1.11.0 in /Users/tantusdata/projekty/FindJobOffers/.venv/lib/python3.9/site-packages (from sentence_transformers->-r ../requirements.txt (line 25)) (2.4.0)\n",
      "Requirement already satisfied: scikit-learn in /Users/tantusdata/projekty/FindJobOffers/.venv/lib/python3.9/site-packages (from sentence_transformers->-r ../requirements.txt (line 25)) (1.5.1)\n",
      "Requirement already satisfied: scipy in /Users/tantusdata/projekty/FindJobOffers/.venv/lib/python3.9/site-packages (from sentence_transformers->-r ../requirements.txt (line 25)) (1.13.1)\n",
      "Requirement already satisfied: huggingface-hub>=0.15.1 in /Users/tantusdata/projekty/FindJobOffers/.venv/lib/python3.9/site-packages (from sentence_transformers->-r ../requirements.txt (line 25)) (0.24.5)\n",
      "Requirement already satisfied: pytz>=2020.1 in /Users/tantusdata/projekty/FindJobOffers/.venv/lib/python3.9/site-packages (from pandas->-r ../requirements.txt (line 27)) (2024.1)\n",
      "Requirement already satisfied: tzdata>=2022.7 in /Users/tantusdata/projekty/FindJobOffers/.venv/lib/python3.9/site-packages (from pandas->-r ../requirements.txt (line 27)) (2024.1)\n",
      "Requirement already satisfied: aiohappyeyeballs>=2.3.0 in /Users/tantusdata/projekty/FindJobOffers/.venv/lib/python3.9/site-packages (from aiohttp<4.0.0,>=3.8.3->langchain->-r ../requirements.txt (line 11)) (2.3.5)\n",
      "Requirement already satisfied: aiosignal>=1.1.2 in /Users/tantusdata/projekty/FindJobOffers/.venv/lib/python3.9/site-packages (from aiohttp<4.0.0,>=3.8.3->langchain->-r ../requirements.txt (line 11)) (1.3.1)\n",
      "Requirement already satisfied: attrs>=17.3.0 in /Users/tantusdata/projekty/FindJobOffers/.venv/lib/python3.9/site-packages (from aiohttp<4.0.0,>=3.8.3->langchain->-r ../requirements.txt (line 11)) (24.2.0)\n",
      "Requirement already satisfied: frozenlist>=1.1.1 in /Users/tantusdata/projekty/FindJobOffers/.venv/lib/python3.9/site-packages (from aiohttp<4.0.0,>=3.8.3->langchain->-r ../requirements.txt (line 11)) (1.4.1)\n",
      "Requirement already satisfied: multidict<7.0,>=4.5 in /Users/tantusdata/projekty/FindJobOffers/.venv/lib/python3.9/site-packages (from aiohttp<4.0.0,>=3.8.3->langchain->-r ../requirements.txt (line 11)) (6.0.5)\n",
      "Requirement already satisfied: yarl<2.0,>=1.0 in /Users/tantusdata/projekty/FindJobOffers/.venv/lib/python3.9/site-packages (from aiohttp<4.0.0,>=3.8.3->langchain->-r ../requirements.txt (line 11)) (1.9.4)\n",
      "Requirement already satisfied: exceptiongroup>=1.0.2 in /Users/tantusdata/projekty/FindJobOffers/.venv/lib/python3.9/site-packages (from anyio<5,>=3.5.0->openai->-r ../requirements.txt (line 22)) (1.2.2)\n",
      "Requirement already satisfied: marshmallow<4.0.0,>=3.18.0 in /Users/tantusdata/projekty/FindJobOffers/.venv/lib/python3.9/site-packages (from dataclasses-json<0.7,>=0.5.7->langchain-community->-r ../requirements.txt (line 13)) (3.21.3)\n",
      "Requirement already satisfied: typing-inspect<1,>=0.4.0 in /Users/tantusdata/projekty/FindJobOffers/.venv/lib/python3.9/site-packages (from dataclasses-json<0.7,>=0.5.7->langchain-community->-r ../requirements.txt (line 13)) (0.9.0)\n",
      "Requirement already satisfied: starlette<0.38.0,>=0.37.2 in /Users/tantusdata/projekty/FindJobOffers/.venv/lib/python3.9/site-packages (from fastapi<1,>=0.90.1->langserve[all]->-r ../requirements.txt (line 14)) (0.37.2)\n",
      "Requirement already satisfied: gitdb<5,>=4.0.1 in /Users/tantusdata/projekty/FindJobOffers/.venv/lib/python3.9/site-packages (from gitpython<4.0.0,>=3.1.40->langchain-cli->-r ../requirements.txt (line 15)) (4.0.11)\n",
      "Requirement already satisfied: httpcore==1.* in /Users/tantusdata/projekty/FindJobOffers/.venv/lib/python3.9/site-packages (from httpx>=0.23.0->langserve[all]->-r ../requirements.txt (line 14)) (1.0.5)\n",
      "Requirement already satisfied: h11<0.15,>=0.13 in /Users/tantusdata/projekty/FindJobOffers/.venv/lib/python3.9/site-packages (from httpcore==1.*->httpx>=0.23.0->langserve[all]->-r ../requirements.txt (line 14)) (0.14.0)\n",
      "Requirement already satisfied: filelock in /Users/tantusdata/projekty/FindJobOffers/.venv/lib/python3.9/site-packages (from huggingface-hub>=0.15.1->sentence_transformers->-r ../requirements.txt (line 25)) (3.15.4)\n",
      "Requirement already satisfied: fsspec>=2023.5.0 in /Users/tantusdata/projekty/FindJobOffers/.venv/lib/python3.9/site-packages (from huggingface-hub>=0.15.1->sentence_transformers->-r ../requirements.txt (line 25)) (2024.6.1)\n",
      "Requirement already satisfied: zipp>=3.1.0 in /Users/tantusdata/projekty/FindJobOffers/.venv/lib/python3.9/site-packages (from importlib-resources>=3.2.0->matplotlib->-r ../requirements.txt (line 10)) (3.19.2)\n",
      "Requirement already satisfied: jsonpointer>=1.9 in /Users/tantusdata/projekty/FindJobOffers/.venv/lib/python3.9/site-packages (from jsonpatch<2.0,>=1.33->langchain_core->-r ../requirements.txt (line 12)) (3.0.0)\n",
      "Requirement already satisfied: annotated-types>=0.4.0 in /Users/tantusdata/projekty/FindJobOffers/.venv/lib/python3.9/site-packages (from pydantic<3,>=1->langchain->-r ../requirements.txt (line 11)) (0.7.0)\n",
      "Requirement already satisfied: pydantic-core==2.20.1 in /Users/tantusdata/projekty/FindJobOffers/.venv/lib/python3.9/site-packages (from pydantic<3,>=1->langchain->-r ../requirements.txt (line 11)) (2.20.1)\n",
      "Requirement already satisfied: setuptools>=42 in /Users/tantusdata/projekty/FindJobOffers/.venv/lib/python3.9/site-packages (from pyproject-toml<0.0.11,>=0.0.10->langserve[all]->-r ../requirements.txt (line 14)) (58.0.4)\n",
      "Requirement already satisfied: wheel in /Users/tantusdata/projekty/FindJobOffers/.venv/lib/python3.9/site-packages (from pyproject-toml<0.0.11,>=0.0.10->langserve[all]->-r ../requirements.txt (line 14)) (0.44.0)\n",
      "Requirement already satisfied: toml in /Users/tantusdata/projekty/FindJobOffers/.venv/lib/python3.9/site-packages (from pyproject-toml<0.0.11,>=0.0.10->langserve[all]->-r ../requirements.txt (line 14)) (0.10.2)\n",
      "Requirement already satisfied: jsonschema in /Users/tantusdata/projekty/FindJobOffers/.venv/lib/python3.9/site-packages (from pyproject-toml<0.0.11,>=0.0.10->langserve[all]->-r ../requirements.txt (line 14)) (4.23.0)\n",
      "Requirement already satisfied: six>=1.5 in /Users/tantusdata/projekty/FindJobOffers/.venv/lib/python3.9/site-packages (from python-dateutil>=2.7->matplotlib->-r ../requirements.txt (line 10)) (1.16.0)\n",
      "Requirement already satisfied: sympy in /Users/tantusdata/projekty/FindJobOffers/.venv/lib/python3.9/site-packages (from torch>=1.11.0->sentence_transformers->-r ../requirements.txt (line 25)) (1.13.1)\n",
      "Requirement already satisfied: networkx in /Users/tantusdata/projekty/FindJobOffers/.venv/lib/python3.9/site-packages (from torch>=1.11.0->sentence_transformers->-r ../requirements.txt (line 25)) (3.2.1)\n",
      "Requirement already satisfied: jinja2 in /Users/tantusdata/projekty/FindJobOffers/.venv/lib/python3.9/site-packages (from torch>=1.11.0->sentence_transformers->-r ../requirements.txt (line 25)) (3.1.4)\n",
      "Requirement already satisfied: safetensors>=0.4.1 in /Users/tantusdata/projekty/FindJobOffers/.venv/lib/python3.9/site-packages (from transformers<5.0.0,>=4.34.0->sentence_transformers->-r ../requirements.txt (line 25)) (0.4.4)\n",
      "Requirement already satisfied: sortedcontainers in /Users/tantusdata/projekty/FindJobOffers/.venv/lib/python3.9/site-packages (from trio~=0.17->selenium->-r ../requirements.txt (line 2)) (2.4.0)\n",
      "Requirement already satisfied: outcome in /Users/tantusdata/projekty/FindJobOffers/.venv/lib/python3.9/site-packages (from trio~=0.17->selenium->-r ../requirements.txt (line 2)) (1.3.0.post0)\n",
      "Requirement already satisfied: wsproto>=0.14 in /Users/tantusdata/projekty/FindJobOffers/.venv/lib/python3.9/site-packages (from trio-websocket~=0.9->selenium->-r ../requirements.txt (line 2)) (1.2.0)\n",
      "Requirement already satisfied: click<9.0.0,>=7.1.1 in /Users/tantusdata/projekty/FindJobOffers/.venv/lib/python3.9/site-packages (from typer<0.10.0,>=0.9.0->typer[all]<0.10.0,>=0.9.0->langchain-cli->-r ../requirements.txt (line 15)) (8.1.7)\n",
      "Requirement already satisfied: colorama<0.5.0,>=0.4.3 in /Users/tantusdata/projekty/FindJobOffers/.venv/lib/python3.9/site-packages (from typer[all]<0.10.0,>=0.9.0->langchain-cli->-r ../requirements.txt (line 15)) (0.4.6)\n",
      "Requirement already satisfied: shellingham<2.0.0,>=1.3.0 in /Users/tantusdata/projekty/FindJobOffers/.venv/lib/python3.9/site-packages (from typer[all]<0.10.0,>=0.9.0->langchain-cli->-r ../requirements.txt (line 15)) (1.5.4)\n",
      "Requirement already satisfied: rich<14.0.0,>=10.11.0 in /Users/tantusdata/projekty/FindJobOffers/.venv/lib/python3.9/site-packages (from typer[all]<0.10.0,>=0.9.0->langchain-cli->-r ../requirements.txt (line 15)) (13.7.1)\n",
      "Requirement already satisfied: pysocks!=1.5.7,<2.0,>=1.5.6 in /Users/tantusdata/projekty/FindJobOffers/.venv/lib/python3.9/site-packages (from urllib3[socks]<3,>=1.26->selenium->-r ../requirements.txt (line 2)) (1.7.1)\n",
      "Requirement already satisfied: importlib-metadata>=4.4 in /Users/tantusdata/projekty/FindJobOffers/.venv/lib/python3.9/site-packages (from markdown->unstructured[md]->-r ../requirements.txt (line 21)) (8.2.0)\n",
      "Requirement already satisfied: joblib in /Users/tantusdata/projekty/FindJobOffers/.venv/lib/python3.9/site-packages (from nltk->unstructured[md]->-r ../requirements.txt (line 21)) (1.4.2)\n",
      "Requirement already satisfied: threadpoolctl>=3.1.0 in /Users/tantusdata/projekty/FindJobOffers/.venv/lib/python3.9/site-packages (from scikit-learn->sentence_transformers->-r ../requirements.txt (line 25)) (3.5.0)\n",
      "Requirement already satisfied: deepdiff>=6.0 in /Users/tantusdata/projekty/FindJobOffers/.venv/lib/python3.9/site-packages (from unstructured-client->unstructured[md]->-r ../requirements.txt (line 21)) (7.0.1)\n",
      "Requirement already satisfied: jsonpath-python>=1.0.6 in /Users/tantusdata/projekty/FindJobOffers/.venv/lib/python3.9/site-packages (from unstructured-client->unstructured[md]->-r ../requirements.txt (line 21)) (1.0.6)\n",
      "Requirement already satisfied: mypy-extensions>=1.0.0 in /Users/tantusdata/projekty/FindJobOffers/.venv/lib/python3.9/site-packages (from unstructured-client->unstructured[md]->-r ../requirements.txt (line 21)) (1.0.0)\n",
      "Requirement already satisfied: pypdf>=4.0 in /Users/tantusdata/projekty/FindJobOffers/.venv/lib/python3.9/site-packages (from unstructured-client->unstructured[md]->-r ../requirements.txt (line 21)) (4.3.1)\n",
      "Requirement already satisfied: requests-toolbelt>=1.0.0 in /Users/tantusdata/projekty/FindJobOffers/.venv/lib/python3.9/site-packages (from unstructured-client->unstructured[md]->-r ../requirements.txt (line 21)) (1.0.0)\n",
      "Requirement already satisfied: ordered-set<4.2.0,>=4.1.0 in /Users/tantusdata/projekty/FindJobOffers/.venv/lib/python3.9/site-packages (from deepdiff>=6.0->unstructured-client->unstructured[md]->-r ../requirements.txt (line 21)) (4.1.0)\n",
      "Requirement already satisfied: smmap<6,>=3.0.1 in /Users/tantusdata/projekty/FindJobOffers/.venv/lib/python3.9/site-packages (from gitdb<5,>=4.0.1->gitpython<4.0.0,>=3.1.40->langchain-cli->-r ../requirements.txt (line 15)) (5.0.1)\n",
      "Requirement already satisfied: markdown-it-py>=2.2.0 in /Users/tantusdata/projekty/FindJobOffers/.venv/lib/python3.9/site-packages (from rich<14.0.0,>=10.11.0->typer[all]<0.10.0,>=0.9.0->langchain-cli->-r ../requirements.txt (line 15)) (3.0.0)\n",
      "Requirement already satisfied: pygments<3.0.0,>=2.13.0 in /Users/tantusdata/projekty/FindJobOffers/.venv/lib/python3.9/site-packages (from rich<14.0.0,>=10.11.0->typer[all]<0.10.0,>=0.9.0->langchain-cli->-r ../requirements.txt (line 15)) (2.18.0)\n",
      "Requirement already satisfied: MarkupSafe>=2.0 in /Users/tantusdata/projekty/FindJobOffers/.venv/lib/python3.9/site-packages (from jinja2->torch>=1.11.0->sentence_transformers->-r ../requirements.txt (line 25)) (2.1.5)\n",
      "Requirement already satisfied: jsonschema-specifications>=2023.03.6 in /Users/tantusdata/projekty/FindJobOffers/.venv/lib/python3.9/site-packages (from jsonschema->pyproject-toml<0.0.11,>=0.0.10->langserve[all]->-r ../requirements.txt (line 14)) (2023.12.1)\n",
      "Requirement already satisfied: referencing>=0.28.4 in /Users/tantusdata/projekty/FindJobOffers/.venv/lib/python3.9/site-packages (from jsonschema->pyproject-toml<0.0.11,>=0.0.10->langserve[all]->-r ../requirements.txt (line 14)) (0.35.1)\n",
      "Requirement already satisfied: rpds-py>=0.7.1 in /Users/tantusdata/projekty/FindJobOffers/.venv/lib/python3.9/site-packages (from jsonschema->pyproject-toml<0.0.11,>=0.0.10->langserve[all]->-r ../requirements.txt (line 14)) (0.20.0)\n",
      "Requirement already satisfied: mpmath<1.4,>=1.1.0 in /Users/tantusdata/projekty/FindJobOffers/.venv/lib/python3.9/site-packages (from sympy->torch>=1.11.0->sentence_transformers->-r ../requirements.txt (line 25)) (1.3.0)\n",
      "Requirement already satisfied: mdurl~=0.1 in /Users/tantusdata/projekty/FindJobOffers/.venv/lib/python3.9/site-packages (from markdown-it-py>=2.2.0->rich<14.0.0,>=10.11.0->typer[all]<0.10.0,>=0.9.0->langchain-cli->-r ../requirements.txt (line 15)) (0.1.2)\n"
     ]
    }
   ],
   "source": [
    "!pip install -r ../requirements.txt"
   ]
  },
  {
   "cell_type": "code",
   "execution_count": 1,
   "metadata": {},
   "outputs": [
    {
     "name": "stderr",
     "output_type": "stream",
     "text": [
      "/Users/tantusdata/projekty/FindJobOffers/.venv/lib/python3.9/site-packages/urllib3/__init__.py:35: NotOpenSSLWarning: urllib3 v2 only supports OpenSSL 1.1.1+, currently the 'ssl' module is compiled with 'LibreSSL 2.8.3'. See: https://github.com/urllib3/urllib3/issues/3020\n",
      "  warnings.warn(\n"
     ]
    }
   ],
   "source": [
    "from pipeline.pipeline import get_person_company_tech\n",
    "from linkedin.linkedin_adapter import LinkedinAdapter\n",
    "import os \n",
    "from dotenv import load_dotenv"
   ]
  },
  {
   "cell_type": "code",
   "execution_count": 2,
   "metadata": {},
   "outputs": [],
   "source": [
    "from pipeline.pipeline import get_person_company_tech\n",
    "from linkedin.linkedin_adapter import LinkedinAdapter\n",
    "import os \n",
    "from dotenv import load_dotenv\n",
    "\n",
    "\n",
    "load_dotenv()\n",
    "linkedin = LinkedinAdapter(os.environ['EMAIL_LINKEDIN'], os.environ['PASSWORD_LINKEDIN'])"
   ]
  },
  {
   "cell_type": "code",
   "execution_count": 31,
   "metadata": {},
   "outputs": [
    {
     "data": {
      "text/plain": [
       "<module 'web_search.career_link_pure' from '/Users/tantusdata/projekty/FindJobOffers/src/web_search/career_link_pure.py'>"
      ]
     },
     "execution_count": 31,
     "metadata": {},
     "output_type": "execute_result"
    }
   ],
   "source": [
    "import importlib\n",
    "\n",
    "import web_search.career_link_pure\n",
    "importlib.reload(web_search.career_link_pure)"
   ]
  },
  {
   "cell_type": "code",
   "execution_count": 10,
   "metadata": {},
   "outputs": [
    {
     "name": "stdout",
     "output_type": "stream",
     "text": [
      "Your JOB sample careere here...\n",
      "\n",
      "Your JOB sample careere here...\n"
     ]
    }
   ],
   "source": [
    "import re\n",
    "\n",
    "def dump_get_text(text):\n",
    "    # Define the words to search for\n",
    "    search_words = ['job', 'career', 'karriere']\n",
    "    \n",
    "    # Create a regex pattern for case-insensitive search, allowing for partial matches\n",
    "    pattern = re.compile(r'(' + '|'.join(search_words) + r')', re.IGNORECASE)\n",
    "    \n",
    "    # Find all matches and their positions\n",
    "    matches = pattern.finditer(text)\n",
    "    \n",
    "    # Collect the surrounding text for each match\n",
    "    results = []\n",
    "    for match in matches:\n",
    "        start = max(0, match.start() - 200)\n",
    "        end = min(len(text), match.end() + 200)\n",
    "        results.append(text[start:end])\n",
    "    \n",
    "    # Join all results into a single string\n",
    "    return '\\n\\n'.join(results)\n",
    "\n",
    "# Example usage\n",
    "sample_text = \"Your JOB sample careere here...\"\n",
    "result = dump_get_text(sample_text)\n",
    "print(result)\n"
   ]
  },
  {
   "cell_type": "code",
   "execution_count": 3,
   "metadata": {},
   "outputs": [
    {
     "data": {
      "text/plain": [
       "({'AWS': 0,\n",
       "  'GCP': 0,\n",
       "  'AZURE': 0,\n",
       "  'cloud': 0,\n",
       "  'Airflow': 0,\n",
       "  'Hadoop': 0,\n",
       "  'Kafka': 0,\n",
       "  'Redshift': 0,\n",
       "  'BigQuery': 0,\n",
       "  'Databricks': 0,\n",
       "  'snowflake': 0,\n",
       "  'Terraform': 0,\n",
       "  'data lake': 0,\n",
       "  'warehause': 0,\n",
       "  'etl': 0,\n",
       "  'spark': 0,\n",
       "  'PySpark': 0,\n",
       "  'data': 0,\n",
       "  'python': 0,\n",
       "  'SQL': 0,\n",
       "  'Scala': 0},\n",
       " 'https://www.linkedin.com/in/jens-meichsner',\n",
       " 'https://stenon.io/en',\n",
       " '.',\n",
       " {})"
      ]
     },
     "execution_count": 3,
     "metadata": {},
     "output_type": "execute_result"
    }
   ],
   "source": [
    "from pipeline.pipeline import get_person_company_tech\n",
    "result = get_person_company_tech(linkedin, 'https://www.linkedin.com/in/jens-meichsner')\n",
    "result"
   ]
  },
  {
   "cell_type": "code",
   "execution_count": 17,
   "metadata": {},
   "outputs": [],
   "source": [
    "from web_search.job_info import get_technologies\n",
    "\n",
    "r = get_technologies(\"https://try.commentsold.com/company/careers/apply-now/?gh_jid=6018952003\")\n"
   ]
  },
  {
   "cell_type": "code",
   "execution_count": 3,
   "metadata": {},
   "outputs": [],
   "source": [
    "people_links = [\"https://www.linkedin.com/in/vitekfilip\",\n",
    "        \"https://www.linkedin.com/in/anjali-savlani\",\n",
    "        \"https://www.linkedin.com/in/jens-meichsner\",\n",
    "        \"https://www.linkedin.com/in/mayerjonathan\",\n",
    "        \"https://www.linkedin.com/in/cmortier\",\n",
    "        \"https://www.linkedin.com/in/adrianomartins9\",\n",
    "        \"https://www.linkedin.com/in/garance-vallat\",\n",
    "        \"https://www.linkedin.com/in/sandra-pfunder-394a21242\",\n",
    "        \"https://www.linkedin.com/in/sebastian-tritsch-99006677\",\n",
    "        \"https://www.linkedin.com/in/reem-farah-954b9a10b\",\n",
    "        \"https://www.linkedin.com/in/vincent-bremer-613b77101\",\n",
    "        \"https://www.linkedin.com/in/kaj-kolja-kleineberg\"]"
   ]
  },
  {
   "cell_type": "code",
   "execution_count": 4,
   "metadata": {},
   "outputs": [
    {
     "name": "stdout",
     "output_type": "stream",
     "text": [
      "https://www.linkedin.com/in/vitekfilip\n"
     ]
    },
    {
     "name": "stderr",
     "output_type": "stream",
     "text": [
      "INFO:httpx:HTTP Request: POST https://api.openai.com/v1/chat/completions \"HTTP/1.1 200 OK\"\n",
      "INFO:httpx:HTTP Request: POST https://api.openai.com/v1/chat/completions \"HTTP/1.1 200 OK\"\n",
      "INFO:httpx:HTTP Request: POST https://api.openai.com/v1/chat/completions \"HTTP/1.1 200 OK\"\n",
      "INFO:httpx:HTTP Request: POST https://api.openai.com/v1/chat/completions \"HTTP/1.1 200 OK\"\n"
     ]
    },
    {
     "name": "stdout",
     "output_type": "stream",
     "text": [
      "https://www.linkedin.com/in/anjali-savlani\n",
      "https://www.linkedin.com/in/jens-meichsner\n",
      "https://www.linkedin.com/in/mayerjonathan\n"
     ]
    },
    {
     "name": "stderr",
     "output_type": "stream",
     "text": [
      "INFO:httpx:HTTP Request: POST https://api.openai.com/v1/chat/completions \"HTTP/1.1 200 OK\"\n",
      "INFO:httpx:HTTP Request: POST https://api.openai.com/v1/chat/completions \"HTTP/1.1 200 OK\"\n",
      "INFO:httpx:HTTP Request: POST https://api.openai.com/v1/chat/completions \"HTTP/1.1 200 OK\"\n"
     ]
    },
    {
     "name": "stdout",
     "output_type": "stream",
     "text": [
      "https://www.linkedin.com/in/cmortier\n"
     ]
    },
    {
     "name": "stderr",
     "output_type": "stream",
     "text": [
      "INFO:httpx:HTTP Request: POST https://api.openai.com/v1/chat/completions \"HTTP/1.1 200 OK\"\n",
      "INFO:httpx:HTTP Request: POST https://api.openai.com/v1/chat/completions \"HTTP/1.1 200 OK\"\n"
     ]
    },
    {
     "name": "stdout",
     "output_type": "stream",
     "text": [
      "https://www.linkedin.com/in/adrianomartins9\n"
     ]
    },
    {
     "name": "stderr",
     "output_type": "stream",
     "text": [
      "INFO:httpx:HTTP Request: POST https://api.openai.com/v1/chat/completions \"HTTP/1.1 200 OK\"\n",
      "INFO:httpx:HTTP Request: POST https://api.openai.com/v1/chat/completions \"HTTP/1.1 200 OK\"\n",
      "INFO:httpx:HTTP Request: POST https://api.openai.com/v1/chat/completions \"HTTP/1.1 200 OK\"\n"
     ]
    },
    {
     "name": "stdout",
     "output_type": "stream",
     "text": [
      "https://www.linkedin.com/in/garance-vallat\n"
     ]
    },
    {
     "name": "stderr",
     "output_type": "stream",
     "text": [
      "INFO:httpx:HTTP Request: POST https://api.openai.com/v1/chat/completions \"HTTP/1.1 200 OK\"\n"
     ]
    },
    {
     "name": "stdout",
     "output_type": "stream",
     "text": [
      "https://www.linkedin.com/in/sandra-pfunder-394a21242\n"
     ]
    },
    {
     "name": "stderr",
     "output_type": "stream",
     "text": [
      "INFO:httpx:HTTP Request: POST https://api.openai.com/v1/chat/completions \"HTTP/1.1 200 OK\"\n"
     ]
    },
    {
     "name": "stdout",
     "output_type": "stream",
     "text": [
      "https://www.linkedin.com/in/sebastian-tritsch-99006677\n"
     ]
    },
    {
     "name": "stderr",
     "output_type": "stream",
     "text": [
      "INFO:httpx:HTTP Request: POST https://api.openai.com/v1/chat/completions \"HTTP/1.1 200 OK\"\n"
     ]
    },
    {
     "name": "stdout",
     "output_type": "stream",
     "text": [
      "https://www.linkedin.com/in/reem-farah-954b9a10b\n"
     ]
    },
    {
     "name": "stderr",
     "output_type": "stream",
     "text": [
      "INFO:httpx:HTTP Request: POST https://api.openai.com/v1/chat/completions \"HTTP/1.1 200 OK\"\n"
     ]
    },
    {
     "name": "stdout",
     "output_type": "stream",
     "text": [
      "SHORT LLM TEXT\n"
     ]
    },
    {
     "name": "stderr",
     "output_type": "stream",
     "text": [
      "INFO:httpx:HTTP Request: POST https://api.openai.com/v1/chat/completions \"HTTP/1.1 200 OK\"\n",
      "INFO:httpx:HTTP Request: POST https://api.openai.com/v1/chat/completions \"HTTP/1.1 200 OK\"\n",
      "INFO:httpx:HTTP Request: POST https://api.openai.com/v1/chat/completions \"HTTP/1.1 200 OK\"\n"
     ]
    },
    {
     "name": "stdout",
     "output_type": "stream",
     "text": [
      "SHORT LLM TEXT\n"
     ]
    },
    {
     "name": "stderr",
     "output_type": "stream",
     "text": [
      "INFO:httpx:HTTP Request: POST https://api.openai.com/v1/chat/completions \"HTTP/1.1 200 OK\"\n",
      "INFO:httpx:HTTP Request: POST https://api.openai.com/v1/chat/completions \"HTTP/1.1 200 OK\"\n"
     ]
    },
    {
     "name": "stdout",
     "output_type": "stream",
     "text": [
      "https://www.linkedin.com/in/vincent-bremer-613b77101\n"
     ]
    },
    {
     "name": "stderr",
     "output_type": "stream",
     "text": [
      "INFO:httpx:HTTP Request: POST https://api.openai.com/v1/chat/completions \"HTTP/1.1 200 OK\"\n"
     ]
    },
    {
     "name": "stdout",
     "output_type": "stream",
     "text": [
      "https://www.linkedin.com/in/kaj-kolja-kleineberg\n"
     ]
    },
    {
     "name": "stderr",
     "output_type": "stream",
     "text": [
      "INFO:httpx:HTTP Request: POST https://api.openai.com/v1/chat/completions \"HTTP/1.1 200 OK\"\n"
     ]
    }
   ],
   "source": [
    "abc = []\n",
    "for person_link in people_links:\n",
    "    print(person_link)\n",
    "    abc.append(get_person_company_tech(linkedin, person_link))"
   ]
  },
  {
   "cell_type": "code",
   "execution_count": 24,
   "metadata": {},
   "outputs": [
    {
     "data": {
      "text/plain": [
       "({'AWS': 0,\n",
       "  'GCP': 0,\n",
       "  'AZURE': 0,\n",
       "  'cloud': 0,\n",
       "  'Airflow': 0,\n",
       "  'Hadoop': 0,\n",
       "  'Kafka': 0,\n",
       "  'Redshift': 0,\n",
       "  'BigQuery': 0,\n",
       "  'Databricks': 0,\n",
       "  'snowflake': 0,\n",
       "  'Terraform': 0,\n",
       "  'data lake': 0,\n",
       "  'warehause': 0,\n",
       "  'etl': 0,\n",
       "  'spark': 0,\n",
       "  'PySpark': 0,\n",
       "  'data': 0,\n",
       "  'python': 0,\n",
       "  'SQL': 0,\n",
       "  'Scala': 0},\n",
       " 'https://www.linkedin.com/in/anjali-savlani',\n",
       " 'https://www.grover.com',\n",
       " 'https://jobs.grover.com](https://jobs.grover.com)',\n",
       " {})"
      ]
     },
     "execution_count": 24,
     "metadata": {},
     "output_type": "execute_result"
    }
   ],
   "source": [
    "abc[1]"
   ]
  },
  {
   "cell_type": "code",
   "execution_count": 42,
   "metadata": {},
   "outputs": [
    {
     "data": {
      "text/plain": [
       "'http://www.visable.com/en_uk/career/jobs'"
      ]
     },
     "execution_count": 42,
     "metadata": {},
     "output_type": "execute_result"
    }
   ],
   "source": [
    "from web_search.career_link_pure import find_job_board_link_pure\n",
    "\n",
    "find_job_board_link_pure(\"http://www.visable.com\")"
   ]
  },
  {
   "cell_type": "markdown",
   "metadata": {},
   "source": [
    "# Test"
   ]
  },
  {
   "cell_type": "code",
   "execution_count": 41,
   "metadata": {},
   "outputs": [],
   "source": [
    "\n",
    "from url_to_llm_text.get_html_text import get_page_source\n",
    "from url_to_llm_text.get_llm_input_text import get_processed_text\n",
    "from langchain_core.pydantic_v1 import BaseModel, Field\n",
    "from langchain_openai import ChatOpenAI\n",
    "\n",
    "class JobBoardCheck(BaseModel):\n",
    "    job_board_bool: bool = Field(description='Bool value of existing job board')\n",
    "\n",
    "def is_job_board(url):\n",
    "    page_source = get_page_source(url)\n",
    "    llm_text = get_processed_text(page_source, url)\n",
    "\n",
    "    prompt_format = \"\"\"In input I give you a webpage. \n",
    "                    I'm not sure that there is or there isn't job board. Write me answer\n",
    "                    webpage: {llm_friendly_webpage_text}\"\"\"\n",
    "    if len(llm_text) > 40000:\n",
    "        print('SHORT LLM TEXT')\n",
    "    prompt = prompt_format.format(llm_friendly_webpage_text=llm_text[:40000])\n",
    "\n",
    "    model = ChatOpenAI(model=\"gpt-4o-2024-05-13\", temperature=0, seed=0, top_p=0.001,\n",
    "                       max_tokens=4096, n=1, frequency_penalty=0, presence_penalty=0)\n",
    "    \n",
    "    structured_llm = model.with_structured_output(JobBoardCheck)\n",
    "\n",
    "    prompt = prompt_format.format(llm_friendly_webpage_text=llm_text)\n",
    "    answer = structured_llm.invoke(prompt)\n",
    "    return answer\n"
   ]
  },
  {
   "cell_type": "code",
   "execution_count": 47,
   "metadata": {},
   "outputs": [
    {
     "data": {
      "text/plain": [
       "2"
      ]
     },
     "execution_count": 47,
     "metadata": {},
     "output_type": "execute_result"
    }
   ],
   "source": [
    "next(iter({1:2}.values()))"
   ]
  },
  {
   "cell_type": "code",
   "execution_count": 42,
   "metadata": {},
   "outputs": [
    {
     "name": "stderr",
     "output_type": "stream",
     "text": [
      "INFO:httpx:HTTP Request: POST https://api.openai.com/v1/chat/completions \"HTTP/1.1 200 OK\"\n"
     ]
    },
    {
     "data": {
      "text/plain": [
       "JobBoardCheck(job_board_bool=True)"
      ]
     },
     "execution_count": 42,
     "metadata": {},
     "output_type": "execute_result"
    }
   ],
   "source": [
    "is_job_board('https://www.bonial.com/de/karriere')\n"
   ]
  }
 ],
 "metadata": {
  "kernelspec": {
   "display_name": "Python 3",
   "language": "python",
   "name": "python3"
  },
  "language_info": {
   "codemirror_mode": {
    "name": "ipython",
    "version": 3
   },
   "file_extension": ".py",
   "mimetype": "text/x-python",
   "name": "python",
   "nbconvert_exporter": "python",
   "pygments_lexer": "ipython3",
   "version": "3.9.6"
  }
 },
 "nbformat": 4,
 "nbformat_minor": 2
}
