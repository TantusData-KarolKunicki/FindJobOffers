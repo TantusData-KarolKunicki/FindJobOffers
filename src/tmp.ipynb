{
 "cells": [
  {
   "cell_type": "markdown",
   "metadata": {},
   "source": [
    "# requirements"
   ]
  },
  {
   "cell_type": "code",
   "execution_count": 3,
   "metadata": {},
   "outputs": [
    {
     "name": "stderr",
     "output_type": "stream",
     "text": [
      "/Users/tantusdata/projekty/FindJobOffers/.venv/lib/python3.9/site-packages/urllib3/__init__.py:35: NotOpenSSLWarning: urllib3 v2 only supports OpenSSL 1.1.1+, currently the 'ssl' module is compiled with 'LibreSSL 2.8.3'. See: https://github.com/urllib3/urllib3/issues/3020\n",
      "  warnings.warn(\n"
     ]
    }
   ],
   "source": [
    "from pipeline.pipeline import get_person_company_tech"
   ]
  },
  {
   "cell_type": "code",
   "execution_count": 5,
   "metadata": {},
   "outputs": [
    {
     "name": "stdout",
     "output_type": "stream",
     "text": [
      "Collecting git+https://github.com/ai92-github/llm-reader.git (from -r ../requirements.txt (line 1))\n",
      "  Cloning https://github.com/ai92-github/llm-reader.git to /private/var/folders/tp/7m3g88nd5n18wzy9fx7gwmkh0000gn/T/pip-req-build-94deb75d\n",
      "  Running command git clone --filter=blob:none --quiet https://github.com/ai92-github/llm-reader.git /private/var/folders/tp/7m3g88nd5n18wzy9fx7gwmkh0000gn/T/pip-req-build-94deb75d\n",
      "  Resolved https://github.com/ai92-github/llm-reader.git to commit fe715bfc4df0901613c3e5b89712e669a518ce10\n",
      "  Preparing metadata (setup.py) ... \u001b[?25ldone\n",
      "\u001b[?25hRequirement already satisfied: selenium in /Users/tantusdata/projekty/FindJobOffers/.venv/lib/python3.9/site-packages (from -r ../requirements.txt (line 2)) (4.23.1)\n",
      "Requirement already satisfied: playwright in /Users/tantusdata/projekty/FindJobOffers/.venv/lib/python3.9/site-packages (from -r ../requirements.txt (line 3)) (1.45.1)\n",
      "Requirement already satisfied: google-colab-selenium in /Users/tantusdata/projekty/FindJobOffers/.venv/lib/python3.9/site-packages (from -r ../requirements.txt (line 4)) (1.0.14)\n",
      "Requirement already satisfied: requests in /Users/tantusdata/projekty/FindJobOffers/.venv/lib/python3.9/site-packages (from -r ../requirements.txt (line 5)) (2.32.3)\n",
      "Requirement already satisfied: beautifulsoup4 in /Users/tantusdata/projekty/FindJobOffers/.venv/lib/python3.9/site-packages (from -r ../requirements.txt (line 6)) (4.12.3)\n",
      "Requirement already satisfied: linkedin-api in /Users/tantusdata/projekty/FindJobOffers/.venv/lib/python3.9/site-packages (from -r ../requirements.txt (line 7)) (2.1.1)\n",
      "Requirement already satisfied: nest_asyncio in /Users/tantusdata/projekty/FindJobOffers/.venv/lib/python3.9/site-packages (from -r ../requirements.txt (line 8)) (1.6.0)\n",
      "Requirement already satisfied: tiktoken in /Users/tantusdata/projekty/FindJobOffers/.venv/lib/python3.9/site-packages (from -r ../requirements.txt (line 9)) (0.7.0)\n",
      "Requirement already satisfied: matplotlib in /Users/tantusdata/projekty/FindJobOffers/.venv/lib/python3.9/site-packages (from -r ../requirements.txt (line 10)) (3.9.1.post1)\n",
      "Requirement already satisfied: langchain in /Users/tantusdata/projekty/FindJobOffers/.venv/lib/python3.9/site-packages (from -r ../requirements.txt (line 11)) (0.2.12)\n",
      "Requirement already satisfied: langchain_core in /Users/tantusdata/projekty/FindJobOffers/.venv/lib/python3.9/site-packages (from -r ../requirements.txt (line 12)) (0.2.29)\n",
      "Requirement already satisfied: langchain-community in /Users/tantusdata/projekty/FindJobOffers/.venv/lib/python3.9/site-packages (from -r ../requirements.txt (line 13)) (0.2.11)\n",
      "Requirement already satisfied: langchain-cli in /Users/tantusdata/projekty/FindJobOffers/.venv/lib/python3.9/site-packages (from -r ../requirements.txt (line 15)) (0.0.28)\n",
      "Requirement already satisfied: langchain_openai in /Users/tantusdata/projekty/FindJobOffers/.venv/lib/python3.9/site-packages (from -r ../requirements.txt (line 16)) (0.1.20)\n",
      "Requirement already satisfied: langchain-anthropic in /Users/tantusdata/projekty/FindJobOffers/.venv/lib/python3.9/site-packages (from -r ../requirements.txt (line 17)) (0.1.22)\n",
      "Requirement already satisfied: langserve in /Users/tantusdata/projekty/FindJobOffers/.venv/lib/python3.9/site-packages (from -r ../requirements.txt (line 18)) (0.2.2)\n",
      "Requirement already satisfied: langchainhub in /Users/tantusdata/projekty/FindJobOffers/.venv/lib/python3.9/site-packages (from -r ../requirements.txt (line 19)) (0.1.20)\n",
      "Requirement already satisfied: langchain_experimental in /Users/tantusdata/projekty/FindJobOffers/.venv/lib/python3.9/site-packages (from -r ../requirements.txt (line 20)) (0.0.64)\n",
      "Requirement already satisfied: openai in /Users/tantusdata/projekty/FindJobOffers/.venv/lib/python3.9/site-packages (from -r ../requirements.txt (line 22)) (1.40.1)\n",
      "Requirement already satisfied: anthropic in /Users/tantusdata/projekty/FindJobOffers/.venv/lib/python3.9/site-packages (from -r ../requirements.txt (line 23)) (0.32.0)\n",
      "Requirement already satisfied: grandalf in /Users/tantusdata/projekty/FindJobOffers/.venv/lib/python3.9/site-packages (from -r ../requirements.txt (line 24)) (0.8)\n",
      "Requirement already satisfied: sentence_transformers in /Users/tantusdata/projekty/FindJobOffers/.venv/lib/python3.9/site-packages (from -r ../requirements.txt (line 25)) (3.0.1)\n",
      "Requirement already satisfied: pandas in /Users/tantusdata/projekty/FindJobOffers/.venv/lib/python3.9/site-packages (from -r ../requirements.txt (line 27)) (2.2.2)\n",
      "Requirement already satisfied: numpy in /Users/tantusdata/projekty/FindJobOffers/.venv/lib/python3.9/site-packages (from -r ../requirements.txt (line 28)) (1.26.4)\n",
      "Requirement already satisfied: python-dotenv in /Users/tantusdata/projekty/FindJobOffers/.venv/lib/python3.9/site-packages (from -r ../requirements.txt (line 29)) (1.0.1)\n",
      "Collecting fast-dash (from -r ../requirements.txt (line 30))\n",
      "  Downloading fast_dash-0.2.9-py3-none-any.whl.metadata (6.7 kB)\n",
      "Requirement already satisfied: unstructured[md] in /Users/tantusdata/projekty/FindJobOffers/.venv/lib/python3.9/site-packages (from -r ../requirements.txt (line 21)) (0.15.1)\n",
      "Requirement already satisfied: inscriptis in /Users/tantusdata/projekty/FindJobOffers/.venv/lib/python3.9/site-packages (from llm-reader==1->-r ../requirements.txt (line 1)) (2.5.0)\n",
      "Requirement already satisfied: minify_html in /Users/tantusdata/projekty/FindJobOffers/.venv/lib/python3.9/site-packages (from llm-reader==1->-r ../requirements.txt (line 1)) (0.15.0)\n",
      "Requirement already satisfied: urllib3<3,>=1.26 in /Users/tantusdata/projekty/FindJobOffers/.venv/lib/python3.9/site-packages (from urllib3[socks]<3,>=1.26->selenium->-r ../requirements.txt (line 2)) (2.2.2)\n",
      "Requirement already satisfied: trio~=0.17 in /Users/tantusdata/projekty/FindJobOffers/.venv/lib/python3.9/site-packages (from selenium->-r ../requirements.txt (line 2)) (0.26.2)\n",
      "Requirement already satisfied: trio-websocket~=0.9 in /Users/tantusdata/projekty/FindJobOffers/.venv/lib/python3.9/site-packages (from selenium->-r ../requirements.txt (line 2)) (0.11.1)\n",
      "Requirement already satisfied: certifi>=2021.10.8 in /Users/tantusdata/projekty/FindJobOffers/.venv/lib/python3.9/site-packages (from selenium->-r ../requirements.txt (line 2)) (2024.7.4)\n",
      "Requirement already satisfied: typing_extensions~=4.9 in /Users/tantusdata/projekty/FindJobOffers/.venv/lib/python3.9/site-packages (from selenium->-r ../requirements.txt (line 2)) (4.12.2)\n",
      "Requirement already satisfied: websocket-client~=1.8 in /Users/tantusdata/projekty/FindJobOffers/.venv/lib/python3.9/site-packages (from selenium->-r ../requirements.txt (line 2)) (1.8.0)\n",
      "Requirement already satisfied: greenlet==3.0.3 in /Users/tantusdata/projekty/FindJobOffers/.venv/lib/python3.9/site-packages (from playwright->-r ../requirements.txt (line 3)) (3.0.3)\n",
      "Requirement already satisfied: pyee==11.1.0 in /Users/tantusdata/projekty/FindJobOffers/.venv/lib/python3.9/site-packages (from playwright->-r ../requirements.txt (line 3)) (11.1.0)\n",
      "Requirement already satisfied: charset-normalizer<4,>=2 in /Users/tantusdata/projekty/FindJobOffers/.venv/lib/python3.9/site-packages (from requests->-r ../requirements.txt (line 5)) (3.3.2)\n",
      "Requirement already satisfied: idna<4,>=2.5 in /Users/tantusdata/projekty/FindJobOffers/.venv/lib/python3.9/site-packages (from requests->-r ../requirements.txt (line 5)) (3.7)\n",
      "Requirement already satisfied: soupsieve>1.2 in /Users/tantusdata/projekty/FindJobOffers/.venv/lib/python3.9/site-packages (from beautifulsoup4->-r ../requirements.txt (line 6)) (2.5)\n",
      "Requirement already satisfied: lxml in /Users/tantusdata/projekty/FindJobOffers/.venv/lib/python3.9/site-packages (from linkedin-api->-r ../requirements.txt (line 7)) (5.2.2)\n",
      "Requirement already satisfied: regex>=2022.1.18 in /Users/tantusdata/projekty/FindJobOffers/.venv/lib/python3.9/site-packages (from tiktoken->-r ../requirements.txt (line 9)) (2024.7.24)\n",
      "Requirement already satisfied: contourpy>=1.0.1 in /Users/tantusdata/projekty/FindJobOffers/.venv/lib/python3.9/site-packages (from matplotlib->-r ../requirements.txt (line 10)) (1.2.1)\n",
      "Requirement already satisfied: cycler>=0.10 in /Users/tantusdata/projekty/FindJobOffers/.venv/lib/python3.9/site-packages (from matplotlib->-r ../requirements.txt (line 10)) (0.12.1)\n",
      "Requirement already satisfied: fonttools>=4.22.0 in /Users/tantusdata/projekty/FindJobOffers/.venv/lib/python3.9/site-packages (from matplotlib->-r ../requirements.txt (line 10)) (4.53.1)\n",
      "Requirement already satisfied: kiwisolver>=1.3.1 in /Users/tantusdata/projekty/FindJobOffers/.venv/lib/python3.9/site-packages (from matplotlib->-r ../requirements.txt (line 10)) (1.4.5)\n",
      "Requirement already satisfied: packaging>=20.0 in /Users/tantusdata/projekty/FindJobOffers/.venv/lib/python3.9/site-packages (from matplotlib->-r ../requirements.txt (line 10)) (24.1)\n",
      "Requirement already satisfied: pillow>=8 in /Users/tantusdata/projekty/FindJobOffers/.venv/lib/python3.9/site-packages (from matplotlib->-r ../requirements.txt (line 10)) (10.4.0)\n",
      "Requirement already satisfied: pyparsing>=2.3.1 in /Users/tantusdata/projekty/FindJobOffers/.venv/lib/python3.9/site-packages (from matplotlib->-r ../requirements.txt (line 10)) (3.1.2)\n",
      "Requirement already satisfied: python-dateutil>=2.7 in /Users/tantusdata/projekty/FindJobOffers/.venv/lib/python3.9/site-packages (from matplotlib->-r ../requirements.txt (line 10)) (2.9.0.post0)\n",
      "Requirement already satisfied: importlib-resources>=3.2.0 in /Users/tantusdata/projekty/FindJobOffers/.venv/lib/python3.9/site-packages (from matplotlib->-r ../requirements.txt (line 10)) (6.4.0)\n",
      "Requirement already satisfied: PyYAML>=5.3 in /Users/tantusdata/projekty/FindJobOffers/.venv/lib/python3.9/site-packages (from langchain->-r ../requirements.txt (line 11)) (6.0.2)\n",
      "Requirement already satisfied: SQLAlchemy<3,>=1.4 in /Users/tantusdata/projekty/FindJobOffers/.venv/lib/python3.9/site-packages (from langchain->-r ../requirements.txt (line 11)) (2.0.32)\n",
      "Requirement already satisfied: aiohttp<4.0.0,>=3.8.3 in /Users/tantusdata/projekty/FindJobOffers/.venv/lib/python3.9/site-packages (from langchain->-r ../requirements.txt (line 11)) (3.10.1)\n",
      "Requirement already satisfied: async-timeout<5.0.0,>=4.0.0 in /Users/tantusdata/projekty/FindJobOffers/.venv/lib/python3.9/site-packages (from langchain->-r ../requirements.txt (line 11)) (4.0.3)\n",
      "Requirement already satisfied: langchain-text-splitters<0.3.0,>=0.2.0 in /Users/tantusdata/projekty/FindJobOffers/.venv/lib/python3.9/site-packages (from langchain->-r ../requirements.txt (line 11)) (0.2.2)\n",
      "Requirement already satisfied: langsmith<0.2.0,>=0.1.17 in /Users/tantusdata/projekty/FindJobOffers/.venv/lib/python3.9/site-packages (from langchain->-r ../requirements.txt (line 11)) (0.1.98)\n",
      "Requirement already satisfied: pydantic<3,>=1 in /Users/tantusdata/projekty/FindJobOffers/.venv/lib/python3.9/site-packages (from langchain->-r ../requirements.txt (line 11)) (2.8.2)\n",
      "Requirement already satisfied: tenacity!=8.4.0,<9.0.0,>=8.1.0 in /Users/tantusdata/projekty/FindJobOffers/.venv/lib/python3.9/site-packages (from langchain->-r ../requirements.txt (line 11)) (8.5.0)\n",
      "Requirement already satisfied: jsonpatch<2.0,>=1.33 in /Users/tantusdata/projekty/FindJobOffers/.venv/lib/python3.9/site-packages (from langchain_core->-r ../requirements.txt (line 12)) (1.33)\n",
      "Requirement already satisfied: dataclasses-json<0.7,>=0.5.7 in /Users/tantusdata/projekty/FindJobOffers/.venv/lib/python3.9/site-packages (from langchain-community->-r ../requirements.txt (line 13)) (0.6.7)\n",
      "Requirement already satisfied: httpx>=0.23.0 in /Users/tantusdata/projekty/FindJobOffers/.venv/lib/python3.9/site-packages (from langserve[all]->-r ../requirements.txt (line 14)) (0.27.0)\n",
      "Requirement already satisfied: orjson>=2 in /Users/tantusdata/projekty/FindJobOffers/.venv/lib/python3.9/site-packages (from langserve[all]->-r ../requirements.txt (line 14)) (3.10.6)\n",
      "Requirement already satisfied: pyproject-toml<0.0.11,>=0.0.10 in /Users/tantusdata/projekty/FindJobOffers/.venv/lib/python3.9/site-packages (from langserve[all]->-r ../requirements.txt (line 14)) (0.0.10)\n",
      "Requirement already satisfied: fastapi<1,>=0.90.1 in /Users/tantusdata/projekty/FindJobOffers/.venv/lib/python3.9/site-packages (from langserve[all]->-r ../requirements.txt (line 14)) (0.112.0)\n",
      "Requirement already satisfied: sse-starlette<2.0.0,>=1.3.0 in /Users/tantusdata/projekty/FindJobOffers/.venv/lib/python3.9/site-packages (from langserve[all]->-r ../requirements.txt (line 14)) (1.8.2)\n",
      "Requirement already satisfied: gitpython<4.0.0,>=3.1.40 in /Users/tantusdata/projekty/FindJobOffers/.venv/lib/python3.9/site-packages (from langchain-cli->-r ../requirements.txt (line 15)) (3.1.43)\n",
      "Requirement already satisfied: libcst<2.0.0,>=1.3.1 in /Users/tantusdata/projekty/FindJobOffers/.venv/lib/python3.9/site-packages (from langchain-cli->-r ../requirements.txt (line 15)) (1.4.0)\n",
      "Requirement already satisfied: tomlkit<0.13.0,>=0.12.2 in /Users/tantusdata/projekty/FindJobOffers/.venv/lib/python3.9/site-packages (from langchain-cli->-r ../requirements.txt (line 15)) (0.12.5)\n",
      "Requirement already satisfied: typer<0.10.0,>=0.9.0 in /Users/tantusdata/projekty/FindJobOffers/.venv/lib/python3.9/site-packages (from typer[all]<0.10.0,>=0.9.0->langchain-cli->-r ../requirements.txt (line 15)) (0.9.4)\n",
      "Requirement already satisfied: uvicorn<0.24.0,>=0.23.2 in /Users/tantusdata/projekty/FindJobOffers/.venv/lib/python3.9/site-packages (from langchain-cli->-r ../requirements.txt (line 15)) (0.23.2)\n",
      "Requirement already satisfied: defusedxml<0.8.0,>=0.7.1 in /Users/tantusdata/projekty/FindJobOffers/.venv/lib/python3.9/site-packages (from langchain-anthropic->-r ../requirements.txt (line 17)) (0.7.1)\n",
      "Requirement already satisfied: types-requests<3.0.0.0,>=2.31.0.2 in /Users/tantusdata/projekty/FindJobOffers/.venv/lib/python3.9/site-packages (from langchainhub->-r ../requirements.txt (line 19)) (2.32.0.20240712)\n",
      "Requirement already satisfied: chardet in /Users/tantusdata/projekty/FindJobOffers/.venv/lib/python3.9/site-packages (from unstructured[md]->-r ../requirements.txt (line 21)) (5.2.0)\n",
      "Requirement already satisfied: filetype in /Users/tantusdata/projekty/FindJobOffers/.venv/lib/python3.9/site-packages (from unstructured[md]->-r ../requirements.txt (line 21)) (1.2.0)\n",
      "Requirement already satisfied: python-magic in /Users/tantusdata/projekty/FindJobOffers/.venv/lib/python3.9/site-packages (from unstructured[md]->-r ../requirements.txt (line 21)) (0.4.27)\n",
      "Requirement already satisfied: nltk in /Users/tantusdata/projekty/FindJobOffers/.venv/lib/python3.9/site-packages (from unstructured[md]->-r ../requirements.txt (line 21)) (3.8.1)\n",
      "Requirement already satisfied: tabulate in /Users/tantusdata/projekty/FindJobOffers/.venv/lib/python3.9/site-packages (from unstructured[md]->-r ../requirements.txt (line 21)) (0.9.0)\n",
      "Requirement already satisfied: emoji in /Users/tantusdata/projekty/FindJobOffers/.venv/lib/python3.9/site-packages (from unstructured[md]->-r ../requirements.txt (line 21)) (2.12.1)\n",
      "Requirement already satisfied: python-iso639 in /Users/tantusdata/projekty/FindJobOffers/.venv/lib/python3.9/site-packages (from unstructured[md]->-r ../requirements.txt (line 21)) (2024.4.27)\n",
      "Requirement already satisfied: langdetect in /Users/tantusdata/projekty/FindJobOffers/.venv/lib/python3.9/site-packages (from unstructured[md]->-r ../requirements.txt (line 21)) (1.0.9)\n",
      "Requirement already satisfied: rapidfuzz in /Users/tantusdata/projekty/FindJobOffers/.venv/lib/python3.9/site-packages (from unstructured[md]->-r ../requirements.txt (line 21)) (3.9.6)\n",
      "Requirement already satisfied: backoff in /Users/tantusdata/projekty/FindJobOffers/.venv/lib/python3.9/site-packages (from unstructured[md]->-r ../requirements.txt (line 21)) (2.2.1)\n",
      "Requirement already satisfied: unstructured-client in /Users/tantusdata/projekty/FindJobOffers/.venv/lib/python3.9/site-packages (from unstructured[md]->-r ../requirements.txt (line 21)) (0.25.4)\n",
      "Requirement already satisfied: wrapt in /Users/tantusdata/projekty/FindJobOffers/.venv/lib/python3.9/site-packages (from unstructured[md]->-r ../requirements.txt (line 21)) (1.16.0)\n",
      "Requirement already satisfied: tqdm in /Users/tantusdata/projekty/FindJobOffers/.venv/lib/python3.9/site-packages (from unstructured[md]->-r ../requirements.txt (line 21)) (4.66.5)\n",
      "Requirement already satisfied: psutil in /Users/tantusdata/projekty/FindJobOffers/.venv/lib/python3.9/site-packages (from unstructured[md]->-r ../requirements.txt (line 21)) (6.0.0)\n",
      "Requirement already satisfied: markdown in /Users/tantusdata/projekty/FindJobOffers/.venv/lib/python3.9/site-packages (from unstructured[md]->-r ../requirements.txt (line 21)) (3.6)\n",
      "Requirement already satisfied: anyio<5,>=3.5.0 in /Users/tantusdata/projekty/FindJobOffers/.venv/lib/python3.9/site-packages (from openai->-r ../requirements.txt (line 22)) (4.4.0)\n",
      "Requirement already satisfied: distro<2,>=1.7.0 in /Users/tantusdata/projekty/FindJobOffers/.venv/lib/python3.9/site-packages (from openai->-r ../requirements.txt (line 22)) (1.9.0)\n",
      "Requirement already satisfied: jiter<1,>=0.4.0 in /Users/tantusdata/projekty/FindJobOffers/.venv/lib/python3.9/site-packages (from openai->-r ../requirements.txt (line 22)) (0.5.0)\n",
      "Requirement already satisfied: sniffio in /Users/tantusdata/projekty/FindJobOffers/.venv/lib/python3.9/site-packages (from openai->-r ../requirements.txt (line 22)) (1.3.1)\n",
      "Requirement already satisfied: tokenizers>=0.13.0 in /Users/tantusdata/projekty/FindJobOffers/.venv/lib/python3.9/site-packages (from anthropic->-r ../requirements.txt (line 23)) (0.19.1)\n",
      "Requirement already satisfied: transformers<5.0.0,>=4.34.0 in /Users/tantusdata/projekty/FindJobOffers/.venv/lib/python3.9/site-packages (from sentence_transformers->-r ../requirements.txt (line 25)) (4.44.0)\n",
      "Requirement already satisfied: torch>=1.11.0 in /Users/tantusdata/projekty/FindJobOffers/.venv/lib/python3.9/site-packages (from sentence_transformers->-r ../requirements.txt (line 25)) (2.4.0)\n",
      "Requirement already satisfied: scikit-learn in /Users/tantusdata/projekty/FindJobOffers/.venv/lib/python3.9/site-packages (from sentence_transformers->-r ../requirements.txt (line 25)) (1.5.1)\n",
      "Requirement already satisfied: scipy in /Users/tantusdata/projekty/FindJobOffers/.venv/lib/python3.9/site-packages (from sentence_transformers->-r ../requirements.txt (line 25)) (1.13.1)\n",
      "Requirement already satisfied: huggingface-hub>=0.15.1 in /Users/tantusdata/projekty/FindJobOffers/.venv/lib/python3.9/site-packages (from sentence_transformers->-r ../requirements.txt (line 25)) (0.24.5)\n",
      "Requirement already satisfied: pytz>=2020.1 in /Users/tantusdata/projekty/FindJobOffers/.venv/lib/python3.9/site-packages (from pandas->-r ../requirements.txt (line 27)) (2024.1)\n",
      "Requirement already satisfied: tzdata>=2022.7 in /Users/tantusdata/projekty/FindJobOffers/.venv/lib/python3.9/site-packages (from pandas->-r ../requirements.txt (line 27)) (2024.1)\n",
      "Collecting Flask<3.0.0,>=2.0.2 (from fast-dash->-r ../requirements.txt (line 30))\n",
      "  Downloading flask-2.3.3-py3-none-any.whl.metadata (3.6 kB)\n",
      "Collecting pillow>=8 (from matplotlib->-r ../requirements.txt (line 10))\n",
      "  Downloading Pillow-9.5.0-cp39-cp39-macosx_11_0_arm64.whl.metadata (9.5 kB)\n",
      "Collecting dash-bootstrap-components<2.0.0,>=1.0.2 (from fast-dash->-r ../requirements.txt (line 30))\n",
      "  Downloading dash_bootstrap_components-1.6.0-py3-none-any.whl.metadata (5.2 kB)\n",
      "Collecting dash-iconify<0.2.0,>=0.1.2 (from fast-dash->-r ../requirements.txt (line 30))\n",
      "  Downloading dash_iconify-0.1.2-py3-none-any.whl.metadata (2.2 kB)\n",
      "Collecting dash-mantine-components<0.13.0,>=0.12.1 (from fast-dash->-r ../requirements.txt (line 30))\n",
      "  Downloading dash_mantine_components-0.12.1-py3-none-any.whl.metadata (3.4 kB)\n",
      "Collecting docstring-parser<0.16,>=0.15 (from fast-dash->-r ../requirements.txt (line 30))\n",
      "  Downloading docstring_parser-0.15-py3-none-any.whl.metadata (2.4 kB)\n",
      "Collecting matplotlib (from -r ../requirements.txt (line 10))\n",
      "  Downloading matplotlib-3.7.1-cp39-cp39-macosx_11_0_arm64.whl.metadata (5.6 kB)\n",
      "Collecting numpy (from -r ../requirements.txt (line 28))\n",
      "  Downloading numpy-1.25.0-cp39-cp39-macosx_11_0_arm64.whl.metadata (5.6 kB)\n",
      "Collecting pandas (from -r ../requirements.txt (line 27))\n",
      "  Downloading pandas-2.1.0-cp39-cp39-macosx_11_0_arm64.whl.metadata (18 kB)\n",
      "Collecting plotly<6.0.0,>=5.5.0 (from fast-dash->-r ../requirements.txt (line 30))\n",
      "  Downloading plotly-5.23.0-py3-none-any.whl.metadata (7.3 kB)\n",
      "Requirement already satisfied: aiohappyeyeballs>=2.3.0 in /Users/tantusdata/projekty/FindJobOffers/.venv/lib/python3.9/site-packages (from aiohttp<4.0.0,>=3.8.3->langchain->-r ../requirements.txt (line 11)) (2.3.5)\n",
      "Requirement already satisfied: aiosignal>=1.1.2 in /Users/tantusdata/projekty/FindJobOffers/.venv/lib/python3.9/site-packages (from aiohttp<4.0.0,>=3.8.3->langchain->-r ../requirements.txt (line 11)) (1.3.1)\n",
      "Requirement already satisfied: attrs>=17.3.0 in /Users/tantusdata/projekty/FindJobOffers/.venv/lib/python3.9/site-packages (from aiohttp<4.0.0,>=3.8.3->langchain->-r ../requirements.txt (line 11)) (24.2.0)\n",
      "Requirement already satisfied: frozenlist>=1.1.1 in /Users/tantusdata/projekty/FindJobOffers/.venv/lib/python3.9/site-packages (from aiohttp<4.0.0,>=3.8.3->langchain->-r ../requirements.txt (line 11)) (1.4.1)\n",
      "Requirement already satisfied: multidict<7.0,>=4.5 in /Users/tantusdata/projekty/FindJobOffers/.venv/lib/python3.9/site-packages (from aiohttp<4.0.0,>=3.8.3->langchain->-r ../requirements.txt (line 11)) (6.0.5)\n",
      "Requirement already satisfied: yarl<2.0,>=1.0 in /Users/tantusdata/projekty/FindJobOffers/.venv/lib/python3.9/site-packages (from aiohttp<4.0.0,>=3.8.3->langchain->-r ../requirements.txt (line 11)) (1.9.4)\n",
      "Requirement already satisfied: exceptiongroup>=1.0.2 in /Users/tantusdata/projekty/FindJobOffers/.venv/lib/python3.9/site-packages (from anyio<5,>=3.5.0->openai->-r ../requirements.txt (line 22)) (1.2.2)\n",
      "Collecting dash>=2.0.0 (from dash-bootstrap-components<2.0.0,>=1.0.2->fast-dash->-r ../requirements.txt (line 30))\n",
      "  Downloading dash-2.17.1-py3-none-any.whl.metadata (10 kB)\n",
      "Requirement already satisfied: marshmallow<4.0.0,>=3.18.0 in /Users/tantusdata/projekty/FindJobOffers/.venv/lib/python3.9/site-packages (from dataclasses-json<0.7,>=0.5.7->langchain-community->-r ../requirements.txt (line 13)) (3.21.3)\n",
      "Requirement already satisfied: typing-inspect<1,>=0.4.0 in /Users/tantusdata/projekty/FindJobOffers/.venv/lib/python3.9/site-packages (from dataclasses-json<0.7,>=0.5.7->langchain-community->-r ../requirements.txt (line 13)) (0.9.0)\n",
      "Requirement already satisfied: starlette<0.38.0,>=0.37.2 in /Users/tantusdata/projekty/FindJobOffers/.venv/lib/python3.9/site-packages (from fastapi<1,>=0.90.1->langserve[all]->-r ../requirements.txt (line 14)) (0.37.2)\n",
      "Collecting Werkzeug>=2.3.7 (from Flask<3.0.0,>=2.0.2->fast-dash->-r ../requirements.txt (line 30))\n",
      "  Downloading werkzeug-3.0.3-py3-none-any.whl.metadata (3.7 kB)\n",
      "Requirement already satisfied: Jinja2>=3.1.2 in /Users/tantusdata/projekty/FindJobOffers/.venv/lib/python3.9/site-packages (from Flask<3.0.0,>=2.0.2->fast-dash->-r ../requirements.txt (line 30)) (3.1.4)\n",
      "Collecting itsdangerous>=2.1.2 (from Flask<3.0.0,>=2.0.2->fast-dash->-r ../requirements.txt (line 30))\n",
      "  Downloading itsdangerous-2.2.0-py3-none-any.whl.metadata (1.9 kB)\n",
      "Requirement already satisfied: click>=8.1.3 in /Users/tantusdata/projekty/FindJobOffers/.venv/lib/python3.9/site-packages (from Flask<3.0.0,>=2.0.2->fast-dash->-r ../requirements.txt (line 30)) (8.1.7)\n",
      "Collecting blinker>=1.6.2 (from Flask<3.0.0,>=2.0.2->fast-dash->-r ../requirements.txt (line 30))\n",
      "  Downloading blinker-1.8.2-py3-none-any.whl.metadata (1.6 kB)\n",
      "Requirement already satisfied: importlib-metadata>=3.6.0 in /Users/tantusdata/projekty/FindJobOffers/.venv/lib/python3.9/site-packages (from Flask<3.0.0,>=2.0.2->fast-dash->-r ../requirements.txt (line 30)) (8.2.0)\n",
      "Requirement already satisfied: gitdb<5,>=4.0.1 in /Users/tantusdata/projekty/FindJobOffers/.venv/lib/python3.9/site-packages (from gitpython<4.0.0,>=3.1.40->langchain-cli->-r ../requirements.txt (line 15)) (4.0.11)\n",
      "Requirement already satisfied: httpcore==1.* in /Users/tantusdata/projekty/FindJobOffers/.venv/lib/python3.9/site-packages (from httpx>=0.23.0->langserve[all]->-r ../requirements.txt (line 14)) (1.0.5)\n",
      "Requirement already satisfied: h11<0.15,>=0.13 in /Users/tantusdata/projekty/FindJobOffers/.venv/lib/python3.9/site-packages (from httpcore==1.*->httpx>=0.23.0->langserve[all]->-r ../requirements.txt (line 14)) (0.14.0)\n",
      "Requirement already satisfied: filelock in /Users/tantusdata/projekty/FindJobOffers/.venv/lib/python3.9/site-packages (from huggingface-hub>=0.15.1->sentence_transformers->-r ../requirements.txt (line 25)) (3.15.4)\n",
      "Requirement already satisfied: fsspec>=2023.5.0 in /Users/tantusdata/projekty/FindJobOffers/.venv/lib/python3.9/site-packages (from huggingface-hub>=0.15.1->sentence_transformers->-r ../requirements.txt (line 25)) (2024.6.1)\n",
      "Requirement already satisfied: zipp>=3.1.0 in /Users/tantusdata/projekty/FindJobOffers/.venv/lib/python3.9/site-packages (from importlib-resources>=3.2.0->matplotlib->-r ../requirements.txt (line 10)) (3.19.2)\n",
      "Requirement already satisfied: jsonpointer>=1.9 in /Users/tantusdata/projekty/FindJobOffers/.venv/lib/python3.9/site-packages (from jsonpatch<2.0,>=1.33->langchain_core->-r ../requirements.txt (line 12)) (3.0.0)\n",
      "Requirement already satisfied: annotated-types>=0.4.0 in /Users/tantusdata/projekty/FindJobOffers/.venv/lib/python3.9/site-packages (from pydantic<3,>=1->langchain->-r ../requirements.txt (line 11)) (0.7.0)\n",
      "Requirement already satisfied: pydantic-core==2.20.1 in /Users/tantusdata/projekty/FindJobOffers/.venv/lib/python3.9/site-packages (from pydantic<3,>=1->langchain->-r ../requirements.txt (line 11)) (2.20.1)\n",
      "Requirement already satisfied: setuptools>=42 in /Users/tantusdata/projekty/FindJobOffers/.venv/lib/python3.9/site-packages (from pyproject-toml<0.0.11,>=0.0.10->langserve[all]->-r ../requirements.txt (line 14)) (58.0.4)\n",
      "Requirement already satisfied: wheel in /Users/tantusdata/projekty/FindJobOffers/.venv/lib/python3.9/site-packages (from pyproject-toml<0.0.11,>=0.0.10->langserve[all]->-r ../requirements.txt (line 14)) (0.44.0)\n",
      "Requirement already satisfied: toml in /Users/tantusdata/projekty/FindJobOffers/.venv/lib/python3.9/site-packages (from pyproject-toml<0.0.11,>=0.0.10->langserve[all]->-r ../requirements.txt (line 14)) (0.10.2)\n",
      "Requirement already satisfied: jsonschema in /Users/tantusdata/projekty/FindJobOffers/.venv/lib/python3.9/site-packages (from pyproject-toml<0.0.11,>=0.0.10->langserve[all]->-r ../requirements.txt (line 14)) (4.23.0)\n",
      "Requirement already satisfied: six>=1.5 in /Users/tantusdata/projekty/FindJobOffers/.venv/lib/python3.9/site-packages (from python-dateutil>=2.7->matplotlib->-r ../requirements.txt (line 10)) (1.16.0)\n",
      "Requirement already satisfied: sympy in /Users/tantusdata/projekty/FindJobOffers/.venv/lib/python3.9/site-packages (from torch>=1.11.0->sentence_transformers->-r ../requirements.txt (line 25)) (1.13.1)\n",
      "Requirement already satisfied: networkx in /Users/tantusdata/projekty/FindJobOffers/.venv/lib/python3.9/site-packages (from torch>=1.11.0->sentence_transformers->-r ../requirements.txt (line 25)) (3.2.1)\n",
      "Requirement already satisfied: safetensors>=0.4.1 in /Users/tantusdata/projekty/FindJobOffers/.venv/lib/python3.9/site-packages (from transformers<5.0.0,>=4.34.0->sentence_transformers->-r ../requirements.txt (line 25)) (0.4.4)\n",
      "Requirement already satisfied: sortedcontainers in /Users/tantusdata/projekty/FindJobOffers/.venv/lib/python3.9/site-packages (from trio~=0.17->selenium->-r ../requirements.txt (line 2)) (2.4.0)\n",
      "Requirement already satisfied: outcome in /Users/tantusdata/projekty/FindJobOffers/.venv/lib/python3.9/site-packages (from trio~=0.17->selenium->-r ../requirements.txt (line 2)) (1.3.0.post0)\n",
      "Requirement already satisfied: wsproto>=0.14 in /Users/tantusdata/projekty/FindJobOffers/.venv/lib/python3.9/site-packages (from trio-websocket~=0.9->selenium->-r ../requirements.txt (line 2)) (1.2.0)\n",
      "Requirement already satisfied: colorama<0.5.0,>=0.4.3 in /Users/tantusdata/projekty/FindJobOffers/.venv/lib/python3.9/site-packages (from typer[all]<0.10.0,>=0.9.0->langchain-cli->-r ../requirements.txt (line 15)) (0.4.6)\n",
      "Requirement already satisfied: shellingham<2.0.0,>=1.3.0 in /Users/tantusdata/projekty/FindJobOffers/.venv/lib/python3.9/site-packages (from typer[all]<0.10.0,>=0.9.0->langchain-cli->-r ../requirements.txt (line 15)) (1.5.4)\n",
      "Requirement already satisfied: rich<14.0.0,>=10.11.0 in /Users/tantusdata/projekty/FindJobOffers/.venv/lib/python3.9/site-packages (from typer[all]<0.10.0,>=0.9.0->langchain-cli->-r ../requirements.txt (line 15)) (13.7.1)\n",
      "Requirement already satisfied: pysocks!=1.5.7,<2.0,>=1.5.6 in /Users/tantusdata/projekty/FindJobOffers/.venv/lib/python3.9/site-packages (from urllib3[socks]<3,>=1.26->selenium->-r ../requirements.txt (line 2)) (1.7.1)\n",
      "Requirement already satisfied: joblib in /Users/tantusdata/projekty/FindJobOffers/.venv/lib/python3.9/site-packages (from nltk->unstructured[md]->-r ../requirements.txt (line 21)) (1.4.2)\n",
      "Requirement already satisfied: threadpoolctl>=3.1.0 in /Users/tantusdata/projekty/FindJobOffers/.venv/lib/python3.9/site-packages (from scikit-learn->sentence_transformers->-r ../requirements.txt (line 25)) (3.5.0)\n",
      "Requirement already satisfied: deepdiff>=6.0 in /Users/tantusdata/projekty/FindJobOffers/.venv/lib/python3.9/site-packages (from unstructured-client->unstructured[md]->-r ../requirements.txt (line 21)) (7.0.1)\n",
      "Requirement already satisfied: jsonpath-python>=1.0.6 in /Users/tantusdata/projekty/FindJobOffers/.venv/lib/python3.9/site-packages (from unstructured-client->unstructured[md]->-r ../requirements.txt (line 21)) (1.0.6)\n",
      "Requirement already satisfied: mypy-extensions>=1.0.0 in /Users/tantusdata/projekty/FindJobOffers/.venv/lib/python3.9/site-packages (from unstructured-client->unstructured[md]->-r ../requirements.txt (line 21)) (1.0.0)\n",
      "Requirement already satisfied: pypdf>=4.0 in /Users/tantusdata/projekty/FindJobOffers/.venv/lib/python3.9/site-packages (from unstructured-client->unstructured[md]->-r ../requirements.txt (line 21)) (4.3.1)\n",
      "Requirement already satisfied: requests-toolbelt>=1.0.0 in /Users/tantusdata/projekty/FindJobOffers/.venv/lib/python3.9/site-packages (from unstructured-client->unstructured[md]->-r ../requirements.txt (line 21)) (1.0.0)\n",
      "Collecting dash-html-components==2.0.0 (from dash>=2.0.0->dash-bootstrap-components<2.0.0,>=1.0.2->fast-dash->-r ../requirements.txt (line 30))\n",
      "  Downloading dash_html_components-2.0.0-py3-none-any.whl.metadata (3.8 kB)\n",
      "Collecting dash-core-components==2.0.0 (from dash>=2.0.0->dash-bootstrap-components<2.0.0,>=1.0.2->fast-dash->-r ../requirements.txt (line 30))\n",
      "  Downloading dash_core_components-2.0.0-py3-none-any.whl.metadata (2.9 kB)\n",
      "Collecting dash-table==5.0.0 (from dash>=2.0.0->dash-bootstrap-components<2.0.0,>=1.0.2->fast-dash->-r ../requirements.txt (line 30))\n",
      "  Downloading dash_table-5.0.0-py3-none-any.whl.metadata (2.4 kB)\n",
      "Collecting retrying (from dash>=2.0.0->dash-bootstrap-components<2.0.0,>=1.0.2->fast-dash->-r ../requirements.txt (line 30))\n",
      "  Downloading retrying-1.3.4-py3-none-any.whl.metadata (6.9 kB)\n",
      "Requirement already satisfied: ordered-set<4.2.0,>=4.1.0 in /Users/tantusdata/projekty/FindJobOffers/.venv/lib/python3.9/site-packages (from deepdiff>=6.0->unstructured-client->unstructured[md]->-r ../requirements.txt (line 21)) (4.1.0)\n",
      "Requirement already satisfied: smmap<6,>=3.0.1 in /Users/tantusdata/projekty/FindJobOffers/.venv/lib/python3.9/site-packages (from gitdb<5,>=4.0.1->gitpython<4.0.0,>=3.1.40->langchain-cli->-r ../requirements.txt (line 15)) (5.0.1)\n",
      "Requirement already satisfied: MarkupSafe>=2.0 in /Users/tantusdata/projekty/FindJobOffers/.venv/lib/python3.9/site-packages (from Jinja2>=3.1.2->Flask<3.0.0,>=2.0.2->fast-dash->-r ../requirements.txt (line 30)) (2.1.5)\n",
      "Requirement already satisfied: markdown-it-py>=2.2.0 in /Users/tantusdata/projekty/FindJobOffers/.venv/lib/python3.9/site-packages (from rich<14.0.0,>=10.11.0->typer[all]<0.10.0,>=0.9.0->langchain-cli->-r ../requirements.txt (line 15)) (3.0.0)\n",
      "Requirement already satisfied: pygments<3.0.0,>=2.13.0 in /Users/tantusdata/projekty/FindJobOffers/.venv/lib/python3.9/site-packages (from rich<14.0.0,>=10.11.0->typer[all]<0.10.0,>=0.9.0->langchain-cli->-r ../requirements.txt (line 15)) (2.18.0)\n",
      "Requirement already satisfied: jsonschema-specifications>=2023.03.6 in /Users/tantusdata/projekty/FindJobOffers/.venv/lib/python3.9/site-packages (from jsonschema->pyproject-toml<0.0.11,>=0.0.10->langserve[all]->-r ../requirements.txt (line 14)) (2023.12.1)\n",
      "Requirement already satisfied: referencing>=0.28.4 in /Users/tantusdata/projekty/FindJobOffers/.venv/lib/python3.9/site-packages (from jsonschema->pyproject-toml<0.0.11,>=0.0.10->langserve[all]->-r ../requirements.txt (line 14)) (0.35.1)\n",
      "Requirement already satisfied: rpds-py>=0.7.1 in /Users/tantusdata/projekty/FindJobOffers/.venv/lib/python3.9/site-packages (from jsonschema->pyproject-toml<0.0.11,>=0.0.10->langserve[all]->-r ../requirements.txt (line 14)) (0.20.0)\n",
      "Requirement already satisfied: mpmath<1.4,>=1.1.0 in /Users/tantusdata/projekty/FindJobOffers/.venv/lib/python3.9/site-packages (from sympy->torch>=1.11.0->sentence_transformers->-r ../requirements.txt (line 25)) (1.3.0)\n",
      "Requirement already satisfied: mdurl~=0.1 in /Users/tantusdata/projekty/FindJobOffers/.venv/lib/python3.9/site-packages (from markdown-it-py>=2.2.0->rich<14.0.0,>=10.11.0->typer[all]<0.10.0,>=0.9.0->langchain-cli->-r ../requirements.txt (line 15)) (0.1.2)\n",
      "Downloading fast_dash-0.2.9-py3-none-any.whl (46 kB)\n",
      "Downloading matplotlib-3.7.1-cp39-cp39-macosx_11_0_arm64.whl (7.3 MB)\n",
      "\u001b[2K   \u001b[90m━━━━━━━━━━━━━━━━━━━━━━━━━━━━━━━━━━━━━━━━\u001b[0m \u001b[32m7.3/7.3 MB\u001b[0m \u001b[31m4.2 MB/s\u001b[0m eta \u001b[36m0:00:00\u001b[0ma \u001b[36m0:00:01\u001b[0m\n",
      "\u001b[?25hDownloading pandas-2.1.0-cp39-cp39-macosx_11_0_arm64.whl (11.3 MB)\n",
      "\u001b[2K   \u001b[90m━━━━━━━━━━━━━━━━━━━━━━━━━━━━━━━━━━━━━━━━\u001b[0m \u001b[32m11.3/11.3 MB\u001b[0m \u001b[31m3.8 MB/s\u001b[0m eta \u001b[36m0:00:00\u001b[0ma \u001b[36m0:00:01\u001b[0m\n",
      "\u001b[?25hDownloading numpy-1.25.0-cp39-cp39-macosx_11_0_arm64.whl (14.0 MB)\n",
      "\u001b[2K   \u001b[90m━━━━━━━━━━━━━━━━━━━━━━━━━━━━━━━━━━━━━━━━\u001b[0m \u001b[32m14.0/14.0 MB\u001b[0m \u001b[31m4.2 MB/s\u001b[0m eta \u001b[36m0:00:00\u001b[0ma \u001b[36m0:00:01\u001b[0m\n",
      "\u001b[?25hDownloading dash_bootstrap_components-1.6.0-py3-none-any.whl (222 kB)\n",
      "Downloading dash_iconify-0.1.2-py3-none-any.whl (18 kB)\n",
      "Downloading dash_mantine_components-0.12.1-py3-none-any.whl (500 kB)\n",
      "Downloading docstring_parser-0.15-py3-none-any.whl (36 kB)\n",
      "Downloading flask-2.3.3-py3-none-any.whl (96 kB)\n",
      "Downloading Pillow-9.5.0-cp39-cp39-macosx_11_0_arm64.whl (3.1 MB)\n",
      "\u001b[2K   \u001b[90m━━━━━━━━━━━━━━━━━━━━━━━━━━━━━━━━━━━━━━━━\u001b[0m \u001b[32m3.1/3.1 MB\u001b[0m \u001b[31m4.1 MB/s\u001b[0m eta \u001b[36m0:00:00\u001b[0ma \u001b[36m0:00:01\u001b[0m\n",
      "\u001b[?25hDownloading plotly-5.23.0-py3-none-any.whl (17.3 MB)\n",
      "\u001b[2K   \u001b[90m━━━━━━━━━━━━━━━━━━━━━━━━━━━━━━━━━━━━━━━━\u001b[0m \u001b[32m17.3/17.3 MB\u001b[0m \u001b[31m4.2 MB/s\u001b[0m eta \u001b[36m0:00:00\u001b[0m00:01\u001b[0m00:01\u001b[0m\n",
      "\u001b[?25hDownloading blinker-1.8.2-py3-none-any.whl (9.5 kB)\n",
      "Downloading dash-2.17.1-py3-none-any.whl (7.5 MB)\n",
      "\u001b[2K   \u001b[90m━━━━━━━━━━━━━━━━━━━━━━━━━━━━━━━━━━━━━━━━\u001b[0m \u001b[32m7.5/7.5 MB\u001b[0m \u001b[31m4.2 MB/s\u001b[0m eta \u001b[36m0:00:00\u001b[0ma \u001b[36m0:00:01\u001b[0m\n",
      "\u001b[?25hDownloading dash_core_components-2.0.0-py3-none-any.whl (3.8 kB)\n",
      "Downloading dash_html_components-2.0.0-py3-none-any.whl (4.1 kB)\n",
      "Downloading dash_table-5.0.0-py3-none-any.whl (3.9 kB)\n",
      "Downloading itsdangerous-2.2.0-py3-none-any.whl (16 kB)\n",
      "Downloading werkzeug-3.0.3-py3-none-any.whl (227 kB)\n",
      "Downloading retrying-1.3.4-py3-none-any.whl (11 kB)\n",
      "Building wheels for collected packages: llm-reader\n",
      "  Building wheel for llm-reader (setup.py) ... \u001b[?25ldone\n",
      "\u001b[?25h  Created wheel for llm-reader: filename=llm_reader-1-py3-none-any.whl size=4418 sha256=185b47105a1b9776fd817c7dff1d0c461b951167b8db01c0612d5299d4763d5c\n",
      "  Stored in directory: /private/var/folders/tp/7m3g88nd5n18wzy9fx7gwmkh0000gn/T/pip-ephem-wheel-cache-ktsn771o/wheels/52/87/5f/c4c58a16cfc9bbba281005e4ac8e86634f152c20538485a72a\n",
      "Successfully built llm-reader\n",
      "Installing collected packages: dash-table, dash-mantine-components, dash-iconify, dash-html-components, dash-core-components, Werkzeug, retrying, plotly, pillow, numpy, itsdangerous, docstring-parser, blinker, pandas, Flask, matplotlib, dash, dash-bootstrap-components, llm-reader, fast-dash\n",
      "  Attempting uninstall: pillow\n",
      "    Found existing installation: pillow 10.4.0\n",
      "    Uninstalling pillow-10.4.0:\n",
      "      Successfully uninstalled pillow-10.4.0\n",
      "  Attempting uninstall: numpy\n",
      "    Found existing installation: numpy 1.26.4\n",
      "    Uninstalling numpy-1.26.4:\n",
      "      Successfully uninstalled numpy-1.26.4\n",
      "  Attempting uninstall: pandas\n",
      "    Found existing installation: pandas 2.2.2\n",
      "    Uninstalling pandas-2.2.2:\n",
      "      Successfully uninstalled pandas-2.2.2\n",
      "  Attempting uninstall: matplotlib\n",
      "    Found existing installation: matplotlib 3.9.1.post1\n",
      "    Uninstalling matplotlib-3.9.1.post1:\n",
      "      Successfully uninstalled matplotlib-3.9.1.post1\n",
      "Successfully installed Flask-2.3.3 Werkzeug-3.0.3 blinker-1.8.2 dash-2.17.1 dash-bootstrap-components-1.6.0 dash-core-components-2.0.0 dash-html-components-2.0.0 dash-iconify-0.1.2 dash-mantine-components-0.12.1 dash-table-5.0.0 docstring-parser-0.15 fast-dash-0.2.9 itsdangerous-2.2.0 llm-reader-1 matplotlib-3.7.1 numpy-1.25.0 pandas-2.1.0 pillow-9.5.0 plotly-5.23.0 retrying-1.3.4\n"
     ]
    }
   ],
   "source": [
    "!pip install -r ../requirements.txt"
   ]
  },
  {
   "cell_type": "markdown",
   "metadata": {},
   "source": [
    "# Fast try"
   ]
  },
  {
   "cell_type": "code",
   "execution_count": 1,
   "metadata": {},
   "outputs": [
    {
     "ename": "ImportError",
     "evalue": "cannot import name 'get_person_company_tech' from partially initialized module 'pipeline.pipeline' (most likely due to a circular import) (/Users/tantusdata/projekty/FindJobOffers/src/pipeline/pipeline.py)",
     "output_type": "error",
     "traceback": [
      "\u001b[0;31m---------------------------------------------------------------------------\u001b[0m",
      "\u001b[0;31mImportError\u001b[0m                               Traceback (most recent call last)",
      "Cell \u001b[0;32mIn[1], line 1\u001b[0m\n\u001b[0;32m----> 1\u001b[0m \u001b[38;5;28;01mfrom\u001b[39;00m \u001b[38;5;21;01mpipeline\u001b[39;00m\u001b[38;5;21;01m.\u001b[39;00m\u001b[38;5;21;01mpipeline\u001b[39;00m \u001b[38;5;28;01mimport\u001b[39;00m get_person_company_tech\n\u001b[1;32m      2\u001b[0m \u001b[38;5;28;01mfrom\u001b[39;00m \u001b[38;5;21;01mlinkedin\u001b[39;00m\u001b[38;5;21;01m.\u001b[39;00m\u001b[38;5;21;01mlinkedin_adapter\u001b[39;00m \u001b[38;5;28;01mimport\u001b[39;00m LinkedinAdapter\n\u001b[1;32m      3\u001b[0m \u001b[38;5;28;01mimport\u001b[39;00m \u001b[38;5;21;01mos\u001b[39;00m \n",
      "File \u001b[0;32m~/projekty/FindJobOffers/src/pipeline/pipeline.py:3\u001b[0m\n\u001b[0;32m----> 3\u001b[0m \u001b[38;5;28;01mfrom\u001b[39;00m \u001b[38;5;21;01mweb_search\u001b[39;00m\u001b[38;5;21;01m.\u001b[39;00m\u001b[38;5;21;01mcareer_link_pure\u001b[39;00m \u001b[38;5;28;01mimport\u001b[39;00m find_job_board_link_pure\n\u001b[1;32m      4\u001b[0m \u001b[38;5;28;01mfrom\u001b[39;00m \u001b[38;5;21;01mweb_search\u001b[39;00m\u001b[38;5;21;01m.\u001b[39;00m\u001b[38;5;21;01mjob_info\u001b[39;00m \u001b[38;5;28;01mimport\u001b[39;00m get_job_offers_technologies\n\u001b[1;32m      5\u001b[0m \u001b[38;5;28;01mfrom\u001b[39;00m \u001b[38;5;21;01mweb_search\u001b[39;00m\u001b[38;5;21;01m.\u001b[39;00m\u001b[38;5;21;01mjobs_list\u001b[39;00m \u001b[38;5;28;01mimport\u001b[39;00m get_job_offers\n",
      "File \u001b[0;32m~/projekty/FindJobOffers/src/web_search/career_link_pure.py:2\u001b[0m\n\u001b[0;32m----> 2\u001b[0m \u001b[38;5;28;01mfrom\u001b[39;00m \u001b[38;5;21;01mtools\u001b[39;00m\u001b[38;5;21;01m.\u001b[39;00m\u001b[38;5;21;01mtools\u001b[39;00m \u001b[38;5;28;01mimport\u001b[39;00m get_page_source\n\u001b[1;32m      3\u001b[0m \u001b[38;5;28;01mfrom\u001b[39;00m \u001b[38;5;21;01murl_to_llm_text\u001b[39;00m\u001b[38;5;21;01m.\u001b[39;00m\u001b[38;5;21;01mget_llm_input_text\u001b[39;00m \u001b[38;5;28;01mimport\u001b[39;00m get_processed_text \n\u001b[1;32m      4\u001b[0m \u001b[38;5;28;01mimport\u001b[39;00m \u001b[38;5;21;01mrequests\u001b[39;00m\n",
      "File \u001b[0;32m~/projekty/FindJobOffers/src/tools/tools.py:3\u001b[0m\n\u001b[1;32m      1\u001b[0m \u001b[38;5;66;03m# TODO: remove footer etc useless\u001b[39;00m\n\u001b[0;32m----> 3\u001b[0m \u001b[38;5;28;01mfrom\u001b[39;00m \u001b[38;5;21;01mselenium\u001b[39;00m\u001b[38;5;21;01m.\u001b[39;00m\u001b[38;5;21;01mwebdriver\u001b[39;00m\u001b[38;5;21;01m.\u001b[39;00m\u001b[38;5;21;01mchrome\u001b[39;00m\u001b[38;5;21;01m.\u001b[39;00m\u001b[38;5;21;01moptions\u001b[39;00m \u001b[38;5;28;01mimport\u001b[39;00m Options\n\u001b[1;32m      4\u001b[0m \u001b[38;5;28;01mfrom\u001b[39;00m \u001b[38;5;21;01mselenium\u001b[39;00m\u001b[38;5;21;01m.\u001b[39;00m\u001b[38;5;21;01mwebdriver\u001b[39;00m\u001b[38;5;21;01m.\u001b[39;00m\u001b[38;5;21;01mcommon\u001b[39;00m\u001b[38;5;21;01m.\u001b[39;00m\u001b[38;5;21;01mkeys\u001b[39;00m \u001b[38;5;28;01mimport\u001b[39;00m Keys\n\u001b[1;32m      5\u001b[0m \u001b[38;5;28;01mfrom\u001b[39;00m \u001b[38;5;21;01mselenium\u001b[39;00m \u001b[38;5;28;01mimport\u001b[39;00m webdriver\n",
      "File \u001b[0;32m~/projekty/FindJobOffers/src/selenium.py:6\u001b[0m\n\u001b[1;32m      4\u001b[0m \u001b[38;5;28;01mfrom\u001b[39;00m \u001b[38;5;21;01mconcurrent\u001b[39;00m\u001b[38;5;21;01m.\u001b[39;00m\u001b[38;5;21;01mfutures\u001b[39;00m \u001b[38;5;28;01mimport\u001b[39;00m ThreadPoolExecutor\n\u001b[1;32m      5\u001b[0m \u001b[38;5;28;01mimport\u001b[39;00m \u001b[38;5;21;01mos\u001b[39;00m\n\u001b[0;32m----> 6\u001b[0m \u001b[38;5;28;01mfrom\u001b[39;00m \u001b[38;5;21;01mpipeline\u001b[39;00m\u001b[38;5;21;01m.\u001b[39;00m\u001b[38;5;21;01mpipeline\u001b[39;00m \u001b[38;5;28;01mimport\u001b[39;00m get_person_company_tech\n\u001b[1;32m     13\u001b[0m \u001b[38;5;124;03m\"\"\"file_path = '../data/dataset_small.csv'\u001b[39;00m\n\u001b[1;32m     14\u001b[0m \u001b[38;5;124;03mdf = pd.read_csv(file_path)\u001b[39;00m\n\u001b[1;32m     15\u001b[0m \u001b[38;5;124;03mdataset_linkedin_links = list(df['Lead Linkedin Url'])\u001b[39;00m\n\u001b[0;32m   (...)\u001b[0m\n\u001b[1;32m     40\u001b[0m \u001b[38;5;124;03mwith ThreadPoolExecutor(max_workers=6) as executor:\u001b[39;00m\n\u001b[1;32m     41\u001b[0m \u001b[38;5;124;03m    executor.map(process_link, dataset_linkedin_links)\"\"\"\u001b[39;00m\n",
      "\u001b[0;31mImportError\u001b[0m: cannot import name 'get_person_company_tech' from partially initialized module 'pipeline.pipeline' (most likely due to a circular import) (/Users/tantusdata/projekty/FindJobOffers/src/pipeline/pipeline.py)"
     ]
    }
   ],
   "source": [
    "from pipeline.pipeline import get_person_company_tech\n",
    "from linkedin.linkedin_adapter import LinkedinAdapter\n",
    "import os \n",
    "from dotenv import load_dotenv\n",
    "\n",
    "\n",
    "load_dotenv()\n",
    "linkedin = LinkedinAdapter(os.environ['EMAIL_LINKEDIN'], os.environ['PASSWORD_LINKEDIN'])"
   ]
  },
  {
   "cell_type": "code",
   "execution_count": 15,
   "metadata": {},
   "outputs": [
    {
     "data": {
      "text/plain": [
       "True"
      ]
     },
     "execution_count": 15,
     "metadata": {},
     "output_type": "execute_result"
    }
   ],
   "source": [
    "import requests\n",
    "\n",
    "response = requests.get('http://127.0.0.1:4444/wd/hub/status')\n",
    "response.status_code == 200"
   ]
  },
  {
   "cell_type": "code",
   "execution_count": null,
   "metadata": {},
   "outputs": [],
   "source": [
    "from pipeline.pipeline import get_person_company_tech\n",
    "\n",
    "result = get_person_company_tech(linkedin, 'https://www.linkedin.com/in/vitekfilip')\n",
    "result"
   ]
  },
  {
   "cell_type": "markdown",
   "metadata": {},
   "source": [
    "# Rest"
   ]
  },
  {
   "cell_type": "code",
   "execution_count": 31,
   "metadata": {},
   "outputs": [
    {
     "data": {
      "text/plain": [
       "<module 'web_search.career_link_pure' from '/Users/tantusdata/projekty/FindJobOffers/src/web_search/career_link_pure.py'>"
      ]
     },
     "execution_count": 31,
     "metadata": {},
     "output_type": "execute_result"
    }
   ],
   "source": [
    "import importlib\n",
    "\n",
    "import web_search.career_link_pure\n",
    "importlib.reload(web_search.career_link_pure)"
   ]
  },
  {
   "cell_type": "code",
   "execution_count": 3,
   "metadata": {},
   "outputs": [],
   "source": [
    "from pipeline.pipeline import get_person_company_tech\n",
    "result = get_person_company_tech(linkedin, 'https://www.linkedin.com/in/sebastian-tritsch-99006677')\n",
    "result"
   ]
  },
  {
   "cell_type": "code",
   "execution_count": 2,
   "metadata": {},
   "outputs": [],
   "source": [
    "people_links = [\"https://www.linkedin.com/in/vitekfilip\",\n",
    "                \"https://www.linkedin.com/in/anjali-savlani\",\n",
    "                \"https://www.linkedin.com/in/jens-meichsner\",\n",
    "                \"https://www.linkedin.com/in/mayerjonathan\",\n",
    "                \"https://www.linkedin.com/in/cmortier\",\n",
    "                \"https://www.linkedin.com/in/adrianomartins9\",\n",
    "                \"https://www.linkedin.com/in/garance-vallat\",\n",
    "                \"https://www.linkedin.com/in/sandra-pfunder-394a21242\",\n",
    "                \"https://www.linkedin.com/in/sebastian-tritsch-99006677\",\n",
    "                \"https://www.linkedin.com/in/reem-farah-954b9a10b\",\n",
    "                \"https://www.linkedin.com/in/vincent-bremer-613b77101\",\n",
    "                \"https://www.linkedin.com/in/kaj-kolja-kleineberg\"]"
   ]
  },
  {
   "cell_type": "code",
   "execution_count": 3,
   "metadata": {},
   "outputs": [
    {
     "name": "stdout",
     "output_type": "stream",
     "text": [
      "https://www.linkedin.com/in/vitekfilip\n",
      "company_link  -9.375388860702515\n"
     ]
    },
    {
     "name": "stderr",
     "output_type": "stream",
     "text": [
      "INFO:httpx:HTTP Request: POST https://api.openai.com/v1/chat/completions \"HTTP/1.1 200 OK\"\n"
     ]
    },
    {
     "name": "stdout",
     "output_type": "stream",
     "text": [
      "job_board_link  -9.373028039932251\n"
     ]
    },
    {
     "name": "stderr",
     "output_type": "stream",
     "text": [
      "INFO:httpx:HTTP Request: POST https://api.openai.com/v1/chat/completions \"HTTP/1.1 200 OK\"\n",
      "INFO:httpx:HTTP Request: POST https://api.openai.com/v1/chat/completions \"HTTP/1.1 200 OK\"\n"
     ]
    },
    {
     "name": "stdout",
     "output_type": "stream",
     "text": [
      "job_offers_links  -15.61504316329956\n",
      "company_technologies  -52.891971826553345\n",
      "https://www.linkedin.com/in/anjali-savlani\n",
      "company_link  -11.821278810501099\n"
     ]
    },
    {
     "name": "stderr",
     "output_type": "stream",
     "text": [
      "INFO:httpx:HTTP Request: POST https://api.openai.com/v1/chat/completions \"HTTP/1.1 200 OK\"\n"
     ]
    },
    {
     "name": "stdout",
     "output_type": "stream",
     "text": [
      "job_board_link  -5.363737106323242\n"
     ]
    },
    {
     "name": "stderr",
     "output_type": "stream",
     "text": [
      "INFO:httpx:HTTP Request: POST https://api.openai.com/v1/chat/completions \"HTTP/1.1 200 OK\"\n",
      "INFO:httpx:HTTP Request: POST https://api.openai.com/v1/chat/completions \"HTTP/1.1 200 OK\"\n"
     ]
    },
    {
     "name": "stdout",
     "output_type": "stream",
     "text": [
      "job_offers_links  -12.464174270629883\n",
      "company_technologies  -3.2557859420776367\n",
      "https://www.linkedin.com/in/jens-meichsner\n",
      "company_link  -8.507207870483398\n"
     ]
    },
    {
     "name": "stderr",
     "output_type": "stream",
     "text": [
      "INFO:httpx:HTTP Request: POST https://api.openai.com/v1/chat/completions \"HTTP/1.1 200 OK\"\n"
     ]
    },
    {
     "name": "stdout",
     "output_type": "stream",
     "text": [
      "job_board_link  -4.415707111358643\n"
     ]
    },
    {
     "name": "stderr",
     "output_type": "stream",
     "text": [
      "INFO:httpx:HTTP Request: POST https://api.openai.com/v1/chat/completions \"HTTP/1.1 200 OK\"\n"
     ]
    },
    {
     "name": "stdout",
     "output_type": "stream",
     "text": [
      "job_offers_links  -6.781368970870972\n",
      "company_technologies  -13.73014497756958\n",
      "https://www.linkedin.com/in/mayerjonathan\n",
      "company_link  -6.9194440841674805\n"
     ]
    },
    {
     "name": "stderr",
     "output_type": "stream",
     "text": [
      "INFO:httpx:HTTP Request: POST https://api.openai.com/v1/chat/completions \"HTTP/1.1 200 OK\"\n"
     ]
    },
    {
     "name": "stdout",
     "output_type": "stream",
     "text": [
      "job_board_link  -2.861876964569092\n"
     ]
    },
    {
     "name": "stderr",
     "output_type": "stream",
     "text": [
      "INFO:httpx:HTTP Request: POST https://api.openai.com/v1/chat/completions \"HTTP/1.1 200 OK\"\n",
      "INFO:httpx:HTTP Request: POST https://api.openai.com/v1/chat/completions \"HTTP/1.1 200 OK\"\n"
     ]
    },
    {
     "name": "stdout",
     "output_type": "stream",
     "text": [
      "job_offers_links  -14.783283948898315\n",
      "company_technologies  -5.324111700057983\n",
      "https://www.linkedin.com/in/cmortier\n",
      "company_link  -11.027487993240356\n"
     ]
    },
    {
     "name": "stderr",
     "output_type": "stream",
     "text": [
      "INFO:httpx:HTTP Request: POST https://api.openai.com/v1/chat/completions \"HTTP/1.1 200 OK\"\n"
     ]
    },
    {
     "name": "stdout",
     "output_type": "stream",
     "text": [
      "job_board_link  -2.672434091567993\n"
     ]
    },
    {
     "name": "stderr",
     "output_type": "stream",
     "text": [
      "INFO:httpx:HTTP Request: POST https://api.openai.com/v1/chat/completions \"HTTP/1.1 200 OK\"\n"
     ]
    },
    {
     "name": "stdout",
     "output_type": "stream",
     "text": [
      "job_offers_links  -24.989042282104492\n",
      "company_technologies  -144.08873438835144\n",
      "https://www.linkedin.com/in/adrianomartins9\n",
      "company_link  -9.191566705703735\n"
     ]
    },
    {
     "name": "stderr",
     "output_type": "stream",
     "text": [
      "INFO:httpx:HTTP Request: POST https://api.openai.com/v1/chat/completions \"HTTP/1.1 200 OK\"\n"
     ]
    },
    {
     "name": "stdout",
     "output_type": "stream",
     "text": [
      "job_board_link  -4.410369157791138\n"
     ]
    },
    {
     "name": "stderr",
     "output_type": "stream",
     "text": [
      "INFO:httpx:HTTP Request: POST https://api.openai.com/v1/chat/completions \"HTTP/1.1 200 OK\"\n"
     ]
    },
    {
     "name": "stdout",
     "output_type": "stream",
     "text": [
      "job_offers_links  -7.180731296539307\n",
      "company_technologies  -12.522921085357666\n",
      "https://www.linkedin.com/in/garance-vallat\n",
      "company_link  -9.88039517402649\n"
     ]
    },
    {
     "name": "stderr",
     "output_type": "stream",
     "text": [
      "INFO:httpx:HTTP Request: POST https://api.openai.com/v1/chat/completions \"HTTP/1.1 200 OK\"\n"
     ]
    },
    {
     "name": "stdout",
     "output_type": "stream",
     "text": [
      "job_board_link  -2.757188081741333\n"
     ]
    },
    {
     "name": "stderr",
     "output_type": "stream",
     "text": [
      "INFO:httpx:HTTP Request: POST https://api.openai.com/v1/chat/completions \"HTTP/1.1 200 OK\"\n"
     ]
    },
    {
     "name": "stdout",
     "output_type": "stream",
     "text": [
      "job_offers_links  -7.186132192611694\n",
      "company_technologies  -24.05000114440918\n",
      "https://www.linkedin.com/in/sandra-pfunder-394a21242\n",
      "company_link  -9.691672086715698\n"
     ]
    },
    {
     "name": "stderr",
     "output_type": "stream",
     "text": [
      "INFO:httpx:HTTP Request: POST https://api.openai.com/v1/chat/completions \"HTTP/1.1 200 OK\"\n"
     ]
    },
    {
     "name": "stdout",
     "output_type": "stream",
     "text": [
      "job_board_link  -2.7363791465759277\n"
     ]
    },
    {
     "name": "stderr",
     "output_type": "stream",
     "text": [
      "INFO:httpx:HTTP Request: POST https://api.openai.com/v1/chat/completions \"HTTP/1.1 200 OK\"\n"
     ]
    },
    {
     "name": "stdout",
     "output_type": "stream",
     "text": [
      "job_offers_links  -21.82779288291931\n",
      "company_technologies  -109.07176399230957\n",
      "https://www.linkedin.com/in/sebastian-tritsch-99006677\n",
      "company_link  -10.857716798782349\n"
     ]
    },
    {
     "name": "stderr",
     "output_type": "stream",
     "text": [
      "INFO:httpx:HTTP Request: POST https://api.openai.com/v1/chat/completions \"HTTP/1.1 200 OK\"\n"
     ]
    },
    {
     "name": "stdout",
     "output_type": "stream",
     "text": [
      "job_board_link  -2.1456921100616455\n"
     ]
    },
    {
     "name": "stderr",
     "output_type": "stream",
     "text": [
      "INFO:httpx:HTTP Request: POST https://api.openai.com/v1/chat/completions \"HTTP/1.1 200 OK\"\n"
     ]
    },
    {
     "name": "stdout",
     "output_type": "stream",
     "text": [
      "job_offers_links  -20.389369249343872\n",
      "company_technologies  -103.71838188171387\n",
      "https://www.linkedin.com/in/reem-farah-954b9a10b\n",
      "company_link  -7.650622844696045\n"
     ]
    },
    {
     "name": "stderr",
     "output_type": "stream",
     "text": [
      "INFO:httpx:HTTP Request: POST https://api.openai.com/v1/chat/completions \"HTTP/1.1 200 OK\"\n"
     ]
    },
    {
     "name": "stdout",
     "output_type": "stream",
     "text": [
      "job_board_link  -3.623552083969116\n",
      "SHORT LLM TEXT\n"
     ]
    },
    {
     "name": "stderr",
     "output_type": "stream",
     "text": [
      "INFO:httpx:HTTP Request: POST https://api.openai.com/v1/chat/completions \"HTTP/1.1 200 OK\"\n"
     ]
    },
    {
     "name": "stdout",
     "output_type": "stream",
     "text": [
      "SHORT LLM TEXT\n"
     ]
    },
    {
     "name": "stderr",
     "output_type": "stream",
     "text": [
      "INFO:httpx:HTTP Request: POST https://api.openai.com/v1/chat/completions \"HTTP/1.1 200 OK\"\n"
     ]
    },
    {
     "name": "stdout",
     "output_type": "stream",
     "text": [
      "job_offers_links  -11.006906032562256\n",
      "company_technologies  -3.262500762939453\n",
      "https://www.linkedin.com/in/vincent-bremer-613b77101\n",
      "company_link  -7.739221096038818\n"
     ]
    },
    {
     "name": "stderr",
     "output_type": "stream",
     "text": [
      "INFO:httpx:HTTP Request: POST https://api.openai.com/v1/chat/completions \"HTTP/1.1 200 OK\"\n"
     ]
    },
    {
     "name": "stdout",
     "output_type": "stream",
     "text": [
      "job_board_link  -2.6668169498443604\n"
     ]
    },
    {
     "name": "stderr",
     "output_type": "stream",
     "text": [
      "INFO:httpx:HTTP Request: POST https://api.openai.com/v1/chat/completions \"HTTP/1.1 200 OK\"\n"
     ]
    },
    {
     "name": "stdout",
     "output_type": "stream",
     "text": [
      "job_offers_links  -8.197078704833984\n",
      "company_technologies  -23.88168501853943\n",
      "https://www.linkedin.com/in/kaj-kolja-kleineberg\n",
      "company_link  -10.898608922958374\n"
     ]
    },
    {
     "name": "stderr",
     "output_type": "stream",
     "text": [
      "INFO:httpx:HTTP Request: POST https://api.openai.com/v1/chat/completions \"HTTP/1.1 200 OK\"\n"
     ]
    },
    {
     "name": "stdout",
     "output_type": "stream",
     "text": [
      "job_board_link  -2.1740009784698486\n"
     ]
    },
    {
     "name": "stderr",
     "output_type": "stream",
     "text": [
      "INFO:httpx:HTTP Request: POST https://api.openai.com/v1/chat/completions \"HTTP/1.1 200 OK\"\n"
     ]
    },
    {
     "name": "stdout",
     "output_type": "stream",
     "text": [
      "job_offers_links  -11.679573059082031\n",
      "company_technologies  -51.78740096092224\n"
     ]
    }
   ],
   "source": [
    "abc = []\n",
    "for person_link in people_links:\n",
    "    print(person_link)\n",
    "    abc.append(get_person_company_tech(linkedin, person_link))"
   ]
  },
  {
   "cell_type": "code",
   "execution_count": 42,
   "metadata": {},
   "outputs": [
    {
     "data": {
      "text/plain": [
       "'http://www.visable.com/en_uk/career/jobs'"
      ]
     },
     "execution_count": 42,
     "metadata": {},
     "output_type": "execute_result"
    }
   ],
   "source": [
    "from web_search.career_link_pure import find_job_board_link_pure\n",
    "\n",
    "find_job_board_link_pure(\"http://www.visable.com\")"
   ]
  },
  {
   "cell_type": "markdown",
   "metadata": {},
   "source": [
    "# Test"
   ]
  },
  {
   "cell_type": "markdown",
   "metadata": {},
   "source": [
    "\"\"\"\n",
    "    from url_to_llm_text.get_html_text import get_page_source\n",
    "    from url_to_llm_text.get_llm_input_text import get_processed_text\n",
    "    from langchain_core.pydantic_v1 import BaseModel, Field\n",
    "    from langchain_openai import ChatOpenAI\n",
    "\n",
    "    class JobBoardCheck(BaseModel):\n",
    "        job_board_bool: bool = Field(description='Bool value of existing job board')\n",
    "\n",
    "    def is_job_board(url):\n",
    "        page_source = get_page_source(url)\n",
    "        llm_text = get_processed_text(page_source, url)\n",
    "\n",
    "        prompt_format = \"\"\"In input I give you a webpage. \n",
    "                        I'm not sure that there is or there isn't job board. Write me answer\n",
    "                        webpage: {llm_friendly_webpage_text}\"\"\"\n",
    "        if len(llm_text) > 40000:\n",
    "            print('SHORT LLM TEXT')\n",
    "        prompt = prompt_format.format(llm_friendly_webpage_text=llm_text[:40000])\n",
    "\n",
    "        model = ChatOpenAI(model=\"gpt-4o-2024-05-13\", temperature=0, seed=0, top_p=0.001,\n",
    "                        max_tokens=4096, n=1, frequency_penalty=0, presence_penalty=0)\n",
    "        \n",
    "        structured_llm = model.with_structured_output(JobBoardCheck)\n",
    "\n",
    "        prompt = prompt_format.format(llm_friendly_webpage_text=llm_text)\n",
    "        answer = structured_llm.invoke(prompt)\n",
    "        return answer\n",
    "\"\"\"\n"
   ]
  },
  {
   "cell_type": "code",
   "execution_count": 2,
   "metadata": {},
   "outputs": [],
   "source": [
    "import pandas as pd\n",
    "\n",
    "# Ścieżka do pliku CSV\n",
    "file_path = '../dataset.csv'\n",
    "df = pd.read_csv(file_path)\n",
    "dataset_linkedin_links = list(df['Lead Linkedin Url'])\n"
   ]
  },
  {
   "cell_type": "code",
   "execution_count": 6,
   "metadata": {},
   "outputs": [
    {
     "data": {
      "text/plain": [
       "['https://www.linkedin.com/in/manohar-sharma-b1904618',\n",
       " 'https://www.linkedin.com/in/dominik-picker-54b09a27']"
      ]
     },
     "execution_count": 6,
     "metadata": {},
     "output_type": "execute_result"
    }
   ],
   "source": [
    "dataset_linkedin_links[:2]"
   ]
  },
  {
   "cell_type": "code",
   "execution_count": 12,
   "metadata": {},
   "outputs": [
    {
     "name": "stdout",
     "output_type": "stream",
     "text": [
      "company_link  -9.384328126907349\n"
     ]
    },
    {
     "name": "stderr",
     "output_type": "stream",
     "text": [
      "INFO:httpx:HTTP Request: POST https://api.openai.com/v1/chat/completions \"HTTP/1.1 200 OK\"\n"
     ]
    },
    {
     "name": "stdout",
     "output_type": "stream",
     "text": [
      "job_board_link  -4.8384082317352295\n",
      "company_link  -7.5993170738220215\n",
      "SHORT LLM TEXT\n"
     ]
    },
    {
     "name": "stderr",
     "output_type": "stream",
     "text": [
      "INFO:httpx:HTTP Request: POST https://api.openai.com/v1/chat/completions \"HTTP/1.1 200 OK\"\n"
     ]
    },
    {
     "name": "stdout",
     "output_type": "stream",
     "text": [
      "job_board_link  -6.359311819076538\n",
      "SHORT LLM TEXT\n"
     ]
    },
    {
     "name": "stderr",
     "output_type": "stream",
     "text": [
      "INFO:httpx:HTTP Request: POST https://api.openai.com/v1/chat/completions \"HTTP/1.1 200 OK\"\n"
     ]
    },
    {
     "name": "stdout",
     "output_type": "stream",
     "text": [
      "job_offers_links  -11.989922046661377\n"
     ]
    },
    {
     "name": "stderr",
     "output_type": "stream",
     "text": [
      "INFO:linkedin_api.linkedin:request failed: This profile can't be accessed\n"
     ]
    },
    {
     "name": "stdout",
     "output_type": "stream",
     "text": [
      "company_link  -9.586112976074219\n"
     ]
    },
    {
     "name": "stderr",
     "output_type": "stream",
     "text": [
      "INFO:httpx:HTTP Request: POST https://api.openai.com/v1/chat/completions \"HTTP/1.1 200 OK\"\n"
     ]
    },
    {
     "name": "stdout",
     "output_type": "stream",
     "text": [
      "job_board_link  -3.9773948192596436\n"
     ]
    },
    {
     "name": "stderr",
     "output_type": "stream",
     "text": [
      "INFO:httpx:HTTP Request: POST https://api.openai.com/v1/chat/completions \"HTTP/1.1 200 OK\"\n"
     ]
    },
    {
     "name": "stdout",
     "output_type": "stream",
     "text": [
      "job_offers_links  -6.068799018859863\n",
      "company_link  -7.66300892829895\n"
     ]
    },
    {
     "name": "stderr",
     "output_type": "stream",
     "text": [
      "INFO:httpx:HTTP Request: POST https://api.openai.com/v1/chat/completions \"HTTP/1.1 200 OK\"\n"
     ]
    },
    {
     "name": "stdout",
     "output_type": "stream",
     "text": [
      "job_board_link  -3.0709400177001953\n",
      "company_link  -8.714093923568726\n"
     ]
    }
   ],
   "source": [
    "import csv\n",
    "import pandas as pd\n",
    "\n",
    "# Ścieżka do pliku CSV, gdzie będą zapisywane wyniki\n",
    "results_file = 'results.csv'\n",
    "\n",
    "# Otwieramy plik CSV do zapisu\n",
    "linkedin = LinkedinAdapter(os.environ['EMAIL_LINKEDIN'], os.environ['PASSWORD_LINKEDIN'])\n",
    "with open(results_file, mode='w', newline='', encoding='utf-8') as file:\n",
    "    writer = csv.writer(file)\n",
    "    \n",
    "    # Zapisanie nagłówków kolumn (przykładowe kolumny, dostosuj do rzeczywistej struktury danych)\n",
    "    writer.writerow(['company_technologies', 'person_link', 'company_link', 'job_board_link', 'job_offers_links'])\n",
    "errors = 0\n",
    "# Iteracja po linkach i wywołanie funkcji\n",
    "for link in dataset_linkedin_links[:5]:\n",
    "    # Wywołanie funkcji dla danego linku\n",
    "    try:\n",
    "        company_technologies, person_link, company_link, job_board_link, job_offers_links = get_person_company_tech(linkedin=linkedin, person_link=link)\n",
    "        \n",
    "        # Zapisanie wyników w pliku CSV\n",
    "        with open(results_file, mode='a', newline='', encoding='utf-8') as file:\n",
    "            writer = csv.writer(file)\n",
    "            writer.writerow([company_technologies, person_link, company_link, job_board_link, job_offers_links])\n",
    "    except:\n",
    "        errors += 1\n",
    "        \n",
    "\n",
    "# Wczytywanie wyników z pliku CSV do DataFrame pandas\n",
    "df = pd.read_csv(results_file)\n",
    "print(errors)"
   ]
  },
  {
   "cell_type": "code",
   "execution_count": null,
   "metadata": {},
   "outputs": [],
   "source": [
    "import csv\n",
    "import pandas as pd\n",
    "import threading\n",
    "from concurrent.futures import ThreadPoolExecutor\n",
    "\n",
    "\n",
    "# Ścieżka do pliku CSV, gdzie będą zapisywane wyniki\n",
    "results_file = 'results.csv'\n",
    "\n",
    "# Otwieramy plik CSV do zapisu\n",
    "linkedin = LinkedinAdapter(os.environ['EMAIL_LINKEDIN'], os.environ['PASSWORD_LINKEDIN'])\n",
    "with open(results_file, mode='w', newline='', encoding='utf-8') as file:\n",
    "    writer = csv.writer(file)\n",
    "    \n",
    "    # Zapisanie nagłówków kolumn (przykładowe kolumny, dostosuj do rzeczywistej struktury danych)\n",
    "    writer.writerow(['company_technologies', 'person_link', 'company_link', 'job_board_link', 'job_offers_links'])\n",
    "\n",
    "# Funkcja, która będzie wykonywana w wątkach\n",
    "def process_link(link):\n",
    "    try:\n",
    "        # Wywołanie funkcji dla danego linku\n",
    "        company_technologies, person_link, company_link, job_board_link, job_offers_links = get_person_company_tech(linkedin=linkedin, person_link=link)\n",
    "        \n",
    "        # Zabezpieczenie zapisu do pliku przy użyciu blokady\n",
    "        with lock:\n",
    "            with open(results_file, mode='a', newline='', encoding='utf-8') as file:\n",
    "                writer = csv.writer(file)\n",
    "                writer.writerow([company_technologies, person_link, company_link, job_board_link, job_offers_links])\n",
    "    except Exception as e:\n",
    "        # Można tutaj dodać logowanie błędów lub zwiększyć licznik błędów\n",
    "        print(f\"Error processing link {link}: {e}\")\n",
    "        with lock:\n",
    "            global errors\n",
    "            errors += 1\n",
    "\n",
    "# Inicjalizacja zmiennej dla liczby błędów\n",
    "errors = 0\n",
    "\n",
    "# Inicjalizacja blokady\n",
    "lock = threading.Lock()\n",
    "\n",
    "# Używanie ThreadPoolExecutor do uruchamiania funkcji na 5 wątkach jednocześnie\n",
    "with ThreadPoolExecutor(max_workers=6) as executor:\n",
    "    # Mapowanie funkcji process_link na listę linków\n",
    "    executor.map(process_link, dataset_linkedin_links)\n",
    "        \n",
    "\n",
    "# Wczytywanie wyników z pliku CSV do DataFrame pandas\n",
    "df = pd.read_csv(results_file)\n",
    "print(errors)"
   ]
  },
  {
   "cell_type": "code",
   "execution_count": 6,
   "metadata": {},
   "outputs": [],
   "source": [
    "import pandas as pd\n",
    "results = pd.read_csv('../data/results.csv')\n",
    "person_record = results[results['person_link']==\"https://www.linkedin.com/in/lefkios\"].iloc[0]\n",
    "person_link = person_record['person_link']\n",
    "company_link = person_record['company_link']\n",
    "company_technologies = person_record['company_technologies']\n",
    "job_board_link = person_record['job_board_link']\n",
    "job_offers_links = person_record['job_offers_links']"
   ]
  }
 ],
 "metadata": {
  "kernelspec": {
   "display_name": "Python 3",
   "language": "python",
   "name": "python3"
  },
  "language_info": {
   "codemirror_mode": {
    "name": "ipython",
    "version": 3
   },
   "file_extension": ".py",
   "mimetype": "text/x-python",
   "name": "python",
   "nbconvert_exporter": "python",
   "pygments_lexer": "ipython3",
   "version": "3.9.6"
  }
 },
 "nbformat": 4,
 "nbformat_minor": 2
}
