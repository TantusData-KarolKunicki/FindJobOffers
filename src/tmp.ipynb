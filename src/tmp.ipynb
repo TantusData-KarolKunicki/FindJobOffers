{
 "cells": [
  {
   "cell_type": "code",
   "execution_count": 2,
   "metadata": {},
   "outputs": [
    {
     "name": "stdout",
     "output_type": "stream",
     "text": [
      "Collecting git+https://github.com/ai92-github/llm-reader.git (from -r ../requirements.txt (line 1))\n",
      "  Cloning https://github.com/ai92-github/llm-reader.git to /private/var/folders/tp/7m3g88nd5n18wzy9fx7gwmkh0000gn/T/pip-req-build-lgwp3vwl\n",
      "  Running command git clone --filter=blob:none --quiet https://github.com/ai92-github/llm-reader.git /private/var/folders/tp/7m3g88nd5n18wzy9fx7gwmkh0000gn/T/pip-req-build-lgwp3vwl\n",
      "  Resolved https://github.com/ai92-github/llm-reader.git to commit c7fa92b465ed63afd6cd0e73dfc894bbd93bcca4\n",
      "  Preparing metadata (setup.py) ... \u001b[?25ldone\n",
      "\u001b[?25hRequirement already satisfied: selenium in /Users/tantusdata/projekty/FindJobOffers/.venv/lib/python3.9/site-packages (from -r ../requirements.txt (line 2)) (4.23.1)\n",
      "Requirement already satisfied: playwright in /Users/tantusdata/projekty/FindJobOffers/.venv/lib/python3.9/site-packages (from -r ../requirements.txt (line 3)) (1.45.1)\n",
      "Requirement already satisfied: google-colab-selenium in /Users/tantusdata/projekty/FindJobOffers/.venv/lib/python3.9/site-packages (from -r ../requirements.txt (line 4)) (1.0.14)\n",
      "Requirement already satisfied: requests in /Users/tantusdata/projekty/FindJobOffers/.venv/lib/python3.9/site-packages (from -r ../requirements.txt (line 5)) (2.32.3)\n",
      "Requirement already satisfied: beautifulsoup4 in /Users/tantusdata/projekty/FindJobOffers/.venv/lib/python3.9/site-packages (from -r ../requirements.txt (line 6)) (4.12.3)\n",
      "Requirement already satisfied: linkedin-api in /Users/tantusdata/projekty/FindJobOffers/.venv/lib/python3.9/site-packages (from -r ../requirements.txt (line 7)) (2.1.1)\n",
      "Requirement already satisfied: nest_asyncio in /Users/tantusdata/projekty/FindJobOffers/.venv/lib/python3.9/site-packages (from -r ../requirements.txt (line 8)) (1.6.0)\n",
      "Requirement already satisfied: tiktoken in /Users/tantusdata/projekty/FindJobOffers/.venv/lib/python3.9/site-packages (from -r ../requirements.txt (line 9)) (0.7.0)\n",
      "Requirement already satisfied: matplotlib in /Users/tantusdata/projekty/FindJobOffers/.venv/lib/python3.9/site-packages (from -r ../requirements.txt (line 10)) (3.9.1.post1)\n",
      "Requirement already satisfied: langchain in /Users/tantusdata/projekty/FindJobOffers/.venv/lib/python3.9/site-packages (from -r ../requirements.txt (line 11)) (0.2.12)\n",
      "Requirement already satisfied: langchain_core in /Users/tantusdata/projekty/FindJobOffers/.venv/lib/python3.9/site-packages (from -r ../requirements.txt (line 12)) (0.2.29)\n",
      "Requirement already satisfied: langchain-community in /Users/tantusdata/projekty/FindJobOffers/.venv/lib/python3.9/site-packages (from -r ../requirements.txt (line 13)) (0.2.11)\n",
      "Requirement already satisfied: langchain-cli in /Users/tantusdata/projekty/FindJobOffers/.venv/lib/python3.9/site-packages (from -r ../requirements.txt (line 15)) (0.0.28)\n",
      "Requirement already satisfied: langchain_openai in /Users/tantusdata/projekty/FindJobOffers/.venv/lib/python3.9/site-packages (from -r ../requirements.txt (line 16)) (0.1.20)\n",
      "Requirement already satisfied: langchain-anthropic in /Users/tantusdata/projekty/FindJobOffers/.venv/lib/python3.9/site-packages (from -r ../requirements.txt (line 17)) (0.1.22)\n",
      "Requirement already satisfied: langserve in /Users/tantusdata/projekty/FindJobOffers/.venv/lib/python3.9/site-packages (from -r ../requirements.txt (line 18)) (0.2.2)\n",
      "Requirement already satisfied: langchainhub in /Users/tantusdata/projekty/FindJobOffers/.venv/lib/python3.9/site-packages (from -r ../requirements.txt (line 19)) (0.1.20)\n",
      "Requirement already satisfied: langchain_experimental in /Users/tantusdata/projekty/FindJobOffers/.venv/lib/python3.9/site-packages (from -r ../requirements.txt (line 20)) (0.0.64)\n",
      "Requirement already satisfied: openai in /Users/tantusdata/projekty/FindJobOffers/.venv/lib/python3.9/site-packages (from -r ../requirements.txt (line 22)) (1.40.1)\n",
      "Requirement already satisfied: anthropic in /Users/tantusdata/projekty/FindJobOffers/.venv/lib/python3.9/site-packages (from -r ../requirements.txt (line 23)) (0.32.0)\n",
      "Requirement already satisfied: grandalf in /Users/tantusdata/projekty/FindJobOffers/.venv/lib/python3.9/site-packages (from -r ../requirements.txt (line 24)) (0.8)\n",
      "Requirement already satisfied: sentence_transformers in /Users/tantusdata/projekty/FindJobOffers/.venv/lib/python3.9/site-packages (from -r ../requirements.txt (line 25)) (3.0.1)\n",
      "Requirement already satisfied: pandas in /Users/tantusdata/projekty/FindJobOffers/.venv/lib/python3.9/site-packages (from -r ../requirements.txt (line 27)) (2.2.2)\n",
      "Requirement already satisfied: numpy in /Users/tantusdata/projekty/FindJobOffers/.venv/lib/python3.9/site-packages (from -r ../requirements.txt (line 28)) (1.26.4)\n",
      "Requirement already satisfied: python-dotenv in /Users/tantusdata/projekty/FindJobOffers/.venv/lib/python3.9/site-packages (from -r ../requirements.txt (line 29)) (1.0.1)\n",
      "Requirement already satisfied: unstructured[md] in /Users/tantusdata/projekty/FindJobOffers/.venv/lib/python3.9/site-packages (from -r ../requirements.txt (line 21)) (0.15.1)\n",
      "Requirement already satisfied: inscriptis in /Users/tantusdata/projekty/FindJobOffers/.venv/lib/python3.9/site-packages (from url-to-LLM-ready-text==1->-r ../requirements.txt (line 1)) (2.5.0)\n",
      "Requirement already satisfied: minify_html in /Users/tantusdata/projekty/FindJobOffers/.venv/lib/python3.9/site-packages (from url-to-LLM-ready-text==1->-r ../requirements.txt (line 1)) (0.15.0)\n",
      "Requirement already satisfied: urllib3<3,>=1.26 in /Users/tantusdata/projekty/FindJobOffers/.venv/lib/python3.9/site-packages (from urllib3[socks]<3,>=1.26->selenium->-r ../requirements.txt (line 2)) (2.2.2)\n",
      "Requirement already satisfied: trio~=0.17 in /Users/tantusdata/projekty/FindJobOffers/.venv/lib/python3.9/site-packages (from selenium->-r ../requirements.txt (line 2)) (0.26.2)\n",
      "Requirement already satisfied: trio-websocket~=0.9 in /Users/tantusdata/projekty/FindJobOffers/.venv/lib/python3.9/site-packages (from selenium->-r ../requirements.txt (line 2)) (0.11.1)\n",
      "Requirement already satisfied: certifi>=2021.10.8 in /Users/tantusdata/projekty/FindJobOffers/.venv/lib/python3.9/site-packages (from selenium->-r ../requirements.txt (line 2)) (2024.7.4)\n",
      "Requirement already satisfied: typing_extensions~=4.9 in /Users/tantusdata/projekty/FindJobOffers/.venv/lib/python3.9/site-packages (from selenium->-r ../requirements.txt (line 2)) (4.12.2)\n",
      "Requirement already satisfied: websocket-client~=1.8 in /Users/tantusdata/projekty/FindJobOffers/.venv/lib/python3.9/site-packages (from selenium->-r ../requirements.txt (line 2)) (1.8.0)\n",
      "Requirement already satisfied: greenlet==3.0.3 in /Users/tantusdata/projekty/FindJobOffers/.venv/lib/python3.9/site-packages (from playwright->-r ../requirements.txt (line 3)) (3.0.3)\n",
      "Requirement already satisfied: pyee==11.1.0 in /Users/tantusdata/projekty/FindJobOffers/.venv/lib/python3.9/site-packages (from playwright->-r ../requirements.txt (line 3)) (11.1.0)\n",
      "Requirement already satisfied: charset-normalizer<4,>=2 in /Users/tantusdata/projekty/FindJobOffers/.venv/lib/python3.9/site-packages (from requests->-r ../requirements.txt (line 5)) (3.3.2)\n",
      "Requirement already satisfied: idna<4,>=2.5 in /Users/tantusdata/projekty/FindJobOffers/.venv/lib/python3.9/site-packages (from requests->-r ../requirements.txt (line 5)) (3.7)\n",
      "Requirement already satisfied: soupsieve>1.2 in /Users/tantusdata/projekty/FindJobOffers/.venv/lib/python3.9/site-packages (from beautifulsoup4->-r ../requirements.txt (line 6)) (2.5)\n",
      "Requirement already satisfied: lxml in /Users/tantusdata/projekty/FindJobOffers/.venv/lib/python3.9/site-packages (from linkedin-api->-r ../requirements.txt (line 7)) (5.2.2)\n",
      "Requirement already satisfied: regex>=2022.1.18 in /Users/tantusdata/projekty/FindJobOffers/.venv/lib/python3.9/site-packages (from tiktoken->-r ../requirements.txt (line 9)) (2024.7.24)\n",
      "Requirement already satisfied: contourpy>=1.0.1 in /Users/tantusdata/projekty/FindJobOffers/.venv/lib/python3.9/site-packages (from matplotlib->-r ../requirements.txt (line 10)) (1.2.1)\n",
      "Requirement already satisfied: cycler>=0.10 in /Users/tantusdata/projekty/FindJobOffers/.venv/lib/python3.9/site-packages (from matplotlib->-r ../requirements.txt (line 10)) (0.12.1)\n",
      "Requirement already satisfied: fonttools>=4.22.0 in /Users/tantusdata/projekty/FindJobOffers/.venv/lib/python3.9/site-packages (from matplotlib->-r ../requirements.txt (line 10)) (4.53.1)\n",
      "Requirement already satisfied: kiwisolver>=1.3.1 in /Users/tantusdata/projekty/FindJobOffers/.venv/lib/python3.9/site-packages (from matplotlib->-r ../requirements.txt (line 10)) (1.4.5)\n",
      "Requirement already satisfied: packaging>=20.0 in /Users/tantusdata/projekty/FindJobOffers/.venv/lib/python3.9/site-packages (from matplotlib->-r ../requirements.txt (line 10)) (24.1)\n",
      "Requirement already satisfied: pillow>=8 in /Users/tantusdata/projekty/FindJobOffers/.venv/lib/python3.9/site-packages (from matplotlib->-r ../requirements.txt (line 10)) (10.4.0)\n",
      "Requirement already satisfied: pyparsing>=2.3.1 in /Users/tantusdata/projekty/FindJobOffers/.venv/lib/python3.9/site-packages (from matplotlib->-r ../requirements.txt (line 10)) (3.1.2)\n",
      "Requirement already satisfied: python-dateutil>=2.7 in /Users/tantusdata/projekty/FindJobOffers/.venv/lib/python3.9/site-packages (from matplotlib->-r ../requirements.txt (line 10)) (2.9.0.post0)\n",
      "Requirement already satisfied: importlib-resources>=3.2.0 in /Users/tantusdata/projekty/FindJobOffers/.venv/lib/python3.9/site-packages (from matplotlib->-r ../requirements.txt (line 10)) (6.4.0)\n",
      "Requirement already satisfied: PyYAML>=5.3 in /Users/tantusdata/projekty/FindJobOffers/.venv/lib/python3.9/site-packages (from langchain->-r ../requirements.txt (line 11)) (6.0.2)\n",
      "Requirement already satisfied: SQLAlchemy<3,>=1.4 in /Users/tantusdata/projekty/FindJobOffers/.venv/lib/python3.9/site-packages (from langchain->-r ../requirements.txt (line 11)) (2.0.32)\n",
      "Requirement already satisfied: aiohttp<4.0.0,>=3.8.3 in /Users/tantusdata/projekty/FindJobOffers/.venv/lib/python3.9/site-packages (from langchain->-r ../requirements.txt (line 11)) (3.10.1)\n",
      "Requirement already satisfied: async-timeout<5.0.0,>=4.0.0 in /Users/tantusdata/projekty/FindJobOffers/.venv/lib/python3.9/site-packages (from langchain->-r ../requirements.txt (line 11)) (4.0.3)\n",
      "Requirement already satisfied: langchain-text-splitters<0.3.0,>=0.2.0 in /Users/tantusdata/projekty/FindJobOffers/.venv/lib/python3.9/site-packages (from langchain->-r ../requirements.txt (line 11)) (0.2.2)\n",
      "Requirement already satisfied: langsmith<0.2.0,>=0.1.17 in /Users/tantusdata/projekty/FindJobOffers/.venv/lib/python3.9/site-packages (from langchain->-r ../requirements.txt (line 11)) (0.1.98)\n",
      "Requirement already satisfied: pydantic<3,>=1 in /Users/tantusdata/projekty/FindJobOffers/.venv/lib/python3.9/site-packages (from langchain->-r ../requirements.txt (line 11)) (2.8.2)\n",
      "Requirement already satisfied: tenacity!=8.4.0,<9.0.0,>=8.1.0 in /Users/tantusdata/projekty/FindJobOffers/.venv/lib/python3.9/site-packages (from langchain->-r ../requirements.txt (line 11)) (8.5.0)\n",
      "Requirement already satisfied: jsonpatch<2.0,>=1.33 in /Users/tantusdata/projekty/FindJobOffers/.venv/lib/python3.9/site-packages (from langchain_core->-r ../requirements.txt (line 12)) (1.33)\n",
      "Requirement already satisfied: dataclasses-json<0.7,>=0.5.7 in /Users/tantusdata/projekty/FindJobOffers/.venv/lib/python3.9/site-packages (from langchain-community->-r ../requirements.txt (line 13)) (0.6.7)\n",
      "Requirement already satisfied: httpx>=0.23.0 in /Users/tantusdata/projekty/FindJobOffers/.venv/lib/python3.9/site-packages (from langserve[all]->-r ../requirements.txt (line 14)) (0.27.0)\n",
      "Requirement already satisfied: orjson>=2 in /Users/tantusdata/projekty/FindJobOffers/.venv/lib/python3.9/site-packages (from langserve[all]->-r ../requirements.txt (line 14)) (3.10.6)\n",
      "Requirement already satisfied: pyproject-toml<0.0.11,>=0.0.10 in /Users/tantusdata/projekty/FindJobOffers/.venv/lib/python3.9/site-packages (from langserve[all]->-r ../requirements.txt (line 14)) (0.0.10)\n",
      "Requirement already satisfied: fastapi<1,>=0.90.1 in /Users/tantusdata/projekty/FindJobOffers/.venv/lib/python3.9/site-packages (from langserve[all]->-r ../requirements.txt (line 14)) (0.112.0)\n",
      "Requirement already satisfied: sse-starlette<2.0.0,>=1.3.0 in /Users/tantusdata/projekty/FindJobOffers/.venv/lib/python3.9/site-packages (from langserve[all]->-r ../requirements.txt (line 14)) (1.8.2)\n",
      "Requirement already satisfied: gitpython<4.0.0,>=3.1.40 in /Users/tantusdata/projekty/FindJobOffers/.venv/lib/python3.9/site-packages (from langchain-cli->-r ../requirements.txt (line 15)) (3.1.43)\n",
      "Requirement already satisfied: libcst<2.0.0,>=1.3.1 in /Users/tantusdata/projekty/FindJobOffers/.venv/lib/python3.9/site-packages (from langchain-cli->-r ../requirements.txt (line 15)) (1.4.0)\n",
      "Requirement already satisfied: tomlkit<0.13.0,>=0.12.2 in /Users/tantusdata/projekty/FindJobOffers/.venv/lib/python3.9/site-packages (from langchain-cli->-r ../requirements.txt (line 15)) (0.12.5)\n",
      "Requirement already satisfied: typer<0.10.0,>=0.9.0 in /Users/tantusdata/projekty/FindJobOffers/.venv/lib/python3.9/site-packages (from typer[all]<0.10.0,>=0.9.0->langchain-cli->-r ../requirements.txt (line 15)) (0.9.4)\n",
      "Requirement already satisfied: uvicorn<0.24.0,>=0.23.2 in /Users/tantusdata/projekty/FindJobOffers/.venv/lib/python3.9/site-packages (from langchain-cli->-r ../requirements.txt (line 15)) (0.23.2)\n",
      "Requirement already satisfied: defusedxml<0.8.0,>=0.7.1 in /Users/tantusdata/projekty/FindJobOffers/.venv/lib/python3.9/site-packages (from langchain-anthropic->-r ../requirements.txt (line 17)) (0.7.1)\n",
      "Requirement already satisfied: types-requests<3.0.0.0,>=2.31.0.2 in /Users/tantusdata/projekty/FindJobOffers/.venv/lib/python3.9/site-packages (from langchainhub->-r ../requirements.txt (line 19)) (2.32.0.20240712)\n",
      "Requirement already satisfied: chardet in /Users/tantusdata/projekty/FindJobOffers/.venv/lib/python3.9/site-packages (from unstructured[md]->-r ../requirements.txt (line 21)) (5.2.0)\n",
      "Requirement already satisfied: filetype in /Users/tantusdata/projekty/FindJobOffers/.venv/lib/python3.9/site-packages (from unstructured[md]->-r ../requirements.txt (line 21)) (1.2.0)\n",
      "Requirement already satisfied: python-magic in /Users/tantusdata/projekty/FindJobOffers/.venv/lib/python3.9/site-packages (from unstructured[md]->-r ../requirements.txt (line 21)) (0.4.27)\n",
      "Requirement already satisfied: nltk in /Users/tantusdata/projekty/FindJobOffers/.venv/lib/python3.9/site-packages (from unstructured[md]->-r ../requirements.txt (line 21)) (3.8.1)\n",
      "Requirement already satisfied: tabulate in /Users/tantusdata/projekty/FindJobOffers/.venv/lib/python3.9/site-packages (from unstructured[md]->-r ../requirements.txt (line 21)) (0.9.0)\n",
      "Requirement already satisfied: emoji in /Users/tantusdata/projekty/FindJobOffers/.venv/lib/python3.9/site-packages (from unstructured[md]->-r ../requirements.txt (line 21)) (2.12.1)\n",
      "Requirement already satisfied: python-iso639 in /Users/tantusdata/projekty/FindJobOffers/.venv/lib/python3.9/site-packages (from unstructured[md]->-r ../requirements.txt (line 21)) (2024.4.27)\n",
      "Requirement already satisfied: langdetect in /Users/tantusdata/projekty/FindJobOffers/.venv/lib/python3.9/site-packages (from unstructured[md]->-r ../requirements.txt (line 21)) (1.0.9)\n",
      "Requirement already satisfied: rapidfuzz in /Users/tantusdata/projekty/FindJobOffers/.venv/lib/python3.9/site-packages (from unstructured[md]->-r ../requirements.txt (line 21)) (3.9.6)\n",
      "Requirement already satisfied: backoff in /Users/tantusdata/projekty/FindJobOffers/.venv/lib/python3.9/site-packages (from unstructured[md]->-r ../requirements.txt (line 21)) (2.2.1)\n",
      "Requirement already satisfied: unstructured-client in /Users/tantusdata/projekty/FindJobOffers/.venv/lib/python3.9/site-packages (from unstructured[md]->-r ../requirements.txt (line 21)) (0.25.4)\n",
      "Requirement already satisfied: wrapt in /Users/tantusdata/projekty/FindJobOffers/.venv/lib/python3.9/site-packages (from unstructured[md]->-r ../requirements.txt (line 21)) (1.16.0)\n",
      "Requirement already satisfied: tqdm in /Users/tantusdata/projekty/FindJobOffers/.venv/lib/python3.9/site-packages (from unstructured[md]->-r ../requirements.txt (line 21)) (4.66.5)\n",
      "Requirement already satisfied: psutil in /Users/tantusdata/projekty/FindJobOffers/.venv/lib/python3.9/site-packages (from unstructured[md]->-r ../requirements.txt (line 21)) (6.0.0)\n",
      "Requirement already satisfied: markdown in /Users/tantusdata/projekty/FindJobOffers/.venv/lib/python3.9/site-packages (from unstructured[md]->-r ../requirements.txt (line 21)) (3.6)\n",
      "Requirement already satisfied: anyio<5,>=3.5.0 in /Users/tantusdata/projekty/FindJobOffers/.venv/lib/python3.9/site-packages (from openai->-r ../requirements.txt (line 22)) (4.4.0)\n",
      "Requirement already satisfied: distro<2,>=1.7.0 in /Users/tantusdata/projekty/FindJobOffers/.venv/lib/python3.9/site-packages (from openai->-r ../requirements.txt (line 22)) (1.9.0)\n",
      "Requirement already satisfied: jiter<1,>=0.4.0 in /Users/tantusdata/projekty/FindJobOffers/.venv/lib/python3.9/site-packages (from openai->-r ../requirements.txt (line 22)) (0.5.0)\n",
      "Requirement already satisfied: sniffio in /Users/tantusdata/projekty/FindJobOffers/.venv/lib/python3.9/site-packages (from openai->-r ../requirements.txt (line 22)) (1.3.1)\n",
      "Requirement already satisfied: tokenizers>=0.13.0 in /Users/tantusdata/projekty/FindJobOffers/.venv/lib/python3.9/site-packages (from anthropic->-r ../requirements.txt (line 23)) (0.19.1)\n",
      "Requirement already satisfied: transformers<5.0.0,>=4.34.0 in /Users/tantusdata/projekty/FindJobOffers/.venv/lib/python3.9/site-packages (from sentence_transformers->-r ../requirements.txt (line 25)) (4.44.0)\n",
      "Requirement already satisfied: torch>=1.11.0 in /Users/tantusdata/projekty/FindJobOffers/.venv/lib/python3.9/site-packages (from sentence_transformers->-r ../requirements.txt (line 25)) (2.4.0)\n",
      "Requirement already satisfied: scikit-learn in /Users/tantusdata/projekty/FindJobOffers/.venv/lib/python3.9/site-packages (from sentence_transformers->-r ../requirements.txt (line 25)) (1.5.1)\n",
      "Requirement already satisfied: scipy in /Users/tantusdata/projekty/FindJobOffers/.venv/lib/python3.9/site-packages (from sentence_transformers->-r ../requirements.txt (line 25)) (1.13.1)\n",
      "Requirement already satisfied: huggingface-hub>=0.15.1 in /Users/tantusdata/projekty/FindJobOffers/.venv/lib/python3.9/site-packages (from sentence_transformers->-r ../requirements.txt (line 25)) (0.24.5)\n",
      "Requirement already satisfied: pytz>=2020.1 in /Users/tantusdata/projekty/FindJobOffers/.venv/lib/python3.9/site-packages (from pandas->-r ../requirements.txt (line 27)) (2024.1)\n",
      "Requirement already satisfied: tzdata>=2022.7 in /Users/tantusdata/projekty/FindJobOffers/.venv/lib/python3.9/site-packages (from pandas->-r ../requirements.txt (line 27)) (2024.1)\n",
      "Requirement already satisfied: aiohappyeyeballs>=2.3.0 in /Users/tantusdata/projekty/FindJobOffers/.venv/lib/python3.9/site-packages (from aiohttp<4.0.0,>=3.8.3->langchain->-r ../requirements.txt (line 11)) (2.3.5)\n",
      "Requirement already satisfied: aiosignal>=1.1.2 in /Users/tantusdata/projekty/FindJobOffers/.venv/lib/python3.9/site-packages (from aiohttp<4.0.0,>=3.8.3->langchain->-r ../requirements.txt (line 11)) (1.3.1)\n",
      "Requirement already satisfied: attrs>=17.3.0 in /Users/tantusdata/projekty/FindJobOffers/.venv/lib/python3.9/site-packages (from aiohttp<4.0.0,>=3.8.3->langchain->-r ../requirements.txt (line 11)) (24.2.0)\n",
      "Requirement already satisfied: frozenlist>=1.1.1 in /Users/tantusdata/projekty/FindJobOffers/.venv/lib/python3.9/site-packages (from aiohttp<4.0.0,>=3.8.3->langchain->-r ../requirements.txt (line 11)) (1.4.1)\n",
      "Requirement already satisfied: multidict<7.0,>=4.5 in /Users/tantusdata/projekty/FindJobOffers/.venv/lib/python3.9/site-packages (from aiohttp<4.0.0,>=3.8.3->langchain->-r ../requirements.txt (line 11)) (6.0.5)\n",
      "Requirement already satisfied: yarl<2.0,>=1.0 in /Users/tantusdata/projekty/FindJobOffers/.venv/lib/python3.9/site-packages (from aiohttp<4.0.0,>=3.8.3->langchain->-r ../requirements.txt (line 11)) (1.9.4)\n",
      "Requirement already satisfied: exceptiongroup>=1.0.2 in /Users/tantusdata/projekty/FindJobOffers/.venv/lib/python3.9/site-packages (from anyio<5,>=3.5.0->openai->-r ../requirements.txt (line 22)) (1.2.2)\n",
      "Requirement already satisfied: marshmallow<4.0.0,>=3.18.0 in /Users/tantusdata/projekty/FindJobOffers/.venv/lib/python3.9/site-packages (from dataclasses-json<0.7,>=0.5.7->langchain-community->-r ../requirements.txt (line 13)) (3.21.3)\n",
      "Requirement already satisfied: typing-inspect<1,>=0.4.0 in /Users/tantusdata/projekty/FindJobOffers/.venv/lib/python3.9/site-packages (from dataclasses-json<0.7,>=0.5.7->langchain-community->-r ../requirements.txt (line 13)) (0.9.0)\n",
      "Requirement already satisfied: starlette<0.38.0,>=0.37.2 in /Users/tantusdata/projekty/FindJobOffers/.venv/lib/python3.9/site-packages (from fastapi<1,>=0.90.1->langserve[all]->-r ../requirements.txt (line 14)) (0.37.2)\n",
      "Requirement already satisfied: gitdb<5,>=4.0.1 in /Users/tantusdata/projekty/FindJobOffers/.venv/lib/python3.9/site-packages (from gitpython<4.0.0,>=3.1.40->langchain-cli->-r ../requirements.txt (line 15)) (4.0.11)\n",
      "Requirement already satisfied: httpcore==1.* in /Users/tantusdata/projekty/FindJobOffers/.venv/lib/python3.9/site-packages (from httpx>=0.23.0->langserve[all]->-r ../requirements.txt (line 14)) (1.0.5)\n",
      "Requirement already satisfied: h11<0.15,>=0.13 in /Users/tantusdata/projekty/FindJobOffers/.venv/lib/python3.9/site-packages (from httpcore==1.*->httpx>=0.23.0->langserve[all]->-r ../requirements.txt (line 14)) (0.14.0)\n",
      "Requirement already satisfied: filelock in /Users/tantusdata/projekty/FindJobOffers/.venv/lib/python3.9/site-packages (from huggingface-hub>=0.15.1->sentence_transformers->-r ../requirements.txt (line 25)) (3.15.4)\n",
      "Requirement already satisfied: fsspec>=2023.5.0 in /Users/tantusdata/projekty/FindJobOffers/.venv/lib/python3.9/site-packages (from huggingface-hub>=0.15.1->sentence_transformers->-r ../requirements.txt (line 25)) (2024.6.1)\n",
      "Requirement already satisfied: zipp>=3.1.0 in /Users/tantusdata/projekty/FindJobOffers/.venv/lib/python3.9/site-packages (from importlib-resources>=3.2.0->matplotlib->-r ../requirements.txt (line 10)) (3.19.2)\n",
      "Requirement already satisfied: jsonpointer>=1.9 in /Users/tantusdata/projekty/FindJobOffers/.venv/lib/python3.9/site-packages (from jsonpatch<2.0,>=1.33->langchain_core->-r ../requirements.txt (line 12)) (3.0.0)\n",
      "Requirement already satisfied: annotated-types>=0.4.0 in /Users/tantusdata/projekty/FindJobOffers/.venv/lib/python3.9/site-packages (from pydantic<3,>=1->langchain->-r ../requirements.txt (line 11)) (0.7.0)\n",
      "Requirement already satisfied: pydantic-core==2.20.1 in /Users/tantusdata/projekty/FindJobOffers/.venv/lib/python3.9/site-packages (from pydantic<3,>=1->langchain->-r ../requirements.txt (line 11)) (2.20.1)\n",
      "Requirement already satisfied: setuptools>=42 in /Users/tantusdata/projekty/FindJobOffers/.venv/lib/python3.9/site-packages (from pyproject-toml<0.0.11,>=0.0.10->langserve[all]->-r ../requirements.txt (line 14)) (58.0.4)\n",
      "Requirement already satisfied: wheel in /Users/tantusdata/projekty/FindJobOffers/.venv/lib/python3.9/site-packages (from pyproject-toml<0.0.11,>=0.0.10->langserve[all]->-r ../requirements.txt (line 14)) (0.44.0)\n",
      "Requirement already satisfied: toml in /Users/tantusdata/projekty/FindJobOffers/.venv/lib/python3.9/site-packages (from pyproject-toml<0.0.11,>=0.0.10->langserve[all]->-r ../requirements.txt (line 14)) (0.10.2)\n",
      "Requirement already satisfied: jsonschema in /Users/tantusdata/projekty/FindJobOffers/.venv/lib/python3.9/site-packages (from pyproject-toml<0.0.11,>=0.0.10->langserve[all]->-r ../requirements.txt (line 14)) (4.23.0)\n",
      "Requirement already satisfied: six>=1.5 in /Users/tantusdata/projekty/FindJobOffers/.venv/lib/python3.9/site-packages (from python-dateutil>=2.7->matplotlib->-r ../requirements.txt (line 10)) (1.16.0)\n",
      "Requirement already satisfied: sympy in /Users/tantusdata/projekty/FindJobOffers/.venv/lib/python3.9/site-packages (from torch>=1.11.0->sentence_transformers->-r ../requirements.txt (line 25)) (1.13.1)\n",
      "Requirement already satisfied: networkx in /Users/tantusdata/projekty/FindJobOffers/.venv/lib/python3.9/site-packages (from torch>=1.11.0->sentence_transformers->-r ../requirements.txt (line 25)) (3.2.1)\n",
      "Requirement already satisfied: jinja2 in /Users/tantusdata/projekty/FindJobOffers/.venv/lib/python3.9/site-packages (from torch>=1.11.0->sentence_transformers->-r ../requirements.txt (line 25)) (3.1.4)\n",
      "Requirement already satisfied: safetensors>=0.4.1 in /Users/tantusdata/projekty/FindJobOffers/.venv/lib/python3.9/site-packages (from transformers<5.0.0,>=4.34.0->sentence_transformers->-r ../requirements.txt (line 25)) (0.4.4)\n",
      "Requirement already satisfied: sortedcontainers in /Users/tantusdata/projekty/FindJobOffers/.venv/lib/python3.9/site-packages (from trio~=0.17->selenium->-r ../requirements.txt (line 2)) (2.4.0)\n",
      "Requirement already satisfied: outcome in /Users/tantusdata/projekty/FindJobOffers/.venv/lib/python3.9/site-packages (from trio~=0.17->selenium->-r ../requirements.txt (line 2)) (1.3.0.post0)\n",
      "Requirement already satisfied: wsproto>=0.14 in /Users/tantusdata/projekty/FindJobOffers/.venv/lib/python3.9/site-packages (from trio-websocket~=0.9->selenium->-r ../requirements.txt (line 2)) (1.2.0)\n",
      "Requirement already satisfied: click<9.0.0,>=7.1.1 in /Users/tantusdata/projekty/FindJobOffers/.venv/lib/python3.9/site-packages (from typer<0.10.0,>=0.9.0->typer[all]<0.10.0,>=0.9.0->langchain-cli->-r ../requirements.txt (line 15)) (8.1.7)\n",
      "Requirement already satisfied: colorama<0.5.0,>=0.4.3 in /Users/tantusdata/projekty/FindJobOffers/.venv/lib/python3.9/site-packages (from typer[all]<0.10.0,>=0.9.0->langchain-cli->-r ../requirements.txt (line 15)) (0.4.6)\n",
      "Requirement already satisfied: shellingham<2.0.0,>=1.3.0 in /Users/tantusdata/projekty/FindJobOffers/.venv/lib/python3.9/site-packages (from typer[all]<0.10.0,>=0.9.0->langchain-cli->-r ../requirements.txt (line 15)) (1.5.4)\n",
      "Requirement already satisfied: rich<14.0.0,>=10.11.0 in /Users/tantusdata/projekty/FindJobOffers/.venv/lib/python3.9/site-packages (from typer[all]<0.10.0,>=0.9.0->langchain-cli->-r ../requirements.txt (line 15)) (13.7.1)\n",
      "Requirement already satisfied: pysocks!=1.5.7,<2.0,>=1.5.6 in /Users/tantusdata/projekty/FindJobOffers/.venv/lib/python3.9/site-packages (from urllib3[socks]<3,>=1.26->selenium->-r ../requirements.txt (line 2)) (1.7.1)\n",
      "Requirement already satisfied: importlib-metadata>=4.4 in /Users/tantusdata/projekty/FindJobOffers/.venv/lib/python3.9/site-packages (from markdown->unstructured[md]->-r ../requirements.txt (line 21)) (8.2.0)\n",
      "Requirement already satisfied: joblib in /Users/tantusdata/projekty/FindJobOffers/.venv/lib/python3.9/site-packages (from nltk->unstructured[md]->-r ../requirements.txt (line 21)) (1.4.2)\n",
      "Requirement already satisfied: threadpoolctl>=3.1.0 in /Users/tantusdata/projekty/FindJobOffers/.venv/lib/python3.9/site-packages (from scikit-learn->sentence_transformers->-r ../requirements.txt (line 25)) (3.5.0)\n",
      "Requirement already satisfied: deepdiff>=6.0 in /Users/tantusdata/projekty/FindJobOffers/.venv/lib/python3.9/site-packages (from unstructured-client->unstructured[md]->-r ../requirements.txt (line 21)) (7.0.1)\n",
      "Requirement already satisfied: jsonpath-python>=1.0.6 in /Users/tantusdata/projekty/FindJobOffers/.venv/lib/python3.9/site-packages (from unstructured-client->unstructured[md]->-r ../requirements.txt (line 21)) (1.0.6)\n",
      "Requirement already satisfied: mypy-extensions>=1.0.0 in /Users/tantusdata/projekty/FindJobOffers/.venv/lib/python3.9/site-packages (from unstructured-client->unstructured[md]->-r ../requirements.txt (line 21)) (1.0.0)\n",
      "Requirement already satisfied: pypdf>=4.0 in /Users/tantusdata/projekty/FindJobOffers/.venv/lib/python3.9/site-packages (from unstructured-client->unstructured[md]->-r ../requirements.txt (line 21)) (4.3.1)\n",
      "Requirement already satisfied: requests-toolbelt>=1.0.0 in /Users/tantusdata/projekty/FindJobOffers/.venv/lib/python3.9/site-packages (from unstructured-client->unstructured[md]->-r ../requirements.txt (line 21)) (1.0.0)\n",
      "Requirement already satisfied: ordered-set<4.2.0,>=4.1.0 in /Users/tantusdata/projekty/FindJobOffers/.venv/lib/python3.9/site-packages (from deepdiff>=6.0->unstructured-client->unstructured[md]->-r ../requirements.txt (line 21)) (4.1.0)\n",
      "Requirement already satisfied: smmap<6,>=3.0.1 in /Users/tantusdata/projekty/FindJobOffers/.venv/lib/python3.9/site-packages (from gitdb<5,>=4.0.1->gitpython<4.0.0,>=3.1.40->langchain-cli->-r ../requirements.txt (line 15)) (5.0.1)\n",
      "Requirement already satisfied: markdown-it-py>=2.2.0 in /Users/tantusdata/projekty/FindJobOffers/.venv/lib/python3.9/site-packages (from rich<14.0.0,>=10.11.0->typer[all]<0.10.0,>=0.9.0->langchain-cli->-r ../requirements.txt (line 15)) (3.0.0)\n",
      "Requirement already satisfied: pygments<3.0.0,>=2.13.0 in /Users/tantusdata/projekty/FindJobOffers/.venv/lib/python3.9/site-packages (from rich<14.0.0,>=10.11.0->typer[all]<0.10.0,>=0.9.0->langchain-cli->-r ../requirements.txt (line 15)) (2.18.0)\n",
      "Requirement already satisfied: MarkupSafe>=2.0 in /Users/tantusdata/projekty/FindJobOffers/.venv/lib/python3.9/site-packages (from jinja2->torch>=1.11.0->sentence_transformers->-r ../requirements.txt (line 25)) (2.1.5)\n",
      "Requirement already satisfied: jsonschema-specifications>=2023.03.6 in /Users/tantusdata/projekty/FindJobOffers/.venv/lib/python3.9/site-packages (from jsonschema->pyproject-toml<0.0.11,>=0.0.10->langserve[all]->-r ../requirements.txt (line 14)) (2023.12.1)\n",
      "Requirement already satisfied: referencing>=0.28.4 in /Users/tantusdata/projekty/FindJobOffers/.venv/lib/python3.9/site-packages (from jsonschema->pyproject-toml<0.0.11,>=0.0.10->langserve[all]->-r ../requirements.txt (line 14)) (0.35.1)\n",
      "Requirement already satisfied: rpds-py>=0.7.1 in /Users/tantusdata/projekty/FindJobOffers/.venv/lib/python3.9/site-packages (from jsonschema->pyproject-toml<0.0.11,>=0.0.10->langserve[all]->-r ../requirements.txt (line 14)) (0.20.0)\n",
      "Requirement already satisfied: mpmath<1.4,>=1.1.0 in /Users/tantusdata/projekty/FindJobOffers/.venv/lib/python3.9/site-packages (from sympy->torch>=1.11.0->sentence_transformers->-r ../requirements.txt (line 25)) (1.3.0)\n",
      "Requirement already satisfied: mdurl~=0.1 in /Users/tantusdata/projekty/FindJobOffers/.venv/lib/python3.9/site-packages (from markdown-it-py>=2.2.0->rich<14.0.0,>=10.11.0->typer[all]<0.10.0,>=0.9.0->langchain-cli->-r ../requirements.txt (line 15)) (0.1.2)\n"
     ]
    }
   ],
   "source": [
    "!pip install -r ../requirements.txt"
   ]
  },
  {
   "cell_type": "code",
   "execution_count": 3,
   "metadata": {},
   "outputs": [],
   "source": [
    "from pipeline.pipeline import get_person_company_tech\n",
    "from linkedin.linkedin_adapter import LinkedinAdapter\n",
    "import os \n",
    "from dotenv import load_dotenv"
   ]
  },
  {
   "cell_type": "code",
   "execution_count": 1,
   "metadata": {},
   "outputs": [
    {
     "name": "stderr",
     "output_type": "stream",
     "text": [
      "/Users/tantusdata/projekty/FindJobOffers/.venv/lib/python3.9/site-packages/urllib3/__init__.py:35: NotOpenSSLWarning: urllib3 v2 only supports OpenSSL 1.1.1+, currently the 'ssl' module is compiled with 'LibreSSL 2.8.3'. See: https://github.com/urllib3/urllib3/issues/3020\n",
      "  warnings.warn(\n"
     ]
    }
   ],
   "source": [
    "from pipeline.pipeline import get_person_company_tech\n",
    "from linkedin.linkedin_adapter import LinkedinAdapter\n",
    "import os \n",
    "from dotenv import load_dotenv\n",
    "\n",
    "\n",
    "load_dotenv()\n",
    "linkedin = LinkedinAdapter(os.environ['EMAIL_LINKEDIN'], os.environ['PASSWORD_LINKEDIN'])"
   ]
  },
  {
   "cell_type": "code",
   "execution_count": 16,
   "metadata": {},
   "outputs": [
    {
     "data": {
      "text/plain": [
       "<module 'web_search.job_info' from '/Users/tantusdata/projekty/FindJobOffers/src/web_search/job_info.py'>"
      ]
     },
     "execution_count": 16,
     "metadata": {},
     "output_type": "execute_result"
    }
   ],
   "source": [
    "import importlib\n",
    "import web_search.job_info\n",
    "importlib.reload(web_search.job_info)"
   ]
  },
  {
   "cell_type": "code",
   "execution_count": 22,
   "metadata": {},
   "outputs": [
    {
     "name": "stderr",
     "output_type": "stream",
     "text": [
      "INFO:httpx:HTTP Request: POST https://api.openai.com/v1/chat/completions \"HTTP/1.1 200 OK\"\n",
      "INFO:httpx:HTTP Request: POST https://api.openai.com/v1/chat/completions \"HTTP/1.1 200 OK\"\n",
      "INFO:httpx:HTTP Request: POST https://api.openai.com/v1/chat/completions \"HTTP/1.1 200 OK\"\n",
      "INFO:httpx:HTTP Request: POST https://api.openai.com/v1/chat/completions \"HTTP/1.1 200 OK\"\n"
     ]
    }
   ],
   "source": [
    "from pipeline.pipeline import get_person_company_tech\n",
    "result = get_person_company_tech(linkedin, 'https://www.linkedin.com/in/vitekfilip')\n"
   ]
  },
  {
   "cell_type": "code",
   "execution_count": 17,
   "metadata": {},
   "outputs": [],
   "source": [
    "from web_search.job_info import get_technologies\n",
    "\n",
    "r = get_technologies(\"https://try.commentsold.com/company/careers/apply-now/?gh_jid=6018952003\")\n"
   ]
  },
  {
   "cell_type": "code",
   "execution_count": 3,
   "metadata": {},
   "outputs": [],
   "source": [
    "people_links = [\"https://www.linkedin.com/in/vitekfilip\",\n",
    "        \"https://www.linkedin.com/in/anjali-savlani\",\n",
    "        \"https://www.linkedin.com/in/jens-meichsner\",\n",
    "        \"https://www.linkedin.com/in/mayerjonathan\",\n",
    "        \"https://www.linkedin.com/in/mayerjonathan\",\n",
    "        \"https://www.linkedin.com/in/cmortier\",\n",
    "        \"https://www.linkedin.com/in/adrianomartins9\",\n",
    "        \"https://www.linkedin.com/in/garance-vallat\",\n",
    "        \"https://www.linkedin.com/in/sandra-pfunder-394a21242\",\n",
    "        \"https://www.linkedin.com/in/sebastian-tritsch-99006677\",\n",
    "        \"https://www.linkedin.com/in/reem-farah-954b9a10b\",\n",
    "        \"https://www.linkedin.com/in/vincent-bremer-613b77101\",\n",
    "        \"https://www.linkedin.com/in/kaj-kolja-kleineberg\"]"
   ]
  },
  {
   "cell_type": "code",
   "execution_count": 4,
   "metadata": {},
   "outputs": [
    {
     "name": "stdout",
     "output_type": "stream",
     "text": [
      "https://www.linkedin.com/in/vitekfilip\n"
     ]
    },
    {
     "name": "stderr",
     "output_type": "stream",
     "text": [
      "INFO:httpx:HTTP Request: POST https://api.openai.com/v1/chat/completions \"HTTP/1.1 200 OK\"\n",
      "INFO:httpx:HTTP Request: POST https://api.openai.com/v1/chat/completions \"HTTP/1.1 200 OK\"\n",
      "INFO:httpx:HTTP Request: POST https://api.openai.com/v1/chat/completions \"HTTP/1.1 200 OK\"\n",
      "INFO:httpx:HTTP Request: POST https://api.openai.com/v1/chat/completions \"HTTP/1.1 200 OK\"\n"
     ]
    },
    {
     "name": "stdout",
     "output_type": "stream",
     "text": [
      "https://www.linkedin.com/in/anjali-savlani\n"
     ]
    },
    {
     "name": "stderr",
     "output_type": "stream",
     "text": [
      "INFO:httpx:HTTP Request: POST https://api.openai.com/v1/chat/completions \"HTTP/1.1 200 OK\"\n",
      "INFO:httpx:HTTP Request: POST https://api.openai.com/v1/chat/completions \"HTTP/1.1 200 OK\"\n",
      "INFO:httpx:HTTP Request: POST https://api.openai.com/v1/chat/completions \"HTTP/1.1 200 OK\"\n",
      "INFO:httpx:HTTP Request: POST https://api.openai.com/v1/chat/completions \"HTTP/1.1 200 OK\"\n"
     ]
    },
    {
     "name": "stdout",
     "output_type": "stream",
     "text": [
      "https://www.linkedin.com/in/jens-meichsner\n"
     ]
    },
    {
     "ename": "InvalidArgumentException",
     "evalue": "Message: invalid argument\n  (Session info: chrome-headless-shell=127.0.6533.99)\nStacktrace:\n0   chromedriver                        0x00000001033690b8 cxxbridge1$str$ptr + 1887276\n1   chromedriver                        0x0000000103361794 cxxbridge1$str$ptr + 1856264\n2   chromedriver                        0x0000000102f70694 cxxbridge1$string$len + 88116\n3   chromedriver                        0x0000000102f5b55c cxxbridge1$string$len + 1788\n4   chromedriver                        0x0000000102f59af0 core::str::slice_error_fail::he7b2aa4898bc357e + 60388\n5   chromedriver                        0x0000000102f5a48c core::str::slice_error_fail::he7b2aa4898bc357e + 62848\n6   chromedriver                        0x0000000102f72cdc cxxbridge1$string$len + 97916\n7   chromedriver                        0x0000000102fecd10 cxxbridge1$string$len + 597680\n8   chromedriver                        0x0000000102fec48c cxxbridge1$string$len + 595500\n9   chromedriver                        0x0000000102fa9474 cxxbridge1$string$len + 321044\n10  chromedriver                        0x0000000102faa0e4 cxxbridge1$string$len + 324228\n11  chromedriver                        0x0000000103330a9c cxxbridge1$str$ptr + 1656336\n12  chromedriver                        0x00000001033354f8 cxxbridge1$str$ptr + 1675372\n13  chromedriver                        0x0000000103316980 cxxbridge1$str$ptr + 1549556\n14  chromedriver                        0x0000000103335ca8 cxxbridge1$str$ptr + 1677340\n15  chromedriver                        0x0000000103308690 cxxbridge1$str$ptr + 1491460\n16  chromedriver                        0x0000000103352af0 cxxbridge1$str$ptr + 1795684\n17  chromedriver                        0x0000000103352c6c cxxbridge1$str$ptr + 1796064\n18  chromedriver                        0x00000001033613c8 cxxbridge1$str$ptr + 1855292\n19  libsystem_pthread.dylib             0x0000000190255f94 _pthread_start + 136\n20  libsystem_pthread.dylib             0x0000000190250d34 thread_start + 8\n",
     "output_type": "error",
     "traceback": [
      "\u001b[0;31m---------------------------------------------------------------------------\u001b[0m",
      "\u001b[0;31mInvalidArgumentException\u001b[0m                  Traceback (most recent call last)",
      "Cell \u001b[0;32mIn[4], line 4\u001b[0m\n\u001b[1;32m      2\u001b[0m \u001b[38;5;28;01mfor\u001b[39;00m person_link \u001b[38;5;129;01min\u001b[39;00m people_links:\n\u001b[1;32m      3\u001b[0m     \u001b[38;5;28mprint\u001b[39m(person_link)\n\u001b[0;32m----> 4\u001b[0m     abc\u001b[38;5;241m.\u001b[39mappend(\u001b[43mget_person_company_tech\u001b[49m\u001b[43m(\u001b[49m\u001b[43mlinkedin\u001b[49m\u001b[43m,\u001b[49m\u001b[43m \u001b[49m\u001b[43mperson_link\u001b[49m\u001b[43m)\u001b[49m)\n",
      "File \u001b[0;32m~/projekty/FindJobOffers/src/pipeline/pipeline.py:13\u001b[0m, in \u001b[0;36mget_person_company_tech\u001b[0;34m(linkedin, person_link)\u001b[0m\n\u001b[1;32m     11\u001b[0m company_link \u001b[38;5;241m=\u001b[39m linkedin\u001b[38;5;241m.\u001b[39mget_person_info(person_link)[\u001b[38;5;124m'\u001b[39m\u001b[38;5;124mcompany_url\u001b[39m\u001b[38;5;124m'\u001b[39m]\n\u001b[1;32m     12\u001b[0m job_board_link \u001b[38;5;241m=\u001b[39m find_job_board_link_pure(company_link)\n\u001b[0;32m---> 13\u001b[0m job_offers_links \u001b[38;5;241m=\u001b[39m \u001b[43mget_job_offers\u001b[49m\u001b[43m(\u001b[49m\u001b[43mjob_board_link\u001b[49m\u001b[43m)\u001b[49m\n\u001b[1;32m     14\u001b[0m company_technologies \u001b[38;5;241m=\u001b[39m get_job_offers_technologies(job_offers_links)\n\u001b[1;32m     15\u001b[0m \u001b[38;5;28;01mreturn\u001b[39;00m company_technologies, person_link, company_link, job_board_link, job_offers_links\n",
      "File \u001b[0;32m~/projekty/FindJobOffers/src/web_search/jobs_list.py:34\u001b[0m, in \u001b[0;36mget_job_offers\u001b[0;34m(job_board_link)\u001b[0m\n\u001b[1;32m     33\u001b[0m \u001b[38;5;28;01mdef\u001b[39;00m \u001b[38;5;21mget_job_offers\u001b[39m(job_board_link):\n\u001b[0;32m---> 34\u001b[0m     source_pages \u001b[38;5;241m=\u001b[39m \u001b[43mget_source_pages_iframe\u001b[49m\u001b[43m(\u001b[49m\u001b[43mjob_board_link\u001b[49m\u001b[43m)\u001b[49m\n\u001b[1;32m     35\u001b[0m     llm_texts \u001b[38;5;241m=\u001b[39m [get_processed_text(source_page, job_board_link) \u001b[38;5;28;01mfor\u001b[39;00m source_page \u001b[38;5;129;01min\u001b[39;00m source_pages]\n\u001b[1;32m     37\u001b[0m     warnings\u001b[38;5;241m.\u001b[39mfilterwarnings(\u001b[38;5;124m\"\u001b[39m\u001b[38;5;124mignore\u001b[39m\u001b[38;5;124m\"\u001b[39m, category\u001b[38;5;241m=\u001b[39m\u001b[38;5;167;01mUserWarning\u001b[39;00m)\n",
      "File \u001b[0;32m~/projekty/FindJobOffers/src/tools/tools.py:20\u001b[0m, in \u001b[0;36mget_source_pages_iframe\u001b[0;34m(url)\u001b[0m\n\u001b[1;32m     16\u001b[0m driver \u001b[38;5;241m=\u001b[39m webdriver\u001b[38;5;241m.\u001b[39mChrome(options\u001b[38;5;241m=\u001b[39mopts)\n\u001b[1;32m     18\u001b[0m \u001b[38;5;28;01mtry\u001b[39;00m:\n\u001b[1;32m     19\u001b[0m     \u001b[38;5;66;03m# Otwórz stronę internetową\u001b[39;00m\n\u001b[0;32m---> 20\u001b[0m     \u001b[43mdriver\u001b[49m\u001b[38;5;241;43m.\u001b[39;49m\u001b[43mget\u001b[49m\u001b[43m(\u001b[49m\u001b[43murl\u001b[49m\u001b[43m)\u001b[49m\n\u001b[1;32m     21\u001b[0m     SCROLL_PAUSE_TIME \u001b[38;5;241m=\u001b[39m \u001b[38;5;241m0.5\u001b[39m\n\u001b[1;32m     22\u001b[0m     \u001b[38;5;66;03m# Pobierz pełny HTML strony\u001b[39;00m\n",
      "File \u001b[0;32m~/projekty/FindJobOffers/.venv/lib/python3.9/site-packages/selenium/webdriver/remote/webdriver.py:363\u001b[0m, in \u001b[0;36mWebDriver.get\u001b[0;34m(self, url)\u001b[0m\n\u001b[1;32m    361\u001b[0m \u001b[38;5;28;01mdef\u001b[39;00m \u001b[38;5;21mget\u001b[39m(\u001b[38;5;28mself\u001b[39m, url: \u001b[38;5;28mstr\u001b[39m) \u001b[38;5;241m-\u001b[39m\u001b[38;5;241m>\u001b[39m \u001b[38;5;28;01mNone\u001b[39;00m:\n\u001b[1;32m    362\u001b[0m \u001b[38;5;250m    \u001b[39m\u001b[38;5;124;03m\"\"\"Loads a web page in the current browser session.\"\"\"\u001b[39;00m\n\u001b[0;32m--> 363\u001b[0m     \u001b[38;5;28;43mself\u001b[39;49m\u001b[38;5;241;43m.\u001b[39;49m\u001b[43mexecute\u001b[49m\u001b[43m(\u001b[49m\u001b[43mCommand\u001b[49m\u001b[38;5;241;43m.\u001b[39;49m\u001b[43mGET\u001b[49m\u001b[43m,\u001b[49m\u001b[43m \u001b[49m\u001b[43m{\u001b[49m\u001b[38;5;124;43m\"\u001b[39;49m\u001b[38;5;124;43murl\u001b[39;49m\u001b[38;5;124;43m\"\u001b[39;49m\u001b[43m:\u001b[49m\u001b[43m \u001b[49m\u001b[43murl\u001b[49m\u001b[43m}\u001b[49m\u001b[43m)\u001b[49m\n",
      "File \u001b[0;32m~/projekty/FindJobOffers/.venv/lib/python3.9/site-packages/selenium/webdriver/remote/webdriver.py:354\u001b[0m, in \u001b[0;36mWebDriver.execute\u001b[0;34m(self, driver_command, params)\u001b[0m\n\u001b[1;32m    352\u001b[0m response \u001b[38;5;241m=\u001b[39m \u001b[38;5;28mself\u001b[39m\u001b[38;5;241m.\u001b[39mcommand_executor\u001b[38;5;241m.\u001b[39mexecute(driver_command, params)\n\u001b[1;32m    353\u001b[0m \u001b[38;5;28;01mif\u001b[39;00m response:\n\u001b[0;32m--> 354\u001b[0m     \u001b[38;5;28;43mself\u001b[39;49m\u001b[38;5;241;43m.\u001b[39;49m\u001b[43merror_handler\u001b[49m\u001b[38;5;241;43m.\u001b[39;49m\u001b[43mcheck_response\u001b[49m\u001b[43m(\u001b[49m\u001b[43mresponse\u001b[49m\u001b[43m)\u001b[49m\n\u001b[1;32m    355\u001b[0m     response[\u001b[38;5;124m\"\u001b[39m\u001b[38;5;124mvalue\u001b[39m\u001b[38;5;124m\"\u001b[39m] \u001b[38;5;241m=\u001b[39m \u001b[38;5;28mself\u001b[39m\u001b[38;5;241m.\u001b[39m_unwrap_value(response\u001b[38;5;241m.\u001b[39mget(\u001b[38;5;124m\"\u001b[39m\u001b[38;5;124mvalue\u001b[39m\u001b[38;5;124m\"\u001b[39m, \u001b[38;5;28;01mNone\u001b[39;00m))\n\u001b[1;32m    356\u001b[0m     \u001b[38;5;28;01mreturn\u001b[39;00m response\n",
      "File \u001b[0;32m~/projekty/FindJobOffers/.venv/lib/python3.9/site-packages/selenium/webdriver/remote/errorhandler.py:229\u001b[0m, in \u001b[0;36mErrorHandler.check_response\u001b[0;34m(self, response)\u001b[0m\n\u001b[1;32m    227\u001b[0m         alert_text \u001b[38;5;241m=\u001b[39m value[\u001b[38;5;124m\"\u001b[39m\u001b[38;5;124malert\u001b[39m\u001b[38;5;124m\"\u001b[39m]\u001b[38;5;241m.\u001b[39mget(\u001b[38;5;124m\"\u001b[39m\u001b[38;5;124mtext\u001b[39m\u001b[38;5;124m\"\u001b[39m)\n\u001b[1;32m    228\u001b[0m     \u001b[38;5;28;01mraise\u001b[39;00m exception_class(message, screen, stacktrace, alert_text)  \u001b[38;5;66;03m# type: ignore[call-arg]  # mypy is not smart enough here\u001b[39;00m\n\u001b[0;32m--> 229\u001b[0m \u001b[38;5;28;01mraise\u001b[39;00m exception_class(message, screen, stacktrace)\n",
      "\u001b[0;31mInvalidArgumentException\u001b[0m: Message: invalid argument\n  (Session info: chrome-headless-shell=127.0.6533.99)\nStacktrace:\n0   chromedriver                        0x00000001033690b8 cxxbridge1$str$ptr + 1887276\n1   chromedriver                        0x0000000103361794 cxxbridge1$str$ptr + 1856264\n2   chromedriver                        0x0000000102f70694 cxxbridge1$string$len + 88116\n3   chromedriver                        0x0000000102f5b55c cxxbridge1$string$len + 1788\n4   chromedriver                        0x0000000102f59af0 core::str::slice_error_fail::he7b2aa4898bc357e + 60388\n5   chromedriver                        0x0000000102f5a48c core::str::slice_error_fail::he7b2aa4898bc357e + 62848\n6   chromedriver                        0x0000000102f72cdc cxxbridge1$string$len + 97916\n7   chromedriver                        0x0000000102fecd10 cxxbridge1$string$len + 597680\n8   chromedriver                        0x0000000102fec48c cxxbridge1$string$len + 595500\n9   chromedriver                        0x0000000102fa9474 cxxbridge1$string$len + 321044\n10  chromedriver                        0x0000000102faa0e4 cxxbridge1$string$len + 324228\n11  chromedriver                        0x0000000103330a9c cxxbridge1$str$ptr + 1656336\n12  chromedriver                        0x00000001033354f8 cxxbridge1$str$ptr + 1675372\n13  chromedriver                        0x0000000103316980 cxxbridge1$str$ptr + 1549556\n14  chromedriver                        0x0000000103335ca8 cxxbridge1$str$ptr + 1677340\n15  chromedriver                        0x0000000103308690 cxxbridge1$str$ptr + 1491460\n16  chromedriver                        0x0000000103352af0 cxxbridge1$str$ptr + 1795684\n17  chromedriver                        0x0000000103352c6c cxxbridge1$str$ptr + 1796064\n18  chromedriver                        0x00000001033613c8 cxxbridge1$str$ptr + 1855292\n19  libsystem_pthread.dylib             0x0000000190255f94 _pthread_start + 136\n20  libsystem_pthread.dylib             0x0000000190250d34 thread_start + 8\n"
     ]
    }
   ],
   "source": [
    "abc = []\n",
    "for person_link in people_links:\n",
    "    print(person_link)\n",
    "    abc.append(get_person_company_tech(linkedin, person_link))"
   ]
  },
  {
   "cell_type": "code",
   "execution_count": 5,
   "metadata": {},
   "outputs": [],
   "source": [
    "get_person_company_tech(linkedin, person_link)"
   ]
  }
 ],
 "metadata": {
  "kernelspec": {
   "display_name": "Python 3",
   "language": "python",
   "name": "python3"
  },
  "language_info": {
   "codemirror_mode": {
    "name": "ipython",
    "version": 3
   },
   "file_extension": ".py",
   "mimetype": "text/x-python",
   "name": "python",
   "nbconvert_exporter": "python",
   "pygments_lexer": "ipython3",
   "version": "3.9.6"
  }
 },
 "nbformat": 4,
 "nbformat_minor": 2
}
