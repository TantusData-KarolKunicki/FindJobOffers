{
 "cells": [
  {
   "cell_type": "code",
   "execution_count": 9,
   "metadata": {},
   "outputs": [],
   "source": [
    "import pandas as pd\n",
    "import matplotlib.pyplot as plt\n",
    "import ast\n",
    "\n",
    "def create_bar_plot(data):\n",
    "    filtered_data = {k: v for k, v in data.items() if v != 0}\n",
    "    labels = list(filtered_data.keys())\n",
    "    values = list(filtered_data.values())\n",
    "\n",
    "    plt.figure(figsize=(8, 2))\n",
    "    bars = plt.bar(labels, values, color='blue')\n",
    "    plt.xlabel('Technologie')\n",
    "    plt.ylabel('Wartości')\n",
    "    plt.title('Technologie firmy')\n",
    "\n",
    "    for bar in bars:\n",
    "        yval = bar.get_height()\n",
    "        plt.text(bar.get_x() + bar.get_width()/2, yval, int(yval), ha='center', va='bottom')\n",
    "    plt.show()\n",
    "\n",
    "\n",
    "    \n",
    "results_file = 'results.csv'\n",
    "# Wczytywanie wyników z pliku CSV do DataFrame pandas\n",
    "df = pd.read_csv(results_file)"
   ]
  },
  {
   "cell_type": "code",
   "execution_count": 8,
   "metadata": {},
   "outputs": [
    {
     "name": "stdout",
     "output_type": "stream",
     "text": [
      "//*[contains(translate(text(), 'ABCDEFGHIJKLMNOPQRSTUVWXYZ', 'abcdefghijklmnopqrstuvwxyz'), 'ABBAA')]\n"
     ]
    }
   ],
   "source": [
    "a = 'ABBAA'\n",
    "print((\"//*[contains(translate(text(), 'ABCDEFGHIJKLMNOPQRSTUVWXYZ', 'abcdefghijklmnopqrstuvwxyz'), '\"\n",
    "                     + a + \"')]\"\n",
    "                ))"
   ]
  },
  {
   "cell_type": "code",
   "execution_count": 22,
   "metadata": {},
   "outputs": [
    {
     "name": "stdout",
     "output_type": "stream",
     "text": [
      "person link: https://www.linkedin.com/in/chrisdagostino1\n",
      "\n",
      "        company_link: http://www.fisglobal.com/\n",
      "\n",
      "        job_board_link: https://careers.fisglobal.com/us/en\n",
      "\n",
      "job_offers_links: \n",
      "('Client Services', 'https://careers.fisglobal.com/us/en/c/client-services-jobs')\n",
      "('Information Technology', 'https://careers.fisglobal.com/us/en/c/information-technology-jobs')\n",
      "('Product Development', 'https://careers.fisglobal.com/us/en/c/product-development-jobs')\n",
      "('Professional Services & Consulting', 'https://careers.fisglobal.com/us/en/c/professional-services-consulting-jobs')\n",
      "('Sales', 'https://careers.fisglobal.com/us/en/c/sales-jobs')\n",
      "('FIS University Program/Interns', 'https://careers.fisglobal.com/us/en/c/fis-university-programinterns-jobs')\n"
     ]
    },
    {
     "data": {
      "image/png": "[encoded data removed]",
      "text/plain": [
       "<Figure size 800x200 with 1 Axes>"
      ]
     },
     "metadata": {},
     "output_type": "display_data"
    }
   ],
   "source": [
    "idx = 17\n",
    "company_technologies, person_link, company_link, job_board_link, job_offers_links = df.iloc[idx]\n",
    "job_offers_links = ast.literal_eval(job_offers_links)\n",
    "company_technologies = ast.literal_eval(company_technologies)\n",
    "print(f\"\"\"person link: {person_link}\\n\n",
    "        company_link: {company_link}\\n\n",
    "        job_board_link: {job_board_link}\\n\"\"\")\n",
    "print(\"job_offers_links: \")\n",
    "for job_offer_link in job_offers_links.items():\n",
    "    print(job_offer_link)\n",
    "create_bar_plot(company_technologies)"
   ]
  }
 ],
 "metadata": {
  "kernelspec": {
   "display_name": "Python 3",
   "language": "python",
   "name": "python3"
  },
  "language_info": {
   "codemirror_mode": {
    "name": "ipython",
    "version": 3
   },
   "file_extension": ".py",
   "mimetype": "text/x-python",
   "name": "python",
   "nbconvert_exporter": "python",
   "pygments_lexer": "ipython3",
   "version": "3.9.6"
  }
 },
 "nbformat": 4,
 "nbformat_minor": 2
}
